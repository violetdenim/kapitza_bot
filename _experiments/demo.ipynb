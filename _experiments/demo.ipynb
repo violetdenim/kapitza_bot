{
 "cells": [
  {
   "cell_type": "code",
   "execution_count": null,
   "metadata": {},
   "outputs": [],
   "source": [
    "from pipeline import Pipeline\n",
    "pipe = Pipeline()\n",
    "result = pipe.process(user_name=\"Василий\", file_to_process=None, user_message=\"hello\", output_mode=\"audio\")"
   ]
  }
 ],
 "metadata": {
  "language_info": {
   "name": "python"
  }
 },
 "nbformat": 4,
 "nbformat_minor": 2
}
