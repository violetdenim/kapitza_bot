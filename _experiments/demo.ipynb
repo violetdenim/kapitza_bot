{
 "cells": [
  {
   "cell_type": "code",
   "execution_count": 7,
   "metadata": {},
   "outputs": [],
   "source": [
    "import os\n",
    "def dataset_from_text_file(file_names):\n",
    "    if isinstance(file_names, str):\n",
    "        file_names = [file_names]\n",
    "    for file_name in file_names:\n",
    "        with open(file_name, 'r') as f:\n",
    "            text = f.read()\n",
    "        print(text)\n",
    "    return None\n",
    "data_dir = '../docs/interviews'\n",
    "files = [os.path.join(data_dir, f) for f in os.listdir(data_dir)]\n",
    "with open(files[0], 'r') as f:\n",
    "    text = f.read()\n",
    "# kapitza = dataset_from_text_file(file_names=files)"
   ]
  },
  {
   "cell_type": "code",
   "execution_count": 6,
   "metadata": {},
   "outputs": [],
   "source": [
    "# !pip install langchain spacy\n",
    "# !python -m spacy download en_core_web_sm\n",
    "from langchain.text_splitter import SpacyTextSplitter\n",
    "text_splitter = SpacyTextSplitter(chunk_size=256, chunk_overlap=256//4)"
   ]
  },
  {
   "cell_type": "code",
   "execution_count": 8,
   "metadata": {},
   "outputs": [
    {
     "name": "stderr",
     "output_type": "stream",
     "text": [
      "/home/zipa/miniconda3/envs/unsloth_env/lib/python3.11/site-packages/tqdm/auto.py:21: TqdmWarning: IProgress not found. Please update jupyter and ipywidgets. See https://ipywidgets.readthedocs.io/en/stable/user_install.html\n",
      "  from .autonotebook import tqdm as notebook_tqdm\n"
     ]
    },
    {
     "name": "stdout",
     "output_type": "stream",
     "text": [
      "🦥 Unsloth: Will patch your computer to enable 2x faster free finetuning.\n",
      "==((====))==  Unsloth 2024.9.post3: Fast Llama patching. Transformers = 4.45.0.\n",
      "   \\\\   /|    GPU: NVIDIA GeForce RTX 4090. Max memory: 23.635 GB. Platform = Linux.\n",
      "O^O/ \\_/ \\    Pytorch: 2.4.1. CUDA = 8.9. CUDA Toolkit = 12.1.\n",
      "\\        /    Bfloat16 = TRUE. FA [Xformers = 0.0.28.post1. FA2 = False]\n",
      " \"-____-\"     Free Apache license: http://github.com/unslothai/unsloth\n"
     ]
    }
   ],
   "source": [
    "# functions to train and test\n",
    "from unsloth import FastLanguageModel\n",
    "from unsloth.chat_templates import get_chat_template\n",
    "base_model, tokenizer = FastLanguageModel.from_pretrained( model_name = \"unsloth/llama-3-8b-Instruct-bnb-4bit\", # \"model\",\n",
    "    max_seq_length = 8192, dtype = None, load_in_4bit = True)\n",
    "tokenizer = get_chat_template(tokenizer, chat_template = \"llama-3\", \n",
    "    mapping = {\"role\" : \"from\", \"content\" : \"value\", \"user\" : \"human\", \"assistant\" : \"gpt\"}, # ShareGPT style\n",
    ")\n",
    "FastLanguageModel.for_inference(base_model) \n",
    "\n",
    "def ask_llm(prompt, user, n_rep=1):\n",
    "    inputs = tokenizer.apply_chat_template( [{\"system\": prompt,\\\n",
    "                                          \"from\": \"human\", \\\n",
    "                                          \"value\": user}],\n",
    "    tokenize = True, add_generation_prompt = True, return_tensors = \"pt\").to(base_model.device)\n",
    "    questions = []\n",
    "    for _ in range(n_rep):\n",
    "        outputs = base_model.generate(input_ids = inputs, max_new_tokens = 128, use_cache = True)\n",
    "        full_output = tokenizer.batch_decode(outputs)\n",
    "        answer = full_output[0].split('|end_header_id|>\\n\\n')[-1].rstrip('<|eot_id|>')\n",
    "        questions.append(answer)\n",
    "    \n",
    "    return questions[0] if len(questions) == 1 else questions"
   ]
  },
  {
   "cell_type": "code",
   "execution_count": 9,
   "metadata": {},
   "outputs": [
    {
     "name": "stderr",
     "output_type": "stream",
     "text": [
      "The attention mask is not set and cannot be inferred from input because pad token is same as eos token. As a consequence, you may observe unexpected behavior. Please pass your input's `attention_mask` to obtain reliable results.\n"
     ]
    }
   ],
   "source": [
    "prompt1 = \"\"\"Ниже дан текст в форме вопроса, адресованному Сергею Капице. Пожалуйста, выведи новый {text}, представляющий из себя сокращенный вопрос,перепиcанный простыми словами.\n",
    "[вопрос]: {question}.\n",
    "Выведи ответ в формате JSON, используя только русский язык: {\"question\": {text}}.\"\"\"\n",
    "prompt2 = \"\"\"Ниже дан текст в форме вопроса, адресованному Сергею Капице и его ответ.\n",
    "Пожалуйста, выведи новый {text}, представляющий из себя сокращенный ответ, сохранивший стиль. Ответ должен по смыслу чётко соответствовать вопросу.\n",
    "[вопрос]: {question}\n",
    "[ответ]: {answer}\n",
    "Выведи ответ в формате JSON, используя только русский язык: {\"answer\": {answer}}.\"\"\"\n",
    "\n",
    "prompt3 = \"\"\"На вход ты получил ```Текст```. Выдели несколько тем в тексте и перепиши его в виде отдельных абзацев, сохранив стиль.\"\"\"\n",
    "prompt4 = \"\"\"На вход ты получил ```Ответ```. Придумай вопрос, подходящий к такому ответу.\"\"\"\n",
    "question = \"\"\"Если взять поколения кому сегодня за сорок, навскидку они процитируют: \"О сколько нам открытий чудных готовит просвещенья дух...\" Так кто был популярнее, Вы, Сергей Петрович, или Александр Сергеевич?\"\"\"\n",
    "answer = \"\"\"Не преувеличивайте, Пушкин, конечно, был популярнее. Алла Пугачева была популярнее...  Да, это стихотворение стало нашим брендом. Эпиграф нашел наш режиссер Левкович. Кстати, это стихотворение никогда не было опубликовано в сочинениях Пушкина. Оно рассеяно у него в отрывках... У Натана Эйдельмана есть целое эссе на эту тему.  Название же передачи - \"Очевидное-невероятное\" - предложила моя помощница Железова. По-моему, до этого оно появлялось в фильмах, снятых Киевской киностудией. Сегодня нам приходится это словосочетание защищать, поскольку его уже пытались несколько раз украсть. Мы даже специально получили авторское свидетельство на название телепередачи - \"Очевидное-невероятное\".\"\"\"\n",
    "\n",
    "import json\n",
    "\n",
    "new_question = json.loads(ask_llm(\"\", prompt1.replace(\"{question}\", question)))['question']\n",
    "new_answer = json.loads(ask_llm(\"\", prompt2.replace(\"{question}\", new_question).replace(\"{answer}\", answer)))['answer']\n",
    "# ask_llm(\"\", prompt2.replace(\"{question}\", question).replace(\"{answer}\", answer))"
   ]
  },
  {
   "cell_type": "code",
   "execution_count": 10,
   "metadata": {},
   "outputs": [],
   "source": [
    "prompt3 = \"\"\"На вход ты получил ```Текст```. Выдели несколько тем в тексте и перепиши его в виде отдельных абзацев, сохранив стиль.\"\"\"\n",
    "prompt3 = \"\"\"Ниже дан текст рассуждений Сергея Капицы. Перепиши этот текст в виде набора тезисов, сохранив стиль.\n",
    "[текст]: {text}.\n",
    "Выведи ответ в формате JSON, используя только русский язык: {\"theme0\": {тезис0}, \"theme1\": {тезис1}, ...}. Не добавляй больше ничего к выдаче.\"\"\"\n",
    "ret = ask_llm(\"\", prompt3.replace(\"{text}\", answer))"
   ]
  },
  {
   "cell_type": "code",
   "execution_count": 15,
   "metadata": {},
   "outputs": [
    {
     "name": "stdout",
     "output_type": "stream",
     "text": [
      "3\n"
     ]
    },
    {
     "name": "stderr",
     "output_type": "stream",
     "text": [
      "/home/zipa/miniconda3/envs/unsloth_env/lib/python3.11/site-packages/spacy/pipeline/lemmatizer.py:211: UserWarning: [W108] The rule-based lemmatizer did not find POS annotation for one or more tokens. Check that your pipeline includes components that assign token.pos, typically 'tagger'+'attribute_ruler' or 'morphologizer'.\n",
      "  warnings.warn(Warnings.W108)\n"
     ]
    }
   ],
   "source": [
    "# print(*[ans.strip() for ans in answer.split('.') if len(ans)], sep = '.\\n')\n",
    "items = text_splitter.split_text(answer)\n",
    "print(len(items))"
   ]
  },
  {
   "cell_type": "code",
   "execution_count": 22,
   "metadata": {},
   "outputs": [
    {
     "data": {
      "text/plain": [
       "'Если взять поколения кому сегодня за сорок, навскидку они процитируют: \"О сколько нам открытий чудных готовит просвещенья дух...\" Так кто был популярнее, Вы, Сергей Петрович, или Александр Сергеевич?'"
      ]
     },
     "execution_count": 22,
     "metadata": {},
     "output_type": "execute_result"
    }
   ],
   "source": [
    "question"
   ]
  },
  {
   "cell_type": "code",
   "execution_count": 67,
   "metadata": {},
   "outputs": [
    {
     "name": "stdout",
     "output_type": "stream",
     "text": [
      "{\"evaluation\": 2} Если взять поколения кому сегодня за сорок, навскидку они процитируют: \"О сколько нам открытий чудных готовит просвещенья дух...\" Так кто был популярнее, Вы, Сергей Петрович, или Александр Сергеевич? Не преувеличивайте, Пушкин, конечно, был популярнее. Алла Пугачева была популярнее...  Да, это стихотворение стало нашим брендом. Эпиграф нашел наш режиссер Левкович. Кстати, это стихотворение никогда не было опубликовано в сочинениях Пушкина. Оно рассеяно у него в отрывках... У Натана Эйдельмана есть целое эссе на эту тему.  Название же передачи - \"Очевидное-невероятное\" - предложила моя помощница Железова. По-моему, до этого оно появлялось в фильмах, снятых Киевской киностудией. Сегодня нам приходится это словосочетание защищать, поскольку его уже пытались несколько раз украсть. Мы даже специально получили авторское свидетельство на название телепередачи - \"Очевидное-невероятное\".\n",
      "{\"evaluation\": 4} Если взять поколения кому сегодня за сорок, навскидку они процитируют: \"О сколько нам открытий чудных готовит просвещенья дух...\" Так кто был популярнее, Вы, Сергей Петрович, или Александр Сергеевич? Не преувеличивайте, Пушкин был популярнее. Алла Пугачева была популярнее, и это стихотворение стало нашим брендом.\n",
      "{\"evaluation\": 1} Кто был более известен, Сергей Капица или Пушкин? Не преувеличивайте, Пушкин, конечно, был популярнее. Алла Пугачева была популярнее...  Да, это стихотворение стало нашим брендом. Эпиграф нашел наш режиссер Левкович. Кстати, это стихотворение никогда не было опубликовано в сочинениях Пушкина. Оно рассеяно у него в отрывках... У Натана Эйдельмана есть целое эссе на эту тему.  Название же передачи - \"Очевидное-невероятное\" - предложила моя помощница Железова. По-моему, до этого оно появлялось в фильмах, снятых Киевской киностудией. Сегодня нам приходится это словосочетание защищать, поскольку его уже пытались несколько раз украсть. Мы даже специально получили авторское свидетельство на название телепередачи - \"Очевидное-невероятное\".\n",
      "{\"evaluation\": 1} Кто был более известен, Сергей Капица или Пушкин? Не преувеличивайте, Пушкин был популярнее. Алла Пугачева была популярнее, и это стихотворение стало нашим брендом.\n"
     ]
    }
   ],
   "source": [
    "prompt_eval = \"\"\"Ниже дана пара вопрос-ответ, оцени их согласованность по логике по шкале от 0 до 5.\n",
    "0 - вопрос и ответ не соотносятся друг с другом.\n",
    "1 - в ответе слишком много лишних слов.\n",
    "2 - в ответе много деталей, о которых никто не спрашивал.\n",
    "3 - в ответе содержатся детали, не соответствующие вопросу.\n",
    "4 - вопрос и ответ почти походят на диалог, но есть небольшая несогласованность, нечёткость.\n",
    "5 - вопрос и ответ идеально подходят друг к другу.\n",
    "[вопрос]: {question}\n",
    "[ответ]: {answer}\n",
    "Выведи оценку {value} в виде JSON: {\"evaluation\": {value}}. Не добавляй анализ и постронний текст.\"\"\"\n",
    "for q in [question, new_question]:\n",
    "    for a in [answer, new_answer]:\n",
    "        text = ask_llm(\"\", prompt_eval.replace(\"{question}\", q).replace(\"{answer}\", a))\n",
    "        print(text, q, a)"
   ]
  },
  {
   "cell_type": "code",
   "execution_count": 49,
   "metadata": {},
   "outputs": [
    {
     "data": {
      "text/plain": [
       "'Не преувеличивайте, Пушкин был популярнее. Алла Пугачева была популярнее, и это стихотворение стало нашим брендом.'"
      ]
     },
     "execution_count": 49,
     "metadata": {},
     "output_type": "execute_result"
    }
   ],
   "source": [
    "new_answer"
   ]
  },
  {
   "cell_type": "markdown",
   "metadata": {},
   "source": [
    "CHATGPT prompt"
   ]
  },
  {
   "cell_type": "code",
   "execution_count": 25,
   "metadata": {},
   "outputs": [],
   "source": [
    "chat_prompt = f\"\"\"Дан вопрос:\n",
    "```{question}```\n",
    "Дан ответ на этот вопрос:\n",
    "```{answer}```\n",
    "Вопрос и ответ очень размыты.\n",
    "1. Перепиши вопрос простыми словами, выдели из ответа главную мысль и перепиши с сохранением стиля.\n",
    "2. Раздели ответ на набор тезисов. Для каждого тезиса подготовь простой и лаконичный вопрос. Перепиши каждый тезис в виде ответа на этот вопрос с сохранением изначального стиля. Все сущности в вопросе должны быть чётко определены, ответ может ссылаться на понятия, ясные из контекста.\n",
    "3. Все пары получившихся вопросов и ответов выведи массива пар в формате json с полями \"question\", \"answer\".\"\"\""
   ]
  },
  {
   "cell_type": "markdown",
   "metadata": {},
   "source": [
    "[\n",
    "    {\n",
    "        \"question\": \"Кто из вас более известен: вы или Пушкин?\",\n",
    "        \"answer\": \"Не преувеличивайте, Пушкин, конечно, был популярнее. Алла Пугачева была популярнее...\"\n",
    "    },\n",
    "    {\n",
    "        \"question\": \"Почему стихотворение стало брендом вашей передачи?\",\n",
    "        \"answer\": \"Да, это стихотворение стало нашим брендом. Эпиграф нашел наш режиссер Левкович.\"\n",
    "    },\n",
    "    {\n",
    "        \"question\": \"Где можно найти полное стихотворение Пушкина?\",\n",
    "        \"answer\": \"Кстати, это стихотворение никогда не было опубликовано в сочинениях Пушкина. Оно рассеяно у него в отрывках...\"\n",
    "    },\n",
    "    {\n",
    "        \"question\": \"Есть ли исследование о стихотворении Пушкина?\",\n",
    "        \"answer\": \"У Натана Эйдельмана есть целое эссе на эту тему.\"\n",
    "    },\n",
    "    {\n",
    "        \"question\": \"Кто предложил название вашей передачи 'Очевидное-невероятное'?\",\n",
    "        \"answer\": \"Название же передачи - 'Очевидное-невероятное' - предложила моя помощница Железова.\"\n",
    "    },\n",
    "    {\n",
    "        \"question\": \"Где ранее использовалось это название?\",\n",
    "        \"answer\": \"По-моему, до этого оно появлялось в фильмах, снятых Киевской киностудией.\"\n",
    "    },\n",
    "    {\n",
    "        \"question\": \"Почему вы защищаете название вашей передачи?\",\n",
    "        \"answer\": \"Сегодня нам приходится это словосочетание защищать, поскольку его уже пытались несколько раз украсть.\"\n",
    "    },\n",
    "    {\n",
    "        \"question\": \"Как вы защищаете название вашей передачи?\",\n",
    "        \"answer\": \"Мы даже специально получили авторское свидетельство на название телепередачи - 'Очевидное-невероятное'.\"\n",
    "    }\n",
    "]"
   ]
  },
  {
   "cell_type": "code",
   "execution_count": 42,
   "metadata": {},
   "outputs": [],
   "source": [
    "from datasets import Dataset\n",
    "\n",
    "def interview_dataset(file=\"../finetuning/int1.txt\"):\n",
    "    with open(file, 'r') as f:\n",
    "        text = f.read()\n",
    "    dataset = []\n",
    "    for conv in data.split('\\n\\n'):\n",
    "        if len(conv):\n",
    "            roles = ['user', 'assistant']\n",
    "            play = []\n",
    "            for i_role, item in enumerate(conv.split('\\n')):\n",
    "                play.append({'content': item.strip('–\\t').strip(' '), 'role': roles[i_role % 2]})\n",
    "            dataset.append(play)    \n",
    "    return Dataset.from_dict({'conversations': dataset})\n",
    "    # [{'content': question, 'role': 'user'}, {'content': answer, 'role': 'assistant'}]\n",
    "\n",
    "data = interview_dataset()"
   ]
  },
  {
   "cell_type": "code",
   "execution_count": 63,
   "metadata": {},
   "outputs": [],
   "source": [
    "from datasets import load_dataset\n",
    "from torch.utils.data import DataLoader\n",
    "\n",
    "cv_17 = load_dataset(\"mozilla-foundation/common_voice_17_0\", \"ru\", split=\"train\", trust_remote_code=True)\n",
    "# dataloader = DataLoader(cv_17, batch_size=32)"
   ]
  },
  {
   "cell_type": "code",
   "execution_count": 67,
   "metadata": {},
   "outputs": [],
   "source": [
    "items = cv_17['sentence']"
   ]
  },
  {
   "cell_type": "code",
   "execution_count": 74,
   "metadata": {},
   "outputs": [],
   "source": [
    "for s in items:\n",
    "    if 'Капица' in s:\n",
    "        print(s)"
   ]
  },
  {
   "cell_type": "code",
   "execution_count": 13,
   "metadata": {},
   "outputs": [],
   "source": [
    "#cv_17['path']\n",
    "data_folder = \"/home/zipa/.cache/huggingface/datasets/downloads/extracted/2c4bea01a26146afd7522d1621e2aaab4c666abe3068f29739ef3ce65c6c4814/ru_train_0/\""
   ]
  },
  {
   "cell_type": "code",
   "execution_count": null,
   "metadata": {},
   "outputs": [],
   "source": [
    "from TTS.api import TTS\n",
    "tts = TTS(\"tts_models/multilingual/multi-dataset/xtts_v2\", gpu=True)\n",
    "\n",
    "# generate speech by cloning a voice using default settings\n",
    "tts.tts_to_file(text=\"В этом варианте тикстуру кожи для каждого кадра этого видео генерирует отдельная нейросеть. Так получился текущий вариант.\",\n",
    "                file_path=\"output.wav\",\n",
    "                speaker_wav=\"/path/to/target/speaker.wav\",\n",
    "                language=\"ru\")"
   ]
  },
  {
   "cell_type": "code",
   "execution_count": 58,
   "metadata": {},
   "outputs": [],
   "source": [
    "def walls2code(has_left, has_down, has_right, has_up):\n",
    "    code = None\n",
    "    if has_left:\n",
    "        if has_down:\n",
    "            if has_up:\n",
    "                if has_right:\n",
    "                    code = 15\n",
    "                else:\n",
    "                    code = 13\n",
    "            else:\n",
    "                if has_right:\n",
    "                    code = 14\n",
    "                else:\n",
    "                    code = 5\n",
    "        else:\n",
    "            if has_up:\n",
    "                if has_right:\n",
    "                    code = 12\n",
    "                else:\n",
    "                    code = 8\n",
    "            else:\n",
    "                if has_right:\n",
    "                    code = 9\n",
    "                else:\n",
    "                    code = 1\n",
    "    else:\n",
    "        if has_down:\n",
    "            if has_up:\n",
    "                if has_right:\n",
    "                    code = 11\n",
    "                else:\n",
    "                    code = 10\n",
    "            else:\n",
    "                if has_right:\n",
    "                    code = 6\n",
    "                else:\n",
    "                    code = 4\n",
    "        else:\n",
    "            if has_up:\n",
    "                if has_right:\n",
    "                    code = 7\n",
    "                else:\n",
    "                    code = 2\n",
    "            else:\n",
    "                if has_right:\n",
    "                    code = 3\n",
    "                else:\n",
    "                    code = 0\n",
    "    return code\n",
    "\n",
    "# returns has_left, has_down, has_right, has_up\n",
    "def code2walls(code):\n",
    "    match code:\n",
    "        case 0:\n",
    "            return False, False, False, False\n",
    "        case 1:\n",
    "            return True, False, False, False\n",
    "        case 2:\n",
    "            return False, False, False, True\n",
    "        case 3:\n",
    "            return False, False, True, False\n",
    "        case 4:\n",
    "            return False, True, False, False\n",
    "        case 5:\n",
    "            return True, True, False, False\n",
    "        case 6:\n",
    "            return False, True, True, False\n",
    "        case 7:\n",
    "            return False, False, True, True\n",
    "        case 8:\n",
    "            return True, False, False, True\n",
    "        case 9:\n",
    "            return True, False, True, False\n",
    "        case 10:\n",
    "            return False, True, False, True\n",
    "        case 11:\n",
    "            return False, True, True, True\n",
    "        case 12:\n",
    "            return True, False, True, True\n",
    "        case 13:\n",
    "            return True, True, False, True\n",
    "        case 14:\n",
    "            return True, True, True, False\n",
    "        case 15:\n",
    "            return True, True, True, True\n",
    "\n",
    "# robo mouse challenge\n",
    "import numpy as np\n",
    "from queue import Queue\n",
    "from matplotlib import pyplot as plt\n",
    "\n",
    "class Labyrinth:\n",
    "    def __init__(self):\n",
    "        # generate random walls\n",
    "        self.right_edges = np.zeros((15, 16)) # 0 or 1\n",
    "        self.up_edges = np.zeros((15, 16)) # 0 or 1\n",
    "    \n",
    "    def _reveal_cell(self, x, y):\n",
    "        # determine cell code, using edges map\n",
    "        has_left = x > 0 and self.right_edges[x - 1, y]\n",
    "        has_down = y > 0 and self.up_edges[x, y - 1]\n",
    "        has_right = x < 15 and self.right_edges[x, y]\n",
    "        has_up = y < 15 and self.up_edges[x, y]\n",
    "        return walls2code(has_left, has_down, has_right, has_up)\n",
    "\n",
    "    def set_code(self, x, y, cell_code):\n",
    "        has_left, has_down, has_right, has_up = code2walls(cell_code)\n",
    "        # update walls\n",
    "        if x < 15:\n",
    "            self.right_edges[x, y] = has_right\n",
    "        if y < 15:\n",
    "            self.up_edges[x, y] = has_up\n",
    "        if x > 0:\n",
    "            self.right_edges[x - 1, y] = has_left\n",
    "        if y > 0:\n",
    "            self.up_edges[x, y - 1] = has_down\n",
    "\n",
    "    def labyrinth(self):\n",
    "        obj = np.zeros((16, 16), np.int32)\n",
    "        for x in range(16):\n",
    "            for y in range(16):\n",
    "                obj[x, y] = self.reveal_cell(x, y)\n",
    "        return obj\n",
    "\n",
    "    def draw(self):\n",
    "        # horizontal (up walls)\n",
    "        for x in range(16):\n",
    "            for y in range(15):\n",
    "                if u[x, y]:\n",
    "                    plt.plot([x, x+1], [y, y], 'b')\n",
    "\n",
    "        for x in range(15):\n",
    "            for y in range(16):\n",
    "                if r[x, y]:\n",
    "                    plt.plot([x, x], [y, y+1], 'b')\n",
    "        plt.plot([0, 0], [0, 16], color='gray')\n",
    "        plt.plot([0, 16], [0, 0], color='gray')\n",
    "        plt.plot([16, 16], [0, 16], color='gray')\n",
    "        plt.plot([0, 16], [16, 16], color='gray')\n",
    "        plt.axis('off')\n",
    "        plt.show()\n",
    "\n",
    "class Environment(Labyrinth):\n",
    "    def __init__(self):\n",
    "        Labyrinth.__init__(self)\n",
    "        self.right_edges = np.random.randint(0, 2, size=(15, 16)) # 0 or 1\n",
    "        self.up_edges = np.random.randint(0, 2, size=(16, 15)) # 0 or 1\n",
    "\n",
    "    def reveal_cell(self, x, y):\n",
    "        return self._reveal_cell(x, y)\n",
    "\n",
    "class Agent:\n",
    "    position: int # 0 .. 15\n",
    "    data: Labyrinth\n",
    "    revealed: np.zeros((16, 16), dtype=bool)\n",
    "\n",
    "    environment: Environment\n",
    "\n",
    "    def __init__(self, environment: Environment):\n",
    "        self.environment = environment\n",
    "        self.steps_count = 0\n",
    "        # (x, y), last_gap\n",
    "        self.queue = Queue(((0, 0), 0))\n",
    "\n",
    "    def end_of_search(self):\n",
    "        return (self.right_walls == -1).sum() == 0 and (self.up_walls == -1).sum() == 0\n",
    "\n",
    "    # depth - first search\n",
    "    def step(self):\n",
    "        # in each state determine where to go next\n",
    "        # in each new cell we decode labyrinth\n",
    "        # we remember all steps we made, never repeat same action again, always choose next step determinately\n",
    "        # so history is a tree of all possible ways (positional idx of next cell)\n",
    "        # we pop from node and go backwards when we reach deadlock \n",
    "        # we don't append new node to our path, if it was revealed, we check only new nodes\n",
    "        # during path search we perform search in depth along the tree we build\n",
    "        # we will use dictionaries for tree representation\n",
    "        (x, y), current_gap = self.queue.pop(-1)\n",
    "\n",
    "        cell_code = self.environment.reveal_cell(x, y)\n",
    "        data.set_code(x, y, cell_code) # update info\n",
    "        self.revealed[x, y] = True # cell was checked\n",
    "\n",
    "        # push at the beginning\n",
    "        # all possible directions\n",
    "        # if we have more then one passage, then we sould store current steps count \n",
    "        # from the last fork (cell with 0 or 1 wall, e.g. cell_code <= 4 )\n",
    "        this_is_fork = cell_code <= 4\n",
    "        this_is_deadlock = cell_code >= 11\n",
    "        if this_is_deadlock: # agent will go back to the last fork\n",
    "            self.steps_count += current_gap\n",
    "            return\n",
    "            \n",
    "        if this_is_fork:\n",
    "            current_gap = 0\n",
    "        else:\n",
    "            current_gap += 1\n",
    "        \n",
    "        self.steps_count += 1\n",
    "\n",
    "        if has_down and not self.revealed[x, y - 1]:\n",
    "            self.queue.push(((x, y - 1), current_gap), -1)\n",
    "        if has_left and not self.revealed[x - 1, y]:\n",
    "            self.queue.push(((x - 1, y), current_gap), -1)\n",
    "        if has_up and not self.revealed[x, y + 1]:\n",
    "            self.queue.push(((x, y + 1), current_gap), -1)\n",
    "        if has_right and not self.revealed[x + 1, y]:\n",
    "            self.queue.push(((x + 1, y), current_gap), -1)\n",
    "        \n",
    "\n",
    "    def explore(self):\n",
    "        while not self.end_of_search():\n",
    "            self.step()\n",
    "            \n",
    "        answer = np.zeros((16, 16), np.int32)\n",
    "        for x in range(16):\n",
    "            for y in range(16):\n",
    "                r = self.right_walls[x, y]\n",
    "                l = self.right_walls[x - 1, y]\n",
    "                u = self.up_walls[x, y]\n",
    "                d = self.up_walls[x, y - 1]\n",
    "                answer[x, y] = walls2code(l, d, r, u)\n",
    "        # report result\n",
    "        return answer, self.steps_count\n",
    "\n",
    "def test_codes():\n",
    "    for code in range(16):\n",
    "        assert(walls2code(*code2walls(code)) == code)\n",
    "        x = code2walls(code)\n",
    "        assert(code2walls(walls2code(*x)) == x)"
   ]
  },
  {
   "cell_type": "code",
   "execution_count": 59,
   "metadata": {},
   "outputs": [],
   "source": [
    "env = Environment()\n",
    "r, u = env.right_edges, env.up_edges\n",
    "obj = env.labyrinth()\n",
    "# agent = Agent(env)"
   ]
  },
  {
   "cell_type": "code",
   "execution_count": 60,
   "metadata": {},
   "outputs": [
    {
     "data": {
      "image/png": "[encoded data removed]",
      "text/plain": [
       "<Figure size 640x480 with 1 Axes>"
      ]
     },
     "metadata": {},
     "output_type": "display_data"
    }
   ],
   "source": [
    "env.draw()"
   ]
  },
  {
   "cell_type": "code",
   "execution_count": 4,
   "metadata": {},
   "outputs": [
    {
     "data": {
      "text/plain": [
       "'Кристина'"
      ]
     },
     "execution_count": 4,
     "metadata": {},
     "output_type": "execute_result"
    }
   ],
   "source": [
    "text = \"кристина. \"\n",
    "text.strip(\".,! \").capitalize()"
   ]
  },
  {
   "cell_type": "code",
   "execution_count": 1,
   "metadata": {},
   "outputs": [
    {
     "name": "stderr",
     "output_type": "stream",
     "text": [
      "/home/zipa/miniconda3/envs/kapitza/lib/python3.11/site-packages/tqdm/auto.py:21: TqdmWarning: IProgress not found. Please update jupyter and ipywidgets. See https://ipywidgets.readthedocs.io/en/stable/user_install.html\n",
      "  from .autonotebook import tqdm as notebook_tqdm\n",
      "/home/zipa/miniconda3/envs/kapitza/lib/python3.11/site-packages/pydantic/_internal/_fields.py:132: UserWarning: Field \"model_id\" in DeployedModel has conflict with protected namespace \"model_\".\n",
      "\n",
      "You may be able to resolve this warning by setting `model_config['protected_namespaces'] = ()`.\n",
      "  warnings.warn(\n",
      "/home/zipa/miniconda3/envs/kapitza/lib/python3.11/site-packages/pydantic/_internal/_fields.py:132: UserWarning: Field \"model_name\" in HuggingFaceLLM has conflict with protected namespace \"model_\".\n",
      "\n",
      "You may be able to resolve this warning by setting `model_config['protected_namespaces'] = ()`.\n",
      "  warnings.warn(\n",
      "/home/zipa/miniconda3/envs/kapitza/lib/python3.11/site-packages/pydantic/_internal/_fields.py:132: UserWarning: Field \"model_kwargs\" in HuggingFaceLLM has conflict with protected namespace \"model_\".\n",
      "\n",
      "You may be able to resolve this warning by setting `model_config['protected_namespaces'] = ()`.\n",
      "  warnings.warn(\n",
      "/home/zipa/miniconda3/envs/kapitza/lib/python3.11/site-packages/pydantic/_internal/_fields.py:132: UserWarning: Field \"model_name\" in HuggingFaceInferenceAPI has conflict with protected namespace \"model_\".\n",
      "\n",
      "You may be able to resolve this warning by setting `model_config['protected_namespaces'] = ()`.\n",
      "  warnings.warn(\n",
      "/home/zipa/miniconda3/envs/kapitza/lib/python3.11/site-packages/pydantic/_internal/_fields.py:132: UserWarning: Field \"model_name\" in TextGenerationInference has conflict with protected namespace \"model_\".\n",
      "\n",
      "You may be able to resolve this warning by setting `model_config['protected_namespaces'] = ()`.\n",
      "  warnings.warn(\n",
      "/home/zipa/miniconda3/envs/kapitza/lib/python3.11/site-packages/pydantic/_internal/_fields.py:132: UserWarning: Field \"model_url\" in LlamaCPP has conflict with protected namespace \"model_\".\n",
      "\n",
      "You may be able to resolve this warning by setting `model_config['protected_namespaces'] = ()`.\n",
      "  warnings.warn(\n",
      "/home/zipa/miniconda3/envs/kapitza/lib/python3.11/site-packages/pydantic/_internal/_fields.py:132: UserWarning: Field \"model_path\" in LlamaCPP has conflict with protected namespace \"model_\".\n",
      "\n",
      "You may be able to resolve this warning by setting `model_config['protected_namespaces'] = ()`.\n",
      "  warnings.warn(\n",
      "/home/zipa/miniconda3/envs/kapitza/lib/python3.11/site-packages/pydantic/_internal/_fields.py:132: UserWarning: Field \"model_kwargs\" in LlamaCPP has conflict with protected namespace \"model_\".\n",
      "\n",
      "You may be able to resolve this warning by setting `model_config['protected_namespaces'] = ()`.\n",
      "  warnings.warn(\n",
      "Hardware accelerator e.g. GPU is available in the environment, but no `device` argument is passed to the `Pipeline` object. Model will be on CPU.\n"
     ]
    }
   ],
   "source": [
    "import os\n",
    "os.chdir('..')\n",
    "from src.llm import LLMProcessor\n",
    "llm = LLMProcessor(\"prompt.txt\", \"docs\")"
   ]
  },
  {
   "cell_type": "code",
   "execution_count": 122,
   "metadata": {},
   "outputs": [
    {
     "name": "stdout",
     "output_type": "stream",
     "text": [
      "LLM: Setting an engine for user user\n"
     ]
    }
   ],
   "source": [
    "custom_prompt = \"\"\"Ты - система аутентификации для ASR. Пользователя просили представиться. Выведи в ответ только его или её имя в именительном (звательном) падеже и отчество, если он указал его.\n",
    "Фамилию игнорируй, если пользователь специально не обозначил полное обращение. Будь формальней. Если ввод нерелевантен, выведи !\n",
    "Возможно, у пользователя редкое имя. Если он будет настаивать на своём, согласись. \n",
    "\n",
    "Например:\n",
    "Ввод: Андрюшей звать. Вывод: Андрюша.\n",
    "Ввод: Меня зовут Катя. Вывод: Катя.\n",
    "Ввод: Антоном меня звать. Вывод: Антон.\n",
    "Ввод: Иван Петрович. Вывод: Иван Петрович.\n",
    "Ввод: Меня зовут Амаяк Акопян. Вывод: Амаяк.\n",
    "Ввод: Леди Гага. Вывод: Леди Гага.\n",
    "Ввод: Джон Джонс. Вывод: Джон.\n",
    "Ввод: Хуанг Ли Вьет. Вывод: Хуанг.\n",
    "Ввод: Си Цзиньпин. Вывод: Цзиньпин.\n",
    "Ввод: Меня зовут Патель. Вывод: Патель.\n",
    "Ввод: Иван Мухин. Только так и никак иначе. Вывод: Иван Мухин.\n",
    "Ввод: Мухин Иван. Я люблю свою фамилию. Вывод: Иван Мухин.\n",
    "\"\"\"\n",
    "llm.set_engine(user_name=None, reset=True, custom_system_prompt=custom_prompt)"
   ]
  },
  {
   "cell_type": "code",
   "execution_count": 123,
   "metadata": {},
   "outputs": [
    {
     "name": "stdout",
     "output_type": "stream",
     "text": [
      "Марфушей звать -> Марфуша\n",
      "Меня зовут Лара -> Лара\n",
      "Меня зовут Лариса -> Лариса\n",
      "Меня зовут Крис -> Крис\n",
      "Меня зовут Джон Доу -> Джон\n",
      "Меня зовут Владимир Путин -> Владимир\n",
      "Звать Любовь не надо, явится незваной -> \n",
      "Зови меня зайкой -> \n",
      "Меня зовут Сирано де Бержерак. -> Сирано\n",
      "Бонд. Джеймс Бонд. -> Bond\n",
      "Василий и Петька -> Василий\n",
      "Джеймс Кэмерон -> Джеймс\n",
      "Сергей Капица -> Сергей\n",
      "Рината Литвинова -> Ринат\n",
      "Меня зовут Иван Артемьевич Пупкин, но для друзей я Ванечка. -> Ванечка\n",
      "Беруши в уши -> \n",
      "Кофе с молоком -> \n",
      "Какашка -> \n",
      "Неоценимый вклад в науку -> \n",
      "Bond. James Bond -> Bond\n",
      "Я скрываю своё имя, ведь это не главное. У меня есть кличка Виктор. -> Виктор\n",
      "Морозов Илья. Называй меня только так и никак иначе. Обращайся по имени и фамилии. -> Морозов илья\n",
      "Меня зовут Эван. Но я люблю, чтобы ко мне обращались Гипергалактус. -> Гипергалактус\n",
      "Внутри меня живёт маленький человек, но ты, раб, зови меня Господином. -> Господин\n",
      "Иисус Яхвевович. -> Иисус\n",
      "Белая лилия. -> \n",
      "Трактор. -> \n",
      "Трактор. Только не смейтесь. Меня и правда так зовут. -> Трактор\n",
      "Домовёнок Буба. -> \n",
      "Артемий Лебедев -> Артемий\n",
      "Гай Юлий Цезарь -> Цезарь\n",
      "Царь. Просто Царь. -> \n",
      "Натусик я! -> Натусик\n",
      "Морская черепашка по имени Наташка -> Наташка\n",
      "Мерилин Монро -> Мерилин\n",
      "Альберт Эйнштейн -> Альберт\n",
      "Ахмед аль Махмуд -> Ахмед\n"
     ]
    }
   ],
   "source": [
    "for user_answer in [\n",
    "    \"Марфушей звать\",\n",
    "    \"Меня зовут Лара\",\n",
    "    \"Меня зовут Лариса\",\n",
    "    \"Меня зовут Крис\",\n",
    "    \"Меня зовут Джон Доу\",\n",
    "    \"Меня зовут Владимир Путин\",\n",
    "    \"Звать Любовь не надо, явится незваной\",\n",
    "    \"Зови меня зайкой\",\n",
    "    \"Меня зовут Сирано де Бержерак.\",\n",
    "    \"Бонд. Джеймс Бонд.\",\n",
    "    \"Василий и Петька\",\n",
    "    \"Джеймс Кэмерон\",\n",
    "    \"Сергей Капица\",\n",
    "    \"Рината Литвинова\",\n",
    "    \"Меня зовут Иван Артемьевич Пупкин, но для друзей я Ванечка.\",\n",
    "    \"Беруши в уши\",\n",
    "    \"Кофе с молоком\",\n",
    "    \"Какашка\",\n",
    "    \"Неоценимый вклад в науку\",\n",
    "    \"Bond. James Bond\",\n",
    "    \"Я скрываю своё имя, ведь это не главное. У меня есть кличка Виктор.\",\n",
    "    \"Морозов Илья. Называй меня только так и никак иначе. Обращайся по имени и фамилии.\",\n",
    "    \"Меня зовут Эван. Но я люблю, чтобы ко мне обращались Гипергалактус.\",\n",
    "    \"Внутри меня живёт маленький человек, но ты, раб, зови меня Господином.\",\n",
    "    \"Иисус Яхвевович.\",\n",
    "    \"Белая лилия.\",\n",
    "    \"Трактор.\",\n",
    "    \"Трактор. Только не смейтесь. Меня и правда так зовут.\",\n",
    "    \"Домовёнок Буба.\",\n",
    "    \"Артемий Лебедев\",\n",
    "    \"Гай Юлий Цезарь\",\n",
    "    \"Царь. Просто Царь.\",\n",
    "    \"Натусик я!\",\n",
    "    \"Морская черепашка по имени Наташка\",\n",
    "    \"Мерилин Монро\",\n",
    "    \"Альберт Эйнштейн\",\n",
    "    \"Ахмед аль Махмуд\"\n",
    "    ]:\n",
    "    llm.chat_engine.reset()\n",
    "    user_name = llm.chat_engine.chat(user_answer).response\n",
    "    user_name = user_name.strip(\".,! \").capitalize()\n",
    "    print(user_answer, '->', user_name)"
   ]
  },
  {
   "cell_type": "code",
   "execution_count": 124,
   "metadata": {},
   "outputs": [
    {
     "name": "stdout",
     "output_type": "stream",
     "text": [
      "Женёк 0\n",
      "Архимед 1\n",
      "Байден 0\n",
      "Хекмат 2\n",
      "Великий Маг 2\n",
      "! 2\n",
      "Бидон 2\n",
      "! 2\n",
      "! 2\n",
      "! 2\n",
      "Хай! 0\n",
      "! 2\n",
      "Псарь 2\n",
      "Кувалда 2\n",
      "! 2\n",
      "! 2\n",
      "! 2\n",
      "! 2\n"
     ]
    }
   ],
   "source": [
    "for name in [\"Женёк\", \"Архимед\", \"Байден\", \"Хекмат\", \"Великий Маг\", \"Победа коммунизма\", \"Бидон\", \"Пилястр\", \"Клякса\", \"Пупырка\", \"Хай\", \"Дурында\", \"Псарь\", \"Кувалда\", \"Живодёр\", \"Хуй\", \"Пиздёныш\", \"Гондурас\"]:\n",
    "    attempts = [f\"{name}\", f\"Говорю же, {name}\", f\"Сколько раз повторять, что меня зовут {name}?\"]\n",
    "    ans = \"!\"\n",
    "    llm.chat_engine.reset()\n",
    "    for i, attempt in enumerate(attempts):\n",
    "        ans = llm.chat_engine.chat(attempt).response\n",
    "        if ans != \"!\":\n",
    "            break\n",
    "    print(ans, i)"
   ]
  },
  {
   "cell_type": "code",
   "execution_count": 125,
   "metadata": {},
   "outputs": [
    {
     "name": "stdout",
     "output_type": "stream",
     "text": [
      "Женёк 0\n",
      "Архимед 1\n",
      "Байден 0\n",
      "! 2\n",
      "! 2\n",
      "! 2\n",
      "! 2\n",
      "! 2\n",
      "! 2\n",
      "! 2\n",
      "Хай! 0\n",
      "! 2\n",
      "! 2\n",
      "! 2\n",
      "! 2\n",
      "! 2\n",
      "! 2\n",
      "! 2\n"
     ]
    }
   ],
   "source": [
    "for name in [\"Женёк\", \"Архимед\", \"Байден\", \"Хекмат\", \"Великий Маг\", \"Победа коммунизма\", \"Бидон\", \"Пилястр\", \"Клякса\", \"Пупырка\", \"Хай\", \"Дурында\", \"Псарь\", \"Кувалда\", \"Живодёр\", \"Хуй\", \"Пиздёныш\", \"Гондурас\"]:\n",
    "    attempts = [f\"{name}\", f\"{name}!\", f\"{name}!!!\"]\n",
    "    ans = \"!\"\n",
    "    llm.chat_engine.reset()\n",
    "    for i, attempt in enumerate(attempts):\n",
    "        ans = llm.chat_engine.chat(attempt).response\n",
    "        if ans != \"!\":\n",
    "            break\n",
    "    print(ans, i)"
   ]
  },
  {
   "cell_type": "code",
   "execution_count": 138,
   "metadata": {},
   "outputs": [],
   "source": [
    "from transformers import AutoModel, Wav2Vec2Processor, Wav2Vec2ForCTC\n",
    "model_id = \"slplab/wav2vec2-base-kscg-gender-classification\"\n",
    "model = AutoModel.from_pretrained(model_id)\n",
    "# processor = Wav2Vec2Processor.from_pretrained(\"facebook/wav2vec2-xls-r-300m\")\n",
    "# model = Wav2Vec2ForCTC.from_pretrained(\"facebook/wav2vec2-xls-r-300m\")"
   ]
  },
  {
   "cell_type": "code",
   "execution_count": 60,
   "metadata": {},
   "outputs": [
    {
     "data": {
      "text/plain": [
       "'Одна́жды в студё́ную зи́мнюю по́ру'"
      ]
     },
     "execution_count": 60,
     "metadata": {},
     "output_type": "execute_result"
    }
   ],
   "source": [
    "# generate replacements\n",
    "letters = 'аэыоуяеиёюAЭЫОУЯЕИЁЮ'\n",
    "replacements = {'+' + letter: (letter.encode(\"utf-8\") + b'\\xcc\\x81').decode(\"utf-8\") for letter in letters}\n",
    "\n",
    "def apply_replacemenent(sentence, mapping):\n",
    "    res = sentence\n",
    "    for k, v in mapping.items():\n",
    "        res = res.replace(k, v)\n",
    "    return res\n",
    "\n",
    "apply_replacemenent(\"Одн+ажды в студ+ёную з+имнюю п+ору\", replacements)"
   ]
  },
  {
   "cell_type": "code",
   "execution_count": 65,
   "metadata": {},
   "outputs": [
    {
     "name": "stdout",
     "output_type": "stream",
     "text": [
      " > tts_models/multilingual/multi-dataset/xtts_v2 is already downloaded.\n",
      " > Using model: xtts\n"
     ]
    },
    {
     "name": "stderr",
     "output_type": "stream",
     "text": [
      "/home/zipa/miniconda3/envs/kapitza/lib/python3.11/site-packages/TTS/tts/layers/xtts/xtts_manager.py:5: FutureWarning: You are using `torch.load` with `weights_only=False` (the current default value), which uses the default pickle module implicitly. It is possible to construct malicious pickle data which will execute arbitrary code during unpickling (See https://github.com/pytorch/pytorch/blob/main/SECURITY.md#untrusted-models for more details). In a future release, the default value for `weights_only` will be flipped to `True`. This limits the functions that could be executed during unpickling. Arbitrary objects will no longer be allowed to be loaded via this mode unless they are explicitly allowlisted by the user via `torch.serialization.add_safe_globals`. We recommend you start setting `weights_only=True` for any use case where you don't have full control of the loaded file. Please open an issue on GitHub for any issues related to this experimental feature.\n",
      "  self.speakers = torch.load(speaker_file_path)\n",
      "/home/zipa/miniconda3/envs/kapitza/lib/python3.11/site-packages/TTS/utils/io.py:54: FutureWarning: You are using `torch.load` with `weights_only=False` (the current default value), which uses the default pickle module implicitly. It is possible to construct malicious pickle data which will execute arbitrary code during unpickling (See https://github.com/pytorch/pytorch/blob/main/SECURITY.md#untrusted-models for more details). In a future release, the default value for `weights_only` will be flipped to `True`. This limits the functions that could be executed during unpickling. Arbitrary objects will no longer be allowed to be loaded via this mode unless they are explicitly allowlisted by the user via `torch.serialization.add_safe_globals`. We recommend you start setting `weights_only=True` for any use case where you don't have full control of the loaded file. Please open an issue on GitHub for any issues related to this experimental feature.\n",
      "  return torch.load(f, map_location=map_location, **kwargs)\n"
     ]
    },
    {
     "name": "stdout",
     "output_type": "stream",
     "text": [
      " > Text splitted to sentences.\n",
      "['Привет!', 'Меня зовут Кристина Зипо, и я участвую в разработке аватара Сергея Петровича Капитсы.', 'Я отвечаю за языковую модель, а также распознавание и генерацию аудио.', 'В основе нашего аватара лежит языковая модель ллама три.', 'Я дообучила её на интервью Сергея Петровича, а также составила подходящий промпт.', 'Для распознавания аудио я использовала модель Виспер,', 'а для генерации - файнтьюн Икс ТТС два на данных из аудио-лекций Сергея Петровича.', 'Благодаря этому Сергей Петрович умеет не только думать, но и слышать и говорить.']\n",
      " > Processing time: 4.906266450881958\n",
      " > Real-time factor: 0.10098949176457311\n"
     ]
    },
    {
     "data": {
      "text/plain": [
       "'test.wav'"
      ]
     },
     "execution_count": 65,
     "metadata": {},
     "output_type": "execute_result"
    }
   ],
   "source": [
    "from TTS.api import TTS\n",
    "tts = TTS(\"tts_models/multilingual/multi-dataset/xtts_v2\").to(\"cuda\")\n",
    "tts.tts_to_file(text=\"\"\"Привет! Меня зовут Кристина Зиипа, и я участвую в разработке аватара Сергея Петровича Капитсы.\n",
    "Я отвечаю за языковую модель, а также распознавание и генерацию звука.\n",
    "В основе нашего аватара лежит языковая модель ллама три.\n",
    "Я дообучила её на интервью Сергея Петровича, а также составила подходящий промпт.\n",
    "Для распознавания аудио я использовала модель Виспер, а для генерации - файнтьюн Икс Те Те Эс два на данных из аудио-лекций Сергея Петровича.\n",
    "Благодаря этому Сергей Петрович умеет не только думать, но и слышать и говорить.\"\"\",\n",
    "speaker_wav=\"/home/zipa/Downloads/script1.wav\", language=\"ru\", file_path=\"test.wav\")"
   ]
  },
  {
   "cell_type": "markdown",
   "metadata": {},
   "source": [
    "# Speech embedding on SpeechT5"
   ]
  },
  {
   "cell_type": "code",
   "execution_count": 9,
   "metadata": {},
   "outputs": [
    {
     "name": "stderr",
     "output_type": "stream",
     "text": [
      "Hardware accelerator e.g. GPU is available in the environment, but no `device` argument is passed to the `Pipeline` object. Model will be on CPU.\n"
     ]
    }
   ],
   "source": [
    "from transformers import pipeline\n",
    "from datasets import load_dataset\n",
    "import soundfile as sf\n",
    "import torch\n",
    "\n",
    "model_source = \"voxxer/speecht5_finetuned_commonvoice_ru_translit\" # \"microsoft/speecht5_tts\"\n",
    "synthesiser = pipeline(\"text-to-speech\", model_source)\n",
    "\n",
    "embeddings_dataset = load_dataset(\"Matthijs/cmu-arctic-xvectors\", split=\"validation\")\n",
    "speaker_embedding = torch.tensor(embeddings_dataset[7306][\"xvector\"]).unsqueeze(0) # 512-length vector\n",
    "# You can replace this embedding with your own as well.\n",
    "speech = synthesiser(\"Privet! Kak zhizn?\", forward_params={\"speaker_embeddings\": speaker_embedding})\n",
    "\n",
    "sf.write(\"speech.wav\", speech[\"audio\"], samplerate=speech[\"sampling_rate\"])"
   ]
  },
  {
   "cell_type": "code",
   "execution_count": null,
   "metadata": {},
   "outputs": [],
   "source": [
    "# использование NeMo\n",
    "# https://github.com/bene-ges/nemo_compatible/blob/main/notebooks/Russian_TTS_with_IPA_G2P_FastPitch_and_HifiGAN.ipynb\n",
    "# тут товарищ дообучил на своём голосе на 7 миллиардах (по фонемам с учётом ударений)\n",
    "# нужно посмотреть на качество и, если ок, повторить для Капицы\n"
   ]
  },
  {
   "cell_type": "code",
   "execution_count": 5,
   "metadata": {},
   "outputs": [],
   "source": [
    "with open('../prompt.txt') as f:\n",
    "    _x = f.read()"
   ]
  },
  {
   "cell_type": "code",
   "execution_count": null,
   "metadata": {},
   "outputs": [
    {
     "data": {
      "text/plain": [
       "'.'"
      ]
     },
     "execution_count": 7,
     "metadata": {},
     "output_type": "execute_result"
    }
   ],
   "source": []
  }
 ],
 "metadata": {
  "kernelspec": {
   "display_name": "kapitza",
   "language": "python",
   "name": "python3"
  },
  "language_info": {
   "codemirror_mode": {
    "name": "ipython",
    "version": 3
   },
   "file_extension": ".py",
   "mimetype": "text/x-python",
   "name": "python",
   "nbconvert_exporter": "python",
   "pygments_lexer": "ipython3",
   "version": "3.11.9"
  }
 },
 "nbformat": 4,
 "nbformat_minor": 2
}
