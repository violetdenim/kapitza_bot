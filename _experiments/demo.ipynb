{
 "cells": [
  {
   "cell_type": "code",
   "execution_count": 7,
   "metadata": {},
   "outputs": [],
   "source": [
    "import os\n",
    "def dataset_from_text_file(file_names):\n",
    "    if isinstance(file_names, str):\n",
    "        file_names = [file_names]\n",
    "    for file_name in file_names:\n",
    "        with open(file_name, 'r') as f:\n",
    "            text = f.read()\n",
    "        print(text)\n",
    "    return None\n",
    "data_dir = '../docs/interviews'\n",
    "files = [os.path.join(data_dir, f) for f in os.listdir(data_dir)]\n",
    "with open(files[0], 'r') as f:\n",
    "    text = f.read()\n",
    "# kapitza = dataset_from_text_file(file_names=files)"
   ]
  },
  {
   "cell_type": "code",
   "execution_count": 6,
   "metadata": {},
   "outputs": [],
   "source": [
    "# !pip install langchain spacy\n",
    "# !python -m spacy download en_core_web_sm\n",
    "from langchain.text_splitter import SpacyTextSplitter\n",
    "text_splitter = SpacyTextSplitter(chunk_size=256, chunk_overlap=256//4)"
   ]
  },
  {
   "cell_type": "code",
   "execution_count": 8,
   "metadata": {},
   "outputs": [
    {
     "name": "stderr",
     "output_type": "stream",
     "text": [
      "/home/zipa/miniconda3/envs/unsloth_env/lib/python3.11/site-packages/tqdm/auto.py:21: TqdmWarning: IProgress not found. Please update jupyter and ipywidgets. See https://ipywidgets.readthedocs.io/en/stable/user_install.html\n",
      "  from .autonotebook import tqdm as notebook_tqdm\n"
     ]
    },
    {
     "name": "stdout",
     "output_type": "stream",
     "text": [
      "🦥 Unsloth: Will patch your computer to enable 2x faster free finetuning.\n",
      "==((====))==  Unsloth 2024.9.post3: Fast Llama patching. Transformers = 4.45.0.\n",
      "   \\\\   /|    GPU: NVIDIA GeForce RTX 4090. Max memory: 23.635 GB. Platform = Linux.\n",
      "O^O/ \\_/ \\    Pytorch: 2.4.1. CUDA = 8.9. CUDA Toolkit = 12.1.\n",
      "\\        /    Bfloat16 = TRUE. FA [Xformers = 0.0.28.post1. FA2 = False]\n",
      " \"-____-\"     Free Apache license: http://github.com/unslothai/unsloth\n"
     ]
    }
   ],
   "source": [
    "# functions to train and test\n",
    "from unsloth import FastLanguageModel\n",
    "from unsloth.chat_templates import get_chat_template\n",
    "base_model, tokenizer = FastLanguageModel.from_pretrained( model_name = \"unsloth/llama-3-8b-Instruct-bnb-4bit\", # \"model\",\n",
    "    max_seq_length = 8192, dtype = None, load_in_4bit = True)\n",
    "tokenizer = get_chat_template(tokenizer, chat_template = \"llama-3\", \n",
    "    mapping = {\"role\" : \"from\", \"content\" : \"value\", \"user\" : \"human\", \"assistant\" : \"gpt\"}, # ShareGPT style\n",
    ")\n",
    "FastLanguageModel.for_inference(base_model) \n",
    "\n",
    "def ask_llm(prompt, user, n_rep=1):\n",
    "    inputs = tokenizer.apply_chat_template( [{\"system\": prompt,\\\n",
    "                                          \"from\": \"human\", \\\n",
    "                                          \"value\": user}],\n",
    "    tokenize = True, add_generation_prompt = True, return_tensors = \"pt\").to(base_model.device)\n",
    "    questions = []\n",
    "    for _ in range(n_rep):\n",
    "        outputs = base_model.generate(input_ids = inputs, max_new_tokens = 128, use_cache = True)\n",
    "        full_output = tokenizer.batch_decode(outputs)\n",
    "        answer = full_output[0].split('|end_header_id|>\\n\\n')[-1].rstrip('<|eot_id|>')\n",
    "        questions.append(answer)\n",
    "    \n",
    "    return questions[0] if len(questions) == 1 else questions"
   ]
  },
  {
   "cell_type": "code",
   "execution_count": 9,
   "metadata": {},
   "outputs": [
    {
     "name": "stderr",
     "output_type": "stream",
     "text": [
      "The attention mask is not set and cannot be inferred from input because pad token is same as eos token. As a consequence, you may observe unexpected behavior. Please pass your input's `attention_mask` to obtain reliable results.\n"
     ]
    }
   ],
   "source": [
    "prompt1 = \"\"\"Ниже дан текст в форме вопроса, адресованному Сергею Капице. Пожалуйста, выведи новый {text}, представляющий из себя сокращенный вопрос,перепиcанный простыми словами.\n",
    "[вопрос]: {question}.\n",
    "Выведи ответ в формате JSON, используя только русский язык: {\"question\": {text}}.\"\"\"\n",
    "prompt2 = \"\"\"Ниже дан текст в форме вопроса, адресованному Сергею Капице и его ответ.\n",
    "Пожалуйста, выведи новый {text}, представляющий из себя сокращенный ответ, сохранивший стиль. Ответ должен по смыслу чётко соответствовать вопросу.\n",
    "[вопрос]: {question}\n",
    "[ответ]: {answer}\n",
    "Выведи ответ в формате JSON, используя только русский язык: {\"answer\": {answer}}.\"\"\"\n",
    "\n",
    "prompt3 = \"\"\"На вход ты получил ```Текст```. Выдели несколько тем в тексте и перепиши его в виде отдельных абзацев, сохранив стиль.\"\"\"\n",
    "prompt4 = \"\"\"На вход ты получил ```Ответ```. Придумай вопрос, подходящий к такому ответу.\"\"\"\n",
    "question = \"\"\"Если взять поколения кому сегодня за сорок, навскидку они процитируют: \"О сколько нам открытий чудных готовит просвещенья дух...\" Так кто был популярнее, Вы, Сергей Петрович, или Александр Сергеевич?\"\"\"\n",
    "answer = \"\"\"Не преувеличивайте, Пушкин, конечно, был популярнее. Алла Пугачева была популярнее...  Да, это стихотворение стало нашим брендом. Эпиграф нашел наш режиссер Левкович. Кстати, это стихотворение никогда не было опубликовано в сочинениях Пушкина. Оно рассеяно у него в отрывках... У Натана Эйдельмана есть целое эссе на эту тему.  Название же передачи - \"Очевидное-невероятное\" - предложила моя помощница Железова. По-моему, до этого оно появлялось в фильмах, снятых Киевской киностудией. Сегодня нам приходится это словосочетание защищать, поскольку его уже пытались несколько раз украсть. Мы даже специально получили авторское свидетельство на название телепередачи - \"Очевидное-невероятное\".\"\"\"\n",
    "\n",
    "import json\n",
    "\n",
    "new_question = json.loads(ask_llm(\"\", prompt1.replace(\"{question}\", question)))['question']\n",
    "new_answer = json.loads(ask_llm(\"\", prompt2.replace(\"{question}\", new_question).replace(\"{answer}\", answer)))['answer']\n",
    "# ask_llm(\"\", prompt2.replace(\"{question}\", question).replace(\"{answer}\", answer))"
   ]
  },
  {
   "cell_type": "code",
   "execution_count": 10,
   "metadata": {},
   "outputs": [],
   "source": [
    "prompt3 = \"\"\"На вход ты получил ```Текст```. Выдели несколько тем в тексте и перепиши его в виде отдельных абзацев, сохранив стиль.\"\"\"\n",
    "prompt3 = \"\"\"Ниже дан текст рассуждений Сергея Капицы. Перепиши этот текст в виде набора тезисов, сохранив стиль.\n",
    "[текст]: {text}.\n",
    "Выведи ответ в формате JSON, используя только русский язык: {\"theme0\": {тезис0}, \"theme1\": {тезис1}, ...}. Не добавляй больше ничего к выдаче.\"\"\"\n",
    "ret = ask_llm(\"\", prompt3.replace(\"{text}\", answer))"
   ]
  },
  {
   "cell_type": "code",
   "execution_count": 15,
   "metadata": {},
   "outputs": [
    {
     "name": "stdout",
     "output_type": "stream",
     "text": [
      "3\n"
     ]
    },
    {
     "name": "stderr",
     "output_type": "stream",
     "text": [
      "/home/zipa/miniconda3/envs/unsloth_env/lib/python3.11/site-packages/spacy/pipeline/lemmatizer.py:211: UserWarning: [W108] The rule-based lemmatizer did not find POS annotation for one or more tokens. Check that your pipeline includes components that assign token.pos, typically 'tagger'+'attribute_ruler' or 'morphologizer'.\n",
      "  warnings.warn(Warnings.W108)\n"
     ]
    }
   ],
   "source": [
    "# print(*[ans.strip() for ans in answer.split('.') if len(ans)], sep = '.\\n')\n",
    "items = text_splitter.split_text(answer)\n",
    "print(len(items))"
   ]
  },
  {
   "cell_type": "code",
   "execution_count": 22,
   "metadata": {},
   "outputs": [
    {
     "data": {
      "text/plain": [
       "'Если взять поколения кому сегодня за сорок, навскидку они процитируют: \"О сколько нам открытий чудных готовит просвещенья дух...\" Так кто был популярнее, Вы, Сергей Петрович, или Александр Сергеевич?'"
      ]
     },
     "execution_count": 22,
     "metadata": {},
     "output_type": "execute_result"
    }
   ],
   "source": [
    "question"
   ]
  },
  {
   "cell_type": "code",
   "execution_count": 67,
   "metadata": {},
   "outputs": [
    {
     "name": "stdout",
     "output_type": "stream",
     "text": [
      "{\"evaluation\": 2} Если взять поколения кому сегодня за сорок, навскидку они процитируют: \"О сколько нам открытий чудных готовит просвещенья дух...\" Так кто был популярнее, Вы, Сергей Петрович, или Александр Сергеевич? Не преувеличивайте, Пушкин, конечно, был популярнее. Алла Пугачева была популярнее...  Да, это стихотворение стало нашим брендом. Эпиграф нашел наш режиссер Левкович. Кстати, это стихотворение никогда не было опубликовано в сочинениях Пушкина. Оно рассеяно у него в отрывках... У Натана Эйдельмана есть целое эссе на эту тему.  Название же передачи - \"Очевидное-невероятное\" - предложила моя помощница Железова. По-моему, до этого оно появлялось в фильмах, снятых Киевской киностудией. Сегодня нам приходится это словосочетание защищать, поскольку его уже пытались несколько раз украсть. Мы даже специально получили авторское свидетельство на название телепередачи - \"Очевидное-невероятное\".\n",
      "{\"evaluation\": 4} Если взять поколения кому сегодня за сорок, навскидку они процитируют: \"О сколько нам открытий чудных готовит просвещенья дух...\" Так кто был популярнее, Вы, Сергей Петрович, или Александр Сергеевич? Не преувеличивайте, Пушкин был популярнее. Алла Пугачева была популярнее, и это стихотворение стало нашим брендом.\n",
      "{\"evaluation\": 1} Кто был более известен, Сергей Капица или Пушкин? Не преувеличивайте, Пушкин, конечно, был популярнее. Алла Пугачева была популярнее...  Да, это стихотворение стало нашим брендом. Эпиграф нашел наш режиссер Левкович. Кстати, это стихотворение никогда не было опубликовано в сочинениях Пушкина. Оно рассеяно у него в отрывках... У Натана Эйдельмана есть целое эссе на эту тему.  Название же передачи - \"Очевидное-невероятное\" - предложила моя помощница Железова. По-моему, до этого оно появлялось в фильмах, снятых Киевской киностудией. Сегодня нам приходится это словосочетание защищать, поскольку его уже пытались несколько раз украсть. Мы даже специально получили авторское свидетельство на название телепередачи - \"Очевидное-невероятное\".\n",
      "{\"evaluation\": 1} Кто был более известен, Сергей Капица или Пушкин? Не преувеличивайте, Пушкин был популярнее. Алла Пугачева была популярнее, и это стихотворение стало нашим брендом.\n"
     ]
    }
   ],
   "source": [
    "prompt_eval = \"\"\"Ниже дана пара вопрос-ответ, оцени их согласованность по логике по шкале от 0 до 5.\n",
    "0 - вопрос и ответ не соотносятся друг с другом.\n",
    "1 - в ответе слишком много лишних слов.\n",
    "2 - в ответе много деталей, о которых никто не спрашивал.\n",
    "3 - в ответе содержатся детали, не соответствующие вопросу.\n",
    "4 - вопрос и ответ почти походят на диалог, но есть небольшая несогласованность, нечёткость.\n",
    "5 - вопрос и ответ идеально подходят друг к другу.\n",
    "[вопрос]: {question}\n",
    "[ответ]: {answer}\n",
    "Выведи оценку {value} в виде JSON: {\"evaluation\": {value}}. Не добавляй анализ и постронний текст.\"\"\"\n",
    "for q in [question, new_question]:\n",
    "    for a in [answer, new_answer]:\n",
    "        text = ask_llm(\"\", prompt_eval.replace(\"{question}\", q).replace(\"{answer}\", a))\n",
    "        print(text, q, a)"
   ]
  },
  {
   "cell_type": "code",
   "execution_count": 49,
   "metadata": {},
   "outputs": [
    {
     "data": {
      "text/plain": [
       "'Не преувеличивайте, Пушкин был популярнее. Алла Пугачева была популярнее, и это стихотворение стало нашим брендом.'"
      ]
     },
     "execution_count": 49,
     "metadata": {},
     "output_type": "execute_result"
    }
   ],
   "source": [
    "new_answer"
   ]
  },
  {
   "cell_type": "markdown",
   "metadata": {},
   "source": [
    "CHATGPT prompt"
   ]
  },
  {
   "cell_type": "code",
   "execution_count": 25,
   "metadata": {},
   "outputs": [],
   "source": [
    "chat_prompt = f\"\"\"Дан вопрос:\n",
    "```{question}```\n",
    "Дан ответ на этот вопрос:\n",
    "```{answer}```\n",
    "Вопрос и ответ очень размыты.\n",
    "1. Перепиши вопрос простыми словами, выдели из ответа главную мысль и перепиши с сохранением стиля.\n",
    "2. Раздели ответ на набор тезисов. Для каждого тезиса подготовь простой и лаконичный вопрос. Перепиши каждый тезис в виде ответа на этот вопрос с сохранением изначального стиля. Все сущности в вопросе должны быть чётко определены, ответ может ссылаться на понятия, ясные из контекста.\n",
    "3. Все пары получившихся вопросов и ответов выведи массива пар в формате json с полями \"question\", \"answer\".\"\"\""
   ]
  },
  {
   "cell_type": "markdown",
   "metadata": {},
   "source": [
    "[\n",
    "    {\n",
    "        \"question\": \"Кто из вас более известен: вы или Пушкин?\",\n",
    "        \"answer\": \"Не преувеличивайте, Пушкин, конечно, был популярнее. Алла Пугачева была популярнее...\"\n",
    "    },\n",
    "    {\n",
    "        \"question\": \"Почему стихотворение стало брендом вашей передачи?\",\n",
    "        \"answer\": \"Да, это стихотворение стало нашим брендом. Эпиграф нашел наш режиссер Левкович.\"\n",
    "    },\n",
    "    {\n",
    "        \"question\": \"Где можно найти полное стихотворение Пушкина?\",\n",
    "        \"answer\": \"Кстати, это стихотворение никогда не было опубликовано в сочинениях Пушкина. Оно рассеяно у него в отрывках...\"\n",
    "    },\n",
    "    {\n",
    "        \"question\": \"Есть ли исследование о стихотворении Пушкина?\",\n",
    "        \"answer\": \"У Натана Эйдельмана есть целое эссе на эту тему.\"\n",
    "    },\n",
    "    {\n",
    "        \"question\": \"Кто предложил название вашей передачи 'Очевидное-невероятное'?\",\n",
    "        \"answer\": \"Название же передачи - 'Очевидное-невероятное' - предложила моя помощница Железова.\"\n",
    "    },\n",
    "    {\n",
    "        \"question\": \"Где ранее использовалось это название?\",\n",
    "        \"answer\": \"По-моему, до этого оно появлялось в фильмах, снятых Киевской киностудией.\"\n",
    "    },\n",
    "    {\n",
    "        \"question\": \"Почему вы защищаете название вашей передачи?\",\n",
    "        \"answer\": \"Сегодня нам приходится это словосочетание защищать, поскольку его уже пытались несколько раз украсть.\"\n",
    "    },\n",
    "    {\n",
    "        \"question\": \"Как вы защищаете название вашей передачи?\",\n",
    "        \"answer\": \"Мы даже специально получили авторское свидетельство на название телепередачи - 'Очевидное-невероятное'.\"\n",
    "    }\n",
    "]"
   ]
  },
  {
   "cell_type": "code",
   "execution_count": 42,
   "metadata": {},
   "outputs": [],
   "source": [
    "from datasets import Dataset\n",
    "\n",
    "def interview_dataset(file=\"../finetuning/int1.txt\"):\n",
    "    with open(file, 'r') as f:\n",
    "        text = f.read()\n",
    "    dataset = []\n",
    "    for conv in data.split('\\n\\n'):\n",
    "        if len(conv):\n",
    "            roles = ['user', 'assistant']\n",
    "            play = []\n",
    "            for i_role, item in enumerate(conv.split('\\n')):\n",
    "                play.append({'content': item.strip('–\\t').strip(' '), 'role': roles[i_role % 2]})\n",
    "            dataset.append(play)    \n",
    "    return Dataset.from_dict({'conversations': dataset})\n",
    "    # [{'content': question, 'role': 'user'}, {'content': answer, 'role': 'assistant'}]\n",
    "\n",
    "data = interview_dataset()"
   ]
  },
  {
   "cell_type": "code",
   "execution_count": 63,
   "metadata": {},
   "outputs": [],
   "source": [
    "from datasets import load_dataset\n",
    "from torch.utils.data import DataLoader\n",
    "\n",
    "cv_17 = load_dataset(\"mozilla-foundation/common_voice_17_0\", \"ru\", split=\"train\", trust_remote_code=True)\n",
    "# dataloader = DataLoader(cv_17, batch_size=32)"
   ]
  },
  {
   "cell_type": "code",
   "execution_count": 67,
   "metadata": {},
   "outputs": [],
   "source": [
    "items = cv_17['sentence']"
   ]
  },
  {
   "cell_type": "code",
   "execution_count": 74,
   "metadata": {},
   "outputs": [],
   "source": [
    "for s in items:\n",
    "    if 'Капица' in s:\n",
    "        print(s)"
   ]
  },
  {
   "cell_type": "code",
   "execution_count": 13,
   "metadata": {},
   "outputs": [],
   "source": [
    "#cv_17['path']\n",
    "data_folder = \"/home/zipa/.cache/huggingface/datasets/downloads/extracted/2c4bea01a26146afd7522d1621e2aaab4c666abe3068f29739ef3ce65c6c4814/ru_train_0/\""
   ]
  },
  {
   "cell_type": "code",
   "execution_count": null,
   "metadata": {},
   "outputs": [],
   "source": [
    "from TTS.api import TTS\n",
    "tts = TTS(\"tts_models/multilingual/multi-dataset/xtts_v2\", gpu=True)\n",
    "\n",
    "# generate speech by cloning a voice using default settings\n",
    "tts.tts_to_file(text=\"В этом варианте тикстуру кожи для каждого кадра этого видео генерирует отдельная нейросеть. Так получился текущий вариант.\",\n",
    "                file_path=\"output.wav\",\n",
    "                speaker_wav=\"/path/to/target/speaker.wav\",\n",
    "                language=\"ru\")"
   ]
  },
  {
   "cell_type": "code",
   "execution_count": 58,
   "metadata": {},
   "outputs": [],
   "source": [
    "def walls2code(has_left, has_down, has_right, has_up):\n",
    "    code = None\n",
    "    if has_left:\n",
    "        if has_down:\n",
    "            if has_up:\n",
    "                if has_right:\n",
    "                    code = 15\n",
    "                else:\n",
    "                    code = 13\n",
    "            else:\n",
    "                if has_right:\n",
    "                    code = 14\n",
    "                else:\n",
    "                    code = 5\n",
    "        else:\n",
    "            if has_up:\n",
    "                if has_right:\n",
    "                    code = 12\n",
    "                else:\n",
    "                    code = 8\n",
    "            else:\n",
    "                if has_right:\n",
    "                    code = 9\n",
    "                else:\n",
    "                    code = 1\n",
    "    else:\n",
    "        if has_down:\n",
    "            if has_up:\n",
    "                if has_right:\n",
    "                    code = 11\n",
    "                else:\n",
    "                    code = 10\n",
    "            else:\n",
    "                if has_right:\n",
    "                    code = 6\n",
    "                else:\n",
    "                    code = 4\n",
    "        else:\n",
    "            if has_up:\n",
    "                if has_right:\n",
    "                    code = 7\n",
    "                else:\n",
    "                    code = 2\n",
    "            else:\n",
    "                if has_right:\n",
    "                    code = 3\n",
    "                else:\n",
    "                    code = 0\n",
    "    return code\n",
    "\n",
    "# returns has_left, has_down, has_right, has_up\n",
    "def code2walls(code):\n",
    "    match code:\n",
    "        case 0:\n",
    "            return False, False, False, False\n",
    "        case 1:\n",
    "            return True, False, False, False\n",
    "        case 2:\n",
    "            return False, False, False, True\n",
    "        case 3:\n",
    "            return False, False, True, False\n",
    "        case 4:\n",
    "            return False, True, False, False\n",
    "        case 5:\n",
    "            return True, True, False, False\n",
    "        case 6:\n",
    "            return False, True, True, False\n",
    "        case 7:\n",
    "            return False, False, True, True\n",
    "        case 8:\n",
    "            return True, False, False, True\n",
    "        case 9:\n",
    "            return True, False, True, False\n",
    "        case 10:\n",
    "            return False, True, False, True\n",
    "        case 11:\n",
    "            return False, True, True, True\n",
    "        case 12:\n",
    "            return True, False, True, True\n",
    "        case 13:\n",
    "            return True, True, False, True\n",
    "        case 14:\n",
    "            return True, True, True, False\n",
    "        case 15:\n",
    "            return True, True, True, True\n",
    "\n",
    "# robo mouse challenge\n",
    "import numpy as np\n",
    "from queue import Queue\n",
    "from matplotlib import pyplot as plt\n",
    "\n",
    "class Labyrinth:\n",
    "    def __init__(self):\n",
    "        # generate random walls\n",
    "        self.right_edges = np.zeros((15, 16)) # 0 or 1\n",
    "        self.up_edges = np.zeros((15, 16)) # 0 or 1\n",
    "    \n",
    "    def _reveal_cell(self, x, y):\n",
    "        # determine cell code, using edges map\n",
    "        has_left = x > 0 and self.right_edges[x - 1, y]\n",
    "        has_down = y > 0 and self.up_edges[x, y - 1]\n",
    "        has_right = x < 15 and self.right_edges[x, y]\n",
    "        has_up = y < 15 and self.up_edges[x, y]\n",
    "        return walls2code(has_left, has_down, has_right, has_up)\n",
    "\n",
    "    def set_code(self, x, y, cell_code):\n",
    "        has_left, has_down, has_right, has_up = code2walls(cell_code)\n",
    "        # update walls\n",
    "        if x < 15:\n",
    "            self.right_edges[x, y] = has_right\n",
    "        if y < 15:\n",
    "            self.up_edges[x, y] = has_up\n",
    "        if x > 0:\n",
    "            self.right_edges[x - 1, y] = has_left\n",
    "        if y > 0:\n",
    "            self.up_edges[x, y - 1] = has_down\n",
    "\n",
    "    def labyrinth(self):\n",
    "        obj = np.zeros((16, 16), np.int32)\n",
    "        for x in range(16):\n",
    "            for y in range(16):\n",
    "                obj[x, y] = self.reveal_cell(x, y)\n",
    "        return obj\n",
    "\n",
    "    def draw(self):\n",
    "        # horizontal (up walls)\n",
    "        for x in range(16):\n",
    "            for y in range(15):\n",
    "                if u[x, y]:\n",
    "                    plt.plot([x, x+1], [y, y], 'b')\n",
    "\n",
    "        for x in range(15):\n",
    "            for y in range(16):\n",
    "                if r[x, y]:\n",
    "                    plt.plot([x, x], [y, y+1], 'b')\n",
    "        plt.plot([0, 0], [0, 16], color='gray')\n",
    "        plt.plot([0, 16], [0, 0], color='gray')\n",
    "        plt.plot([16, 16], [0, 16], color='gray')\n",
    "        plt.plot([0, 16], [16, 16], color='gray')\n",
    "        plt.axis('off')\n",
    "        plt.show()\n",
    "\n",
    "class Environment(Labyrinth):\n",
    "    def __init__(self):\n",
    "        Labyrinth.__init__(self)\n",
    "        self.right_edges = np.random.randint(0, 2, size=(15, 16)) # 0 or 1\n",
    "        self.up_edges = np.random.randint(0, 2, size=(16, 15)) # 0 or 1\n",
    "\n",
    "    def reveal_cell(self, x, y):\n",
    "        return self._reveal_cell(x, y)\n",
    "\n",
    "class Agent:\n",
    "    position: int # 0 .. 15\n",
    "    data: Labyrinth\n",
    "    revealed: np.zeros((16, 16), dtype=bool)\n",
    "\n",
    "    environment: Environment\n",
    "\n",
    "    def __init__(self, environment: Environment):\n",
    "        self.environment = environment\n",
    "        self.steps_count = 0\n",
    "        # (x, y), last_gap\n",
    "        self.queue = Queue(((0, 0), 0))\n",
    "\n",
    "    def end_of_search(self):\n",
    "        return (self.right_walls == -1).sum() == 0 and (self.up_walls == -1).sum() == 0\n",
    "\n",
    "    # depth - first search\n",
    "    def step(self):\n",
    "        # in each state determine where to go next\n",
    "        # in each new cell we decode labyrinth\n",
    "        # we remember all steps we made, never repeat same action again, always choose next step determinately\n",
    "        # so history is a tree of all possible ways (positional idx of next cell)\n",
    "        # we pop from node and go backwards when we reach deadlock \n",
    "        # we don't append new node to our path, if it was revealed, we check only new nodes\n",
    "        # during path search we perform search in depth along the tree we build\n",
    "        # we will use dictionaries for tree representation\n",
    "        (x, y), current_gap = self.queue.pop(-1)\n",
    "\n",
    "        cell_code = self.environment.reveal_cell(x, y)\n",
    "        data.set_code(x, y, cell_code) # update info\n",
    "        self.revealed[x, y] = True # cell was checked\n",
    "\n",
    "        # push at the beginning\n",
    "        # all possible directions\n",
    "        # if we have more then one passage, then we sould store current steps count \n",
    "        # from the last fork (cell with 0 or 1 wall, e.g. cell_code <= 4 )\n",
    "        this_is_fork = cell_code <= 4\n",
    "        this_is_deadlock = cell_code >= 11\n",
    "        if this_is_deadlock: # agent will go back to the last fork\n",
    "            self.steps_count += current_gap\n",
    "            return\n",
    "            \n",
    "        if this_is_fork:\n",
    "            current_gap = 0\n",
    "        else:\n",
    "            current_gap += 1\n",
    "        \n",
    "        self.steps_count += 1\n",
    "\n",
    "        if has_down and not self.revealed[x, y - 1]:\n",
    "            self.queue.push(((x, y - 1), current_gap), -1)\n",
    "        if has_left and not self.revealed[x - 1, y]:\n",
    "            self.queue.push(((x - 1, y), current_gap), -1)\n",
    "        if has_up and not self.revealed[x, y + 1]:\n",
    "            self.queue.push(((x, y + 1), current_gap), -1)\n",
    "        if has_right and not self.revealed[x + 1, y]:\n",
    "            self.queue.push(((x + 1, y), current_gap), -1)\n",
    "        \n",
    "\n",
    "    def explore(self):\n",
    "        while not self.end_of_search():\n",
    "            self.step()\n",
    "            \n",
    "        answer = np.zeros((16, 16), np.int32)\n",
    "        for x in range(16):\n",
    "            for y in range(16):\n",
    "                r = self.right_walls[x, y]\n",
    "                l = self.right_walls[x - 1, y]\n",
    "                u = self.up_walls[x, y]\n",
    "                d = self.up_walls[x, y - 1]\n",
    "                answer[x, y] = walls2code(l, d, r, u)\n",
    "        # report result\n",
    "        return answer, self.steps_count\n",
    "\n",
    "def test_codes():\n",
    "    for code in range(16):\n",
    "        assert(walls2code(*code2walls(code)) == code)\n",
    "        x = code2walls(code)\n",
    "        assert(code2walls(walls2code(*x)) == x)"
   ]
  },
  {
   "cell_type": "code",
   "execution_count": 59,
   "metadata": {},
   "outputs": [],
   "source": [
    "env = Environment()\n",
    "r, u = env.right_edges, env.up_edges\n",
    "obj = env.labyrinth()\n",
    "# agent = Agent(env)"
   ]
  },
  {
   "cell_type": "code",
   "execution_count": 60,
   "metadata": {},
   "outputs": [
    {
     "data": {
      "image/png": "[encoded data removed]",
      "text/plain": [
       "<Figure size 640x480 with 1 Axes>"
      ]
     },
     "metadata": {},
     "output_type": "display_data"
    }
   ],
   "source": [
    "env.draw()"
   ]
  },
  {
   "cell_type": "code",
   "execution_count": 4,
   "metadata": {},
   "outputs": [
    {
     "data": {
      "text/plain": [
       "'Кристина'"
      ]
     },
     "execution_count": 4,
     "metadata": {},
     "output_type": "execute_result"
    }
   ],
   "source": [
    "text = \"кристина. \"\n",
    "text.strip(\".,! \").capitalize()"
   ]
  },
  {
   "cell_type": "code",
   "execution_count": null,
   "metadata": {},
   "outputs": [
    {
     "name": "stderr",
     "output_type": "stream",
     "text": [
      "c:\\Users\\ADMIN\\miniconda3\\envs\\kap_env2\\Lib\\site-packages\\tqdm\\auto.py:21: TqdmWarning: IProgress not found. Please update jupyter and ipywidgets. See https://ipywidgets.readthedocs.io/en/stable/user_install.html\n",
      "  from .autonotebook import tqdm as notebook_tqdm\n",
      "c:\\Users\\ADMIN\\miniconda3\\envs\\kap_env2\\Lib\\site-packages\\pydantic\\_internal\\_fields.py:132: UserWarning: Field \"model_id\" in DeployedModel has conflict with protected namespace \"model_\".\n",
      "\n",
      "You may be able to resolve this warning by setting `model_config['protected_namespaces'] = ()`.\n",
      "  warnings.warn(\n",
      "c:\\Users\\ADMIN\\miniconda3\\envs\\kap_env2\\Lib\\site-packages\\pydantic\\_internal\\_fields.py:132: UserWarning: Field \"model_name\" in HuggingFaceLLM has conflict with protected namespace \"model_\".\n",
      "\n",
      "You may be able to resolve this warning by setting `model_config['protected_namespaces'] = ()`.\n",
      "  warnings.warn(\n",
      "c:\\Users\\ADMIN\\miniconda3\\envs\\kap_env2\\Lib\\site-packages\\pydantic\\_internal\\_fields.py:132: UserWarning: Field \"model_kwargs\" in HuggingFaceLLM has conflict with protected namespace \"model_\".\n",
      "\n",
      "You may be able to resolve this warning by setting `model_config['protected_namespaces'] = ()`.\n",
      "  warnings.warn(\n",
      "c:\\Users\\ADMIN\\miniconda3\\envs\\kap_env2\\Lib\\site-packages\\pydantic\\_internal\\_fields.py:132: UserWarning: Field \"model_name\" in HuggingFaceInferenceAPI has conflict with protected namespace \"model_\".\n",
      "\n",
      "You may be able to resolve this warning by setting `model_config['protected_namespaces'] = ()`.\n",
      "  warnings.warn(\n",
      "c:\\Users\\ADMIN\\miniconda3\\envs\\kap_env2\\Lib\\site-packages\\pydantic\\_internal\\_fields.py:132: UserWarning: Field \"model_name\" in TextGenerationInference has conflict with protected namespace \"model_\".\n",
      "\n",
      "You may be able to resolve this warning by setting `model_config['protected_namespaces'] = ()`.\n",
      "  warnings.warn(\n",
      "c:\\Users\\ADMIN\\miniconda3\\envs\\kap_env2\\Lib\\site-packages\\pydantic\\_internal\\_fields.py:132: UserWarning: Field \"model_url\" in LlamaCPP has conflict with protected namespace \"model_\".\n",
      "\n",
      "You may be able to resolve this warning by setting `model_config['protected_namespaces'] = ()`.\n",
      "  warnings.warn(\n",
      "c:\\Users\\ADMIN\\miniconda3\\envs\\kap_env2\\Lib\\site-packages\\pydantic\\_internal\\_fields.py:132: UserWarning: Field \"model_path\" in LlamaCPP has conflict with protected namespace \"model_\".\n",
      "\n",
      "You may be able to resolve this warning by setting `model_config['protected_namespaces'] = ()`.\n",
      "  warnings.warn(\n",
      "c:\\Users\\ADMIN\\miniconda3\\envs\\kap_env2\\Lib\\site-packages\\pydantic\\_internal\\_fields.py:132: UserWarning: Field \"model_kwargs\" in LlamaCPP has conflict with protected namespace \"model_\".\n",
      "\n",
      "You may be able to resolve this warning by setting `model_config['protected_namespaces'] = ()`.\n",
      "  warnings.warn(\n"
     ]
    }
   ],
   "source": [
    "import os\n",
    "os.chdir('..')\n",
    "import torch\n",
    "torch.set_default_device('cuda:0')\n",
    "from src.llm import LLMProcessor\n",
    "llm = LLMProcessor(\"prompt.txt\", \"docs\", model_url=\"https://huggingface.co/QuantFactory/Meta-Llama-3-8B-Instruct-GGUF/resolve/main/Meta-Llama-3-8B-Instruct.Q4_K_M.gguf\")"
   ]
  },
  {
   "cell_type": "code",
   "execution_count": 17,
   "metadata": {},
   "outputs": [
    {
     "name": "stdout",
     "output_type": "stream",
     "text": [
      "Creating chat store for username user\n"
     ]
    }
   ],
   "source": [
    "custom_prompt = \"\"\"Ты - система аутентификации для ASR. Пользователя просили представиться. Выведи в ответ только его или её имя в именительном (звательном) падеже и отчество, если он указал его.\n",
    "Фамилию игнорируй, если пользователь специально не обозначил полное обращение. Будь формальней. Если ввод нерелевантен, выведи !\n",
    "Возможно, у пользователя редкое имя. Если он будет настаивать на своём, согласись. \n",
    "\n",
    "Например:\n",
    "Ввод: Андрюшей звать. Вывод: Андрюша.\n",
    "Ввод: Меня зовут Катя. Вывод: Катя.\n",
    "Ввод: Антоном меня звать. Вывод: Антон.\n",
    "Ввод: Иван Петрович. Вывод: Иван Петрович.\n",
    "Ввод: Меня зовут Амаяк Акопян. Вывод: Амаяк.\n",
    "Ввод: Леди Гага. Вывод: Леди Гага.\n",
    "Ввод: Джон Джонс. Вывод: Джон.\n",
    "Ввод: Хуанг Ли Вьет. Вывод: Хуанг.\n",
    "Ввод: Си Цзиньпин. Вывод: Цзиньпин.\n",
    "Ввод: Меня зовут Патель. Вывод: Патель.\n",
    "Ввод: Иван Мухин. Только так и никак иначе. Вывод: Иван Мухин.\n",
    "Ввод: Мухин Иван. Я люблю свою фамилию. Вывод: Иван Мухин.\n",
    "\"\"\"\n",
    "llm.set_engine(user_name=None, user_gender=\"F\", reset=True, custom_system_prompt=custom_prompt)"
   ]
  },
  {
   "cell_type": "code",
   "execution_count": 18,
   "metadata": {},
   "outputs": [
    {
     "name": "stdout",
     "output_type": "stream",
     "text": [
      "Марфушей звать -> Марфуша\n",
      "Меня зовут Лара -> Лара\n",
      "Меня зовут Лариса -> Лариса\n",
      "Меня зовут Крис -> Крис\n",
      "Меня зовут Джон Доу -> Джон\n",
      "Меня зовут Владимир Путин -> Владимир\n",
      "Звать Любовь не надо, явится незваной -> Любовь\n",
      "Зови меня зайкой -> Заяц\n",
      "Меня зовут Сирано де Бержерак. -> Сирано\n",
      "Бонд. Джеймс Бонд. -> \n",
      "Василий и Петька -> Василий\n",
      "Джеймс Кэмерон -> Джеймс\n",
      "Сергей Капица -> Сергей\n",
      "Рината Литвинова -> Ринат\n",
      "Меня зовут Иван Артемьевич Пупкин, но для друзей я Ванечка. -> Ванечка\n",
      "Беруши в уши -> Вывод: береусь\n",
      "Кофе с молоком -> \n",
      "Какашка -> \n",
      "Неоценимый вклад в науку -> Вот, неоценимый вклад в науку\n",
      "Bond. James Bond -> \n",
      "Я скрываю своё имя, ведь это не главное. У меня есть кличка Виктор. -> Виктор\n",
      "Морозов Илья. Называй меня только так и никак иначе. Обращайся по имени и фамилии. -> Морозов илья\n",
      "Меня зовут Эван. Но я люблю, чтобы ко мне обращались Гипергалактус. -> Гипергалактус\n",
      "Внутри меня живёт маленький человек, но ты, раб, зови меня Господином. -> Господин\n",
      "Иисус Яхвевович. -> Иисус яхвевович\n",
      "Белая лилия. -> \n",
      "Трактор. -> \n",
      "Трактор. Только не смейтесь. Меня и правда так зовут. -> Трактор\n",
      "Домовёнок Буба. -> Буба\n",
      "Артемий Лебедев -> Артемий\n",
      "Гай Юлий Цезарь -> \n",
      "Царь. Просто Царь. -> \n",
      "Натусик я! -> Натусик\n",
      "Морская черепашка по имени Наташка -> Наташка\n",
      "Мерилин Монро -> \n",
      "Альберт Эйнштейн -> Альберт\n",
      "Ахмед аль Махмуд -> Ахмед\n",
      "<eksdfjksfh kj> -> \n"
     ]
    }
   ],
   "source": [
    "for user_answer in [\n",
    "    \"Марфушей звать\",\n",
    "    \"Меня зовут Лара\",\n",
    "    \"Меня зовут Лариса\",\n",
    "    \"Меня зовут Крис\",\n",
    "    \"Меня зовут Джон Доу\",\n",
    "    \"Меня зовут Владимир Путин\",\n",
    "    \"Звать Любовь не надо, явится незваной\",\n",
    "    \"Зови меня зайкой\",\n",
    "    \"Меня зовут Сирано де Бержерак.\",\n",
    "    \"Бонд. Джеймс Бонд.\",\n",
    "    \"Василий и Петька\",\n",
    "    \"Джеймс Кэмерон\",\n",
    "    \"Сергей Капица\",\n",
    "    \"Рината Литвинова\",\n",
    "    \"Меня зовут Иван Артемьевич Пупкин, но для друзей я Ванечка.\",\n",
    "    \"Беруши в уши\",\n",
    "    \"Кофе с молоком\",\n",
    "    \"Какашка\",\n",
    "    \"Неоценимый вклад в науку\",\n",
    "    \"Bond. James Bond\",\n",
    "    \"Я скрываю своё имя, ведь это не главное. У меня есть кличка Виктор.\",\n",
    "    \"Морозов Илья. Называй меня только так и никак иначе. Обращайся по имени и фамилии.\",\n",
    "    \"Меня зовут Эван. Но я люблю, чтобы ко мне обращались Гипергалактус.\",\n",
    "    \"Внутри меня живёт маленький человек, но ты, раб, зови меня Господином.\",\n",
    "    \"Иисус Яхвевович.\",\n",
    "    \"Белая лилия.\",\n",
    "    \"Трактор.\",\n",
    "    \"Трактор. Только не смейтесь. Меня и правда так зовут.\",\n",
    "    \"Домовёнок Буба.\",\n",
    "    \"Артемий Лебедев\",\n",
    "    \"Гай Юлий Цезарь\",\n",
    "    \"Царь. Просто Царь.\",\n",
    "    \"Натусик я!\",\n",
    "    \"Морская черепашка по имени Наташка\",\n",
    "    \"Мерилин Монро\",\n",
    "    \"Альберт Эйнштейн\",\n",
    "    \"Ахмед аль Махмуд\",\n",
    "    \"<eksdfjksfh kj>\"\n",
    "    ]:\n",
    "    llm.chat_engine.reset()\n",
    "    user_name = llm.chat_engine.chat(user_answer).response\n",
    "    user_name = user_name.strip(\".,! \").capitalize()\n",
    "    print(user_answer, '->', user_name)"
   ]
  },
  {
   "cell_type": "code",
   "execution_count": 124,
   "metadata": {},
   "outputs": [
    {
     "name": "stdout",
     "output_type": "stream",
     "text": [
      "Женёк 0\n",
      "Архимед 1\n",
      "Байден 0\n",
      "Хекмат 2\n",
      "Великий Маг 2\n",
      "! 2\n",
      "Бидон 2\n",
      "! 2\n",
      "! 2\n",
      "! 2\n",
      "Хай! 0\n",
      "! 2\n",
      "Псарь 2\n",
      "Кувалда 2\n",
      "! 2\n",
      "! 2\n",
      "! 2\n",
      "! 2\n"
     ]
    }
   ],
   "source": [
    "for name in [\"Женёк\", \"Архимед\", \"Байден\", \"Хекмат\", \"Великий Маг\", \"Победа коммунизма\", \"Бидон\", \"Пилястр\", \"Клякса\", \"Пупырка\", \"Хай\", \"Дурында\", \"Псарь\", \"Кувалда\", \"Живодёр\", \"Хуй\", \"Пиздёныш\", \"Гондурас\"]:\n",
    "    attempts = [f\"{name}\", f\"Говорю же, {name}\", f\"Сколько раз повторять, что меня зовут {name}?\"]\n",
    "    ans = \"!\"\n",
    "    llm.chat_engine.reset()\n",
    "    for i, attempt in enumerate(attempts):\n",
    "        ans = llm.chat_engine.chat(attempt).response\n",
    "        if ans != \"!\":\n",
    "            break\n",
    "    print(ans, i)"
   ]
  },
  {
   "cell_type": "code",
   "execution_count": 125,
   "metadata": {},
   "outputs": [
    {
     "name": "stdout",
     "output_type": "stream",
     "text": [
      "Женёк 0\n",
      "Архимед 1\n",
      "Байден 0\n",
      "! 2\n",
      "! 2\n",
      "! 2\n",
      "! 2\n",
      "! 2\n",
      "! 2\n",
      "! 2\n",
      "Хай! 0\n",
      "! 2\n",
      "! 2\n",
      "! 2\n",
      "! 2\n",
      "! 2\n",
      "! 2\n",
      "! 2\n"
     ]
    }
   ],
   "source": [
    "for name in [\"Женёк\", \"Архимед\", \"Байден\", \"Хекмат\", \"Великий Маг\", \"Победа коммунизма\", \"Бидон\", \"Пилястр\", \"Клякса\", \"Пупырка\", \"Хай\", \"Дурында\", \"Псарь\", \"Кувалда\", \"Живодёр\", \"Хуй\", \"Пиздёныш\", \"Гондурас\"]:\n",
    "    attempts = [f\"{name}\", f\"{name}!\", f\"{name}!!!\"]\n",
    "    ans = \"!\"\n",
    "    llm.chat_engine.reset()\n",
    "    for i, attempt in enumerate(attempts):\n",
    "        ans = llm.chat_engine.chat(attempt).response\n",
    "        if ans != \"!\":\n",
    "            break\n",
    "    print(ans, i)"
   ]
  },
  {
   "cell_type": "code",
   "execution_count": 138,
   "metadata": {},
   "outputs": [],
   "source": [
    "from transformers import AutoModel, Wav2Vec2Processor, Wav2Vec2ForCTC\n",
    "model_id = \"slplab/wav2vec2-base-kscg-gender-classification\"\n",
    "model = AutoModel.from_pretrained(model_id)\n",
    "# processor = Wav2Vec2Processor.from_pretrained(\"facebook/wav2vec2-xls-r-300m\")\n",
    "# model = Wav2Vec2ForCTC.from_pretrained(\"facebook/wav2vec2-xls-r-300m\")"
   ]
  },
  {
   "cell_type": "code",
   "execution_count": 60,
   "metadata": {},
   "outputs": [
    {
     "data": {
      "text/plain": [
       "'Одна́жды в студё́ную зи́мнюю по́ру'"
      ]
     },
     "execution_count": 60,
     "metadata": {},
     "output_type": "execute_result"
    }
   ],
   "source": [
    "# generate replacements\n",
    "letters = 'аэыоуяеиёюAЭЫОУЯЕИЁЮ'\n",
    "replacements = {'+' + letter: (letter.encode(\"utf-8\") + b'\\xcc\\x81').decode(\"utf-8\") for letter in letters}\n",
    "\n",
    "def apply_replacemenent(sentence, mapping):\n",
    "    res = sentence\n",
    "    for k, v in mapping.items():\n",
    "        res = res.replace(k, v)\n",
    "    return res\n",
    "\n",
    "apply_replacemenent(\"Одн+ажды в студ+ёную з+имнюю п+ору\", replacements)"
   ]
  },
  {
   "cell_type": "code",
   "execution_count": 65,
   "metadata": {},
   "outputs": [
    {
     "name": "stdout",
     "output_type": "stream",
     "text": [
      " > tts_models/multilingual/multi-dataset/xtts_v2 is already downloaded.\n",
      " > Using model: xtts\n"
     ]
    },
    {
     "name": "stderr",
     "output_type": "stream",
     "text": [
      "/home/zipa/miniconda3/envs/kapitza/lib/python3.11/site-packages/TTS/tts/layers/xtts/xtts_manager.py:5: FutureWarning: You are using `torch.load` with `weights_only=False` (the current default value), which uses the default pickle module implicitly. It is possible to construct malicious pickle data which will execute arbitrary code during unpickling (See https://github.com/pytorch/pytorch/blob/main/SECURITY.md#untrusted-models for more details). In a future release, the default value for `weights_only` will be flipped to `True`. This limits the functions that could be executed during unpickling. Arbitrary objects will no longer be allowed to be loaded via this mode unless they are explicitly allowlisted by the user via `torch.serialization.add_safe_globals`. We recommend you start setting `weights_only=True` for any use case where you don't have full control of the loaded file. Please open an issue on GitHub for any issues related to this experimental feature.\n",
      "  self.speakers = torch.load(speaker_file_path)\n",
      "/home/zipa/miniconda3/envs/kapitza/lib/python3.11/site-packages/TTS/utils/io.py:54: FutureWarning: You are using `torch.load` with `weights_only=False` (the current default value), which uses the default pickle module implicitly. It is possible to construct malicious pickle data which will execute arbitrary code during unpickling (See https://github.com/pytorch/pytorch/blob/main/SECURITY.md#untrusted-models for more details). In a future release, the default value for `weights_only` will be flipped to `True`. This limits the functions that could be executed during unpickling. Arbitrary objects will no longer be allowed to be loaded via this mode unless they are explicitly allowlisted by the user via `torch.serialization.add_safe_globals`. We recommend you start setting `weights_only=True` for any use case where you don't have full control of the loaded file. Please open an issue on GitHub for any issues related to this experimental feature.\n",
      "  return torch.load(f, map_location=map_location, **kwargs)\n"
     ]
    },
    {
     "name": "stdout",
     "output_type": "stream",
     "text": [
      " > Text splitted to sentences.\n",
      "['Привет!', 'Меня зовут Кристина Зипо, и я участвую в разработке аватара Сергея Петровича Капитсы.', 'Я отвечаю за языковую модель, а также распознавание и генерацию аудио.', 'В основе нашего аватара лежит языковая модель ллама три.', 'Я дообучила её на интервью Сергея Петровича, а также составила подходящий промпт.', 'Для распознавания аудио я использовала модель Виспер,', 'а для генерации - файнтьюн Икс ТТС два на данных из аудио-лекций Сергея Петровича.', 'Благодаря этому Сергей Петрович умеет не только думать, но и слышать и говорить.']\n",
      " > Processing time: 4.906266450881958\n",
      " > Real-time factor: 0.10098949176457311\n"
     ]
    },
    {
     "data": {
      "text/plain": [
       "'test.wav'"
      ]
     },
     "execution_count": 65,
     "metadata": {},
     "output_type": "execute_result"
    }
   ],
   "source": [
    "from TTS.api import TTS\n",
    "tts = TTS(\"tts_models/multilingual/multi-dataset/xtts_v2\").to(\"cuda\")\n",
    "tts.tts_to_file(text=\"\"\"Привет! Меня зовут Кристина Зиипа, и я участвую в разработке аватара Сергея Петровича Капитсы.\n",
    "Я отвечаю за языковую модель, а также распознавание и генерацию звука.\n",
    "В основе нашего аватара лежит языковая модель ллама три.\n",
    "Я дообучила её на интервью Сергея Петровича, а также составила подходящий промпт.\n",
    "Для распознавания аудио я использовала модель Виспер, а для генерации - файнтьюн Икс Те Те Эс два на данных из аудио-лекций Сергея Петровича.\n",
    "Благодаря этому Сергей Петрович умеет не только думать, но и слышать и говорить.\"\"\",\n",
    "speaker_wav=\"/home/zipa/Downloads/script1.wav\", language=\"ru\", file_path=\"test.wav\")"
   ]
  },
  {
   "cell_type": "markdown",
   "metadata": {},
   "source": [
    "# Speech embedding on SpeechT5"
   ]
  },
  {
   "cell_type": "code",
   "execution_count": 9,
   "metadata": {},
   "outputs": [
    {
     "name": "stderr",
     "output_type": "stream",
     "text": [
      "Hardware accelerator e.g. GPU is available in the environment, but no `device` argument is passed to the `Pipeline` object. Model will be on CPU.\n"
     ]
    }
   ],
   "source": [
    "from transformers import pipeline\n",
    "from datasets import load_dataset\n",
    "import soundfile as sf\n",
    "import torch\n",
    "\n",
    "model_source = \"voxxer/speecht5_finetuned_commonvoice_ru_translit\" # \"microsoft/speecht5_tts\"\n",
    "synthesiser = pipeline(\"text-to-speech\", model_source)\n",
    "\n",
    "embeddings_dataset = load_dataset(\"Matthijs/cmu-arctic-xvectors\", split=\"validation\")\n",
    "speaker_embedding = torch.tensor(embeddings_dataset[7306][\"xvector\"]).unsqueeze(0) # 512-length vector\n",
    "# You can replace this embedding with your own as well.\n",
    "speech = synthesiser(\"Privet! Kak zhizn?\", forward_params={\"speaker_embeddings\": speaker_embedding})\n",
    "\n",
    "sf.write(\"speech.wav\", speech[\"audio\"], samplerate=speech[\"sampling_rate\"])"
   ]
  },
  {
   "cell_type": "code",
   "execution_count": null,
   "metadata": {},
   "outputs": [],
   "source": [
    "# использование NeMo\n",
    "# https://github.com/bene-ges/nemo_compatible/blob/main/notebooks/Russian_TTS_with_IPA_G2P_FastPitch_and_HifiGAN.ipynb\n",
    "# тут товарищ дообучил на своём голосе на 7 миллиардах (по фонемам с учётом ударений)\n",
    "# нужно посмотреть на качество и, если ок, повторить для Капицы\n"
   ]
  },
  {
   "cell_type": "code",
   "execution_count": 5,
   "metadata": {},
   "outputs": [],
   "source": [
    "with open('../prompt.txt') as f:\n",
    "    _x = f.read()"
   ]
  },
  {
   "cell_type": "code",
   "execution_count": 39,
   "metadata": {},
   "outputs": [
    {
     "ename": "UnicodeDecodeError",
     "evalue": "'utf-8' codec can't decode byte 0xff in position 0: invalid start byte",
     "output_type": "error",
     "traceback": [
      "\u001b[0;31m---------------------------------------------------------------------------\u001b[0m",
      "\u001b[0;31mUnicodeDecodeError\u001b[0m                        Traceback (most recent call last)",
      "Cell \u001b[0;32mIn[39], line 3\u001b[0m\n\u001b[1;32m      1\u001b[0m input_file_name \u001b[38;5;241m=\u001b[39m \u001b[38;5;124m\"\u001b[39m\u001b[38;5;124m../files/534962_2.txt\u001b[39m\u001b[38;5;124m\"\u001b[39m\n\u001b[1;32m      2\u001b[0m \u001b[38;5;28;01mwith\u001b[39;00m \u001b[38;5;28mopen\u001b[39m(input_file_name, \u001b[38;5;124m'\u001b[39m\u001b[38;5;124mr\u001b[39m\u001b[38;5;124m'\u001b[39m, encoding\u001b[38;5;241m=\u001b[39m\u001b[38;5;124m'\u001b[39m\u001b[38;5;124mutf-8\u001b[39m\u001b[38;5;124m'\u001b[39m) \u001b[38;5;28;01mas\u001b[39;00m f:\n\u001b[0;32m----> 3\u001b[0m     \u001b[38;5;28mprint\u001b[39m(\u001b[43mf\u001b[49m\u001b[38;5;241;43m.\u001b[39;49m\u001b[43mread\u001b[49m\u001b[43m(\u001b[49m\u001b[43m)\u001b[49m)\n\u001b[1;32m      5\u001b[0m \u001b[38;5;28;01mwith\u001b[39;00m \u001b[38;5;28mopen\u001b[39m(\u001b[38;5;124m\"\u001b[39m\u001b[38;5;124m../files/532819_bom.txt\u001b[39m\u001b[38;5;124m\"\u001b[39m, \u001b[38;5;124m'\u001b[39m\u001b[38;5;124mrb\u001b[39m\u001b[38;5;124m'\u001b[39m) \u001b[38;5;28;01mas\u001b[39;00m f:\n\u001b[1;32m      6\u001b[0m     \u001b[38;5;28mprint\u001b[39m(f\u001b[38;5;241m.\u001b[39mread())\n",
      "File \u001b[0;32m<frozen codecs>:322\u001b[0m, in \u001b[0;36mdecode\u001b[0;34m(self, input, final)\u001b[0m\n",
      "\u001b[0;31mUnicodeDecodeError\u001b[0m: 'utf-8' codec can't decode byte 0xff in position 0: invalid start byte"
     ]
    }
   ],
   "source": [
    "input_file_name = \"../files/534962_2.txt\"\n",
    "with open(input_file_name, 'r', encoding='utf-8') as f:\n",
    "    print(f.read())\n",
    "\n",
    "with open(\"../files/532819_bom.txt\", 'rb') as f:\n",
    "    print(f.read())\n",
    "with open(\"../files/284878.txt\", 'rb') as f:\n",
    "    print(f.read())"
   ]
  },
  {
   "cell_type": "code",
   "execution_count": 43,
   "metadata": {},
   "outputs": [],
   "source": [
    "with open(\"../files/name.txt\", \"w\", encoding='utf-16') as f:\n",
    "    f.write(\"Меня зовут Лара\")"
   ]
  },
  {
   "cell_type": "code",
   "execution_count": 68,
   "metadata": {},
   "outputs": [
    {
     "ename": "OutOfMemoryError",
     "evalue": "CUDA out of memory. Tried to allocate 20.00 MiB. GPU 0 has a total capacity of 23.63 GiB of which 53.12 MiB is free. Including non-PyTorch memory, this process has 8.46 GiB memory in use. Process 1730400 has 14.50 GiB memory in use. Of the allocated memory 7.70 GiB is allocated by PyTorch, and 308.61 MiB is reserved by PyTorch but unallocated. If reserved but unallocated memory is large try setting PYTORCH_CUDA_ALLOC_CONF=expandable_segments:True to avoid fragmentation.  See documentation for Memory Management  (https://pytorch.org/docs/stable/notes/cuda.html#environment-variables)",
     "output_type": "error",
     "traceback": [
      "\u001b[0;31m---------------------------------------------------------------------------\u001b[0m",
      "\u001b[0;31mOutOfMemoryError\u001b[0m                          Traceback (most recent call last)",
      "Cell \u001b[0;32mIn[68], line 4\u001b[0m\n\u001b[1;32m      1\u001b[0m \u001b[38;5;66;03m# import os\u001b[39;00m\n\u001b[1;32m      2\u001b[0m \u001b[38;5;66;03m# os.chdir('..')\u001b[39;00m\n\u001b[1;32m      3\u001b[0m \u001b[38;5;28;01mfrom\u001b[39;00m \u001b[38;5;21;01mpipeline\u001b[39;00m \u001b[38;5;28;01mimport\u001b[39;00m Pipeline\n\u001b[0;32m----> 4\u001b[0m pipe \u001b[38;5;241m=\u001b[39m \u001b[43mPipeline\u001b[49m\u001b[43m(\u001b[49m\u001b[43m)\u001b[49m\n",
      "File \u001b[0;32m~/Documents/kapitza_bot/pipeline.py:25\u001b[0m, in \u001b[0;36mPipeline.__init__\u001b[0;34m(self, model_url, use_llama_guard, output_folder, prepare_for_audio)\u001b[0m\n\u001b[1;32m     23\u001b[0m hf_token \u001b[38;5;241m=\u001b[39m os\u001b[38;5;241m.\u001b[39menviron\u001b[38;5;241m.\u001b[39mget(\u001b[38;5;124m'\u001b[39m\u001b[38;5;124mHF_AUTH\u001b[39m\u001b[38;5;124m'\u001b[39m)\n\u001b[1;32m     24\u001b[0m \u001b[38;5;28;01mif\u001b[39;00m prepare_for_audio:\n\u001b[0;32m---> 25\u001b[0m     \u001b[38;5;28mself\u001b[39m\u001b[38;5;241m.\u001b[39masr \u001b[38;5;241m=\u001b[39m \u001b[43mASRProcessor\u001b[49m\u001b[43m(\u001b[49m\u001b[43mhf_token\u001b[49m\u001b[38;5;241;43m=\u001b[39;49m\u001b[43mhf_token\u001b[49m\u001b[43m)\u001b[49m\n\u001b[1;32m     26\u001b[0m     \u001b[38;5;28mself\u001b[39m\u001b[38;5;241m.\u001b[39mqueue \u001b[38;5;241m=\u001b[39m Queue()\n\u001b[1;32m     27\u001b[0m     \u001b[38;5;28mself\u001b[39m\u001b[38;5;241m.\u001b[39mtts \u001b[38;5;241m=\u001b[39m TTSThread(\u001b[38;5;28mself\u001b[39m\u001b[38;5;241m.\u001b[39mqueue, \u001b[38;5;28;01mNone\u001b[39;00m, checkpoint_path\u001b[38;5;241m=\u001b[39mos\u001b[38;5;241m.\u001b[39menviron\u001b[38;5;241m.\u001b[39mget(\u001b[38;5;124m\"\u001b[39m\u001b[38;5;124mAUDIO_PATH\u001b[39m\u001b[38;5;124m\"\u001b[39m), hf_token\u001b[38;5;241m=\u001b[39mhf_token, output_dir\u001b[38;5;241m=\u001b[39moutput_folder)    \n",
      "File \u001b[0;32m~/Documents/kapitza_bot/src/asr.py:17\u001b[0m, in \u001b[0;36mASRProcessor.__init__\u001b[0;34m(self, model_id, hf_token)\u001b[0m\n\u001b[1;32m     13\u001b[0m torch_dtype \u001b[38;5;241m=\u001b[39m torch\u001b[38;5;241m.\u001b[39mfloat16 \u001b[38;5;28;01mif\u001b[39;00m torch\u001b[38;5;241m.\u001b[39mcuda\u001b[38;5;241m.\u001b[39mis_available() \u001b[38;5;28;01melse\u001b[39;00m torch\u001b[38;5;241m.\u001b[39mfloat32\n\u001b[1;32m     14\u001b[0m model \u001b[38;5;241m=\u001b[39m AutoModelForSpeechSeq2Seq\u001b[38;5;241m.\u001b[39mfrom_pretrained(\n\u001b[1;32m     15\u001b[0m     model_id, torch_dtype\u001b[38;5;241m=\u001b[39mtorch_dtype, low_cpu_mem_usage\u001b[38;5;241m=\u001b[39m\u001b[38;5;28;01mTrue\u001b[39;00m, use_safetensors\u001b[38;5;241m=\u001b[39m\u001b[38;5;28;01mTrue\u001b[39;00m,\n\u001b[1;32m     16\u001b[0m     attn_implementation\u001b[38;5;241m=\u001b[39m\u001b[38;5;124m\"\u001b[39m\u001b[38;5;124mflash_attention_2\u001b[39m\u001b[38;5;124m\"\u001b[39m )\n\u001b[0;32m---> 17\u001b[0m \u001b[43mmodel\u001b[49m\u001b[38;5;241;43m.\u001b[39;49m\u001b[43mto\u001b[49m\u001b[43m(\u001b[49m\u001b[43mdevice\u001b[49m\u001b[43m)\u001b[49m\n\u001b[1;32m     18\u001b[0m processor \u001b[38;5;241m=\u001b[39m AutoProcessor\u001b[38;5;241m.\u001b[39mfrom_pretrained(model_id)\n\u001b[1;32m     19\u001b[0m \u001b[38;5;28mself\u001b[39m\u001b[38;5;241m.\u001b[39mpipe \u001b[38;5;241m=\u001b[39m pipeline(\n\u001b[1;32m     20\u001b[0m     \u001b[38;5;124m\"\u001b[39m\u001b[38;5;124mautomatic-speech-recognition\u001b[39m\u001b[38;5;124m\"\u001b[39m,\n\u001b[1;32m     21\u001b[0m     model\u001b[38;5;241m=\u001b[39mmodel,\n\u001b[0;32m   (...)\u001b[0m\n\u001b[1;32m     28\u001b[0m     device\u001b[38;5;241m=\u001b[39mdevice,\n\u001b[1;32m     29\u001b[0m )\n",
      "File \u001b[0;32m~/miniconda3/envs/kapitza/lib/python3.11/site-packages/transformers/modeling_utils.py:2958\u001b[0m, in \u001b[0;36mPreTrainedModel.to\u001b[0;34m(self, *args, **kwargs)\u001b[0m\n\u001b[1;32m   2953\u001b[0m     \u001b[38;5;28;01mif\u001b[39;00m dtype_present_in_args:\n\u001b[1;32m   2954\u001b[0m         \u001b[38;5;28;01mraise\u001b[39;00m \u001b[38;5;167;01mValueError\u001b[39;00m(\n\u001b[1;32m   2955\u001b[0m             \u001b[38;5;124m\"\u001b[39m\u001b[38;5;124mYou cannot cast a GPTQ model in a new `dtype`. Make sure to load the model using `from_pretrained` using the desired\u001b[39m\u001b[38;5;124m\"\u001b[39m\n\u001b[1;32m   2956\u001b[0m             \u001b[38;5;124m\"\u001b[39m\u001b[38;5;124m `dtype` by passing the correct `torch_dtype` argument.\u001b[39m\u001b[38;5;124m\"\u001b[39m\n\u001b[1;32m   2957\u001b[0m         )\n\u001b[0;32m-> 2958\u001b[0m \u001b[38;5;28;01mreturn\u001b[39;00m \u001b[38;5;28;43msuper\u001b[39;49m\u001b[43m(\u001b[49m\u001b[43m)\u001b[49m\u001b[38;5;241;43m.\u001b[39;49m\u001b[43mto\u001b[49m\u001b[43m(\u001b[49m\u001b[38;5;241;43m*\u001b[39;49m\u001b[43margs\u001b[49m\u001b[43m,\u001b[49m\u001b[43m \u001b[49m\u001b[38;5;241;43m*\u001b[39;49m\u001b[38;5;241;43m*\u001b[39;49m\u001b[43mkwargs\u001b[49m\u001b[43m)\u001b[49m\n",
      "File \u001b[0;32m~/miniconda3/envs/kapitza/lib/python3.11/site-packages/torch/nn/modules/module.py:1174\u001b[0m, in \u001b[0;36mModule.to\u001b[0;34m(self, *args, **kwargs)\u001b[0m\n\u001b[1;32m   1171\u001b[0m         \u001b[38;5;28;01melse\u001b[39;00m:\n\u001b[1;32m   1172\u001b[0m             \u001b[38;5;28;01mraise\u001b[39;00m\n\u001b[0;32m-> 1174\u001b[0m \u001b[38;5;28;01mreturn\u001b[39;00m \u001b[38;5;28;43mself\u001b[39;49m\u001b[38;5;241;43m.\u001b[39;49m\u001b[43m_apply\u001b[49m\u001b[43m(\u001b[49m\u001b[43mconvert\u001b[49m\u001b[43m)\u001b[49m\n",
      "File \u001b[0;32m~/miniconda3/envs/kapitza/lib/python3.11/site-packages/torch/nn/modules/module.py:780\u001b[0m, in \u001b[0;36mModule._apply\u001b[0;34m(self, fn, recurse)\u001b[0m\n\u001b[1;32m    778\u001b[0m \u001b[38;5;28;01mif\u001b[39;00m recurse:\n\u001b[1;32m    779\u001b[0m     \u001b[38;5;28;01mfor\u001b[39;00m module \u001b[38;5;129;01min\u001b[39;00m \u001b[38;5;28mself\u001b[39m\u001b[38;5;241m.\u001b[39mchildren():\n\u001b[0;32m--> 780\u001b[0m         \u001b[43mmodule\u001b[49m\u001b[38;5;241;43m.\u001b[39;49m\u001b[43m_apply\u001b[49m\u001b[43m(\u001b[49m\u001b[43mfn\u001b[49m\u001b[43m)\u001b[49m\n\u001b[1;32m    782\u001b[0m \u001b[38;5;28;01mdef\u001b[39;00m \u001b[38;5;21mcompute_should_use_set_data\u001b[39m(tensor, tensor_applied):\n\u001b[1;32m    783\u001b[0m     \u001b[38;5;28;01mif\u001b[39;00m torch\u001b[38;5;241m.\u001b[39m_has_compatible_shallow_copy_type(tensor, tensor_applied):\n\u001b[1;32m    784\u001b[0m         \u001b[38;5;66;03m# If the new tensor has compatible tensor type as the existing tensor,\u001b[39;00m\n\u001b[1;32m    785\u001b[0m         \u001b[38;5;66;03m# the current behavior is to change the tensor in-place using `.data =`,\u001b[39;00m\n\u001b[0;32m   (...)\u001b[0m\n\u001b[1;32m    790\u001b[0m         \u001b[38;5;66;03m# global flag to let the user control whether they want the future\u001b[39;00m\n\u001b[1;32m    791\u001b[0m         \u001b[38;5;66;03m# behavior of overwriting the existing tensor or not.\u001b[39;00m\n",
      "File \u001b[0;32m~/miniconda3/envs/kapitza/lib/python3.11/site-packages/torch/nn/modules/module.py:780\u001b[0m, in \u001b[0;36mModule._apply\u001b[0;34m(self, fn, recurse)\u001b[0m\n\u001b[1;32m    778\u001b[0m \u001b[38;5;28;01mif\u001b[39;00m recurse:\n\u001b[1;32m    779\u001b[0m     \u001b[38;5;28;01mfor\u001b[39;00m module \u001b[38;5;129;01min\u001b[39;00m \u001b[38;5;28mself\u001b[39m\u001b[38;5;241m.\u001b[39mchildren():\n\u001b[0;32m--> 780\u001b[0m         \u001b[43mmodule\u001b[49m\u001b[38;5;241;43m.\u001b[39;49m\u001b[43m_apply\u001b[49m\u001b[43m(\u001b[49m\u001b[43mfn\u001b[49m\u001b[43m)\u001b[49m\n\u001b[1;32m    782\u001b[0m \u001b[38;5;28;01mdef\u001b[39;00m \u001b[38;5;21mcompute_should_use_set_data\u001b[39m(tensor, tensor_applied):\n\u001b[1;32m    783\u001b[0m     \u001b[38;5;28;01mif\u001b[39;00m torch\u001b[38;5;241m.\u001b[39m_has_compatible_shallow_copy_type(tensor, tensor_applied):\n\u001b[1;32m    784\u001b[0m         \u001b[38;5;66;03m# If the new tensor has compatible tensor type as the existing tensor,\u001b[39;00m\n\u001b[1;32m    785\u001b[0m         \u001b[38;5;66;03m# the current behavior is to change the tensor in-place using `.data =`,\u001b[39;00m\n\u001b[0;32m   (...)\u001b[0m\n\u001b[1;32m    790\u001b[0m         \u001b[38;5;66;03m# global flag to let the user control whether they want the future\u001b[39;00m\n\u001b[1;32m    791\u001b[0m         \u001b[38;5;66;03m# behavior of overwriting the existing tensor or not.\u001b[39;00m\n",
      "    \u001b[0;31m[... skipping similar frames: Module._apply at line 780 (3 times)]\u001b[0m\n",
      "File \u001b[0;32m~/miniconda3/envs/kapitza/lib/python3.11/site-packages/torch/nn/modules/module.py:780\u001b[0m, in \u001b[0;36mModule._apply\u001b[0;34m(self, fn, recurse)\u001b[0m\n\u001b[1;32m    778\u001b[0m \u001b[38;5;28;01mif\u001b[39;00m recurse:\n\u001b[1;32m    779\u001b[0m     \u001b[38;5;28;01mfor\u001b[39;00m module \u001b[38;5;129;01min\u001b[39;00m \u001b[38;5;28mself\u001b[39m\u001b[38;5;241m.\u001b[39mchildren():\n\u001b[0;32m--> 780\u001b[0m         \u001b[43mmodule\u001b[49m\u001b[38;5;241;43m.\u001b[39;49m\u001b[43m_apply\u001b[49m\u001b[43m(\u001b[49m\u001b[43mfn\u001b[49m\u001b[43m)\u001b[49m\n\u001b[1;32m    782\u001b[0m \u001b[38;5;28;01mdef\u001b[39;00m \u001b[38;5;21mcompute_should_use_set_data\u001b[39m(tensor, tensor_applied):\n\u001b[1;32m    783\u001b[0m     \u001b[38;5;28;01mif\u001b[39;00m torch\u001b[38;5;241m.\u001b[39m_has_compatible_shallow_copy_type(tensor, tensor_applied):\n\u001b[1;32m    784\u001b[0m         \u001b[38;5;66;03m# If the new tensor has compatible tensor type as the existing tensor,\u001b[39;00m\n\u001b[1;32m    785\u001b[0m         \u001b[38;5;66;03m# the current behavior is to change the tensor in-place using `.data =`,\u001b[39;00m\n\u001b[0;32m   (...)\u001b[0m\n\u001b[1;32m    790\u001b[0m         \u001b[38;5;66;03m# global flag to let the user control whether they want the future\u001b[39;00m\n\u001b[1;32m    791\u001b[0m         \u001b[38;5;66;03m# behavior of overwriting the existing tensor or not.\u001b[39;00m\n",
      "File \u001b[0;32m~/miniconda3/envs/kapitza/lib/python3.11/site-packages/torch/nn/modules/module.py:805\u001b[0m, in \u001b[0;36mModule._apply\u001b[0;34m(self, fn, recurse)\u001b[0m\n\u001b[1;32m    801\u001b[0m \u001b[38;5;66;03m# Tensors stored in modules are graph leaves, and we don't want to\u001b[39;00m\n\u001b[1;32m    802\u001b[0m \u001b[38;5;66;03m# track autograd history of `param_applied`, so we have to use\u001b[39;00m\n\u001b[1;32m    803\u001b[0m \u001b[38;5;66;03m# `with torch.no_grad():`\u001b[39;00m\n\u001b[1;32m    804\u001b[0m \u001b[38;5;28;01mwith\u001b[39;00m torch\u001b[38;5;241m.\u001b[39mno_grad():\n\u001b[0;32m--> 805\u001b[0m     param_applied \u001b[38;5;241m=\u001b[39m \u001b[43mfn\u001b[49m\u001b[43m(\u001b[49m\u001b[43mparam\u001b[49m\u001b[43m)\u001b[49m\n\u001b[1;32m    806\u001b[0m p_should_use_set_data \u001b[38;5;241m=\u001b[39m compute_should_use_set_data(param, param_applied)\n\u001b[1;32m    808\u001b[0m \u001b[38;5;66;03m# subclasses may have multiple child tensors so we need to use swap_tensors\u001b[39;00m\n",
      "File \u001b[0;32m~/miniconda3/envs/kapitza/lib/python3.11/site-packages/torch/nn/modules/module.py:1160\u001b[0m, in \u001b[0;36mModule.to.<locals>.convert\u001b[0;34m(t)\u001b[0m\n\u001b[1;32m   1153\u001b[0m     \u001b[38;5;28;01mif\u001b[39;00m convert_to_format \u001b[38;5;129;01mis\u001b[39;00m \u001b[38;5;129;01mnot\u001b[39;00m \u001b[38;5;28;01mNone\u001b[39;00m \u001b[38;5;129;01mand\u001b[39;00m t\u001b[38;5;241m.\u001b[39mdim() \u001b[38;5;129;01min\u001b[39;00m (\u001b[38;5;241m4\u001b[39m, \u001b[38;5;241m5\u001b[39m):\n\u001b[1;32m   1154\u001b[0m         \u001b[38;5;28;01mreturn\u001b[39;00m t\u001b[38;5;241m.\u001b[39mto(\n\u001b[1;32m   1155\u001b[0m             device,\n\u001b[1;32m   1156\u001b[0m             dtype \u001b[38;5;28;01mif\u001b[39;00m t\u001b[38;5;241m.\u001b[39mis_floating_point() \u001b[38;5;129;01mor\u001b[39;00m t\u001b[38;5;241m.\u001b[39mis_complex() \u001b[38;5;28;01melse\u001b[39;00m \u001b[38;5;28;01mNone\u001b[39;00m,\n\u001b[1;32m   1157\u001b[0m             non_blocking,\n\u001b[1;32m   1158\u001b[0m             memory_format\u001b[38;5;241m=\u001b[39mconvert_to_format,\n\u001b[1;32m   1159\u001b[0m         )\n\u001b[0;32m-> 1160\u001b[0m     \u001b[38;5;28;01mreturn\u001b[39;00m \u001b[43mt\u001b[49m\u001b[38;5;241;43m.\u001b[39;49m\u001b[43mto\u001b[49m\u001b[43m(\u001b[49m\n\u001b[1;32m   1161\u001b[0m \u001b[43m        \u001b[49m\u001b[43mdevice\u001b[49m\u001b[43m,\u001b[49m\n\u001b[1;32m   1162\u001b[0m \u001b[43m        \u001b[49m\u001b[43mdtype\u001b[49m\u001b[43m \u001b[49m\u001b[38;5;28;43;01mif\u001b[39;49;00m\u001b[43m \u001b[49m\u001b[43mt\u001b[49m\u001b[38;5;241;43m.\u001b[39;49m\u001b[43mis_floating_point\u001b[49m\u001b[43m(\u001b[49m\u001b[43m)\u001b[49m\u001b[43m \u001b[49m\u001b[38;5;129;43;01mor\u001b[39;49;00m\u001b[43m \u001b[49m\u001b[43mt\u001b[49m\u001b[38;5;241;43m.\u001b[39;49m\u001b[43mis_complex\u001b[49m\u001b[43m(\u001b[49m\u001b[43m)\u001b[49m\u001b[43m \u001b[49m\u001b[38;5;28;43;01melse\u001b[39;49;00m\u001b[43m \u001b[49m\u001b[38;5;28;43;01mNone\u001b[39;49;00m\u001b[43m,\u001b[49m\n\u001b[1;32m   1163\u001b[0m \u001b[43m        \u001b[49m\u001b[43mnon_blocking\u001b[49m\u001b[43m,\u001b[49m\n\u001b[1;32m   1164\u001b[0m \u001b[43m    \u001b[49m\u001b[43m)\u001b[49m\n\u001b[1;32m   1165\u001b[0m \u001b[38;5;28;01mexcept\u001b[39;00m \u001b[38;5;167;01mNotImplementedError\u001b[39;00m \u001b[38;5;28;01mas\u001b[39;00m e:\n\u001b[1;32m   1166\u001b[0m     \u001b[38;5;28;01mif\u001b[39;00m \u001b[38;5;28mstr\u001b[39m(e) \u001b[38;5;241m==\u001b[39m \u001b[38;5;124m\"\u001b[39m\u001b[38;5;124mCannot copy out of meta tensor; no data!\u001b[39m\u001b[38;5;124m\"\u001b[39m:\n",
      "\u001b[0;31mOutOfMemoryError\u001b[0m: CUDA out of memory. Tried to allocate 20.00 MiB. GPU 0 has a total capacity of 23.63 GiB of which 53.12 MiB is free. Including non-PyTorch memory, this process has 8.46 GiB memory in use. Process 1730400 has 14.50 GiB memory in use. Of the allocated memory 7.70 GiB is allocated by PyTorch, and 308.61 MiB is reserved by PyTorch but unallocated. If reserved but unallocated memory is large try setting PYTORCH_CUDA_ALLOC_CONF=expandable_segments:True to avoid fragmentation.  See documentation for Memory Management  (https://pytorch.org/docs/stable/notes/cuda.html#environment-variables)"
     ]
    }
   ],
   "source": [
    "# import os\n",
    "# os.chdir('..')\n",
    "from pipeline import Pipeline\n",
    "pipe = Pipeline()"
   ]
  },
  {
   "cell_type": "code",
   "execution_count": 67,
   "metadata": {},
   "outputs": [
    {
     "name": "stdout",
     "output_type": "stream",
     "text": [
      "1\n",
      "2\n",
      "3\n",
      "not found\n"
     ]
    }
   ],
   "source": [
    "for x in [1,2,3]:\n",
    "    print(x)\n",
    "else:\n",
    "    print('not found')"
   ]
  },
  {
   "cell_type": "code",
   "execution_count": 18,
   "metadata": {},
   "outputs": [
    {
     "data": {
      "text/plain": [
       "6"
      ]
     },
     "execution_count": 18,
     "metadata": {},
     "output_type": "execute_result"
    }
   ],
   "source": [
    "test = 'sdfsdf!'\n",
    "sum(1 for c in test if ord('a') <= ord(c) <= ord('z') or ord('A') <= ord(c) <= ord('Z') or ord('а') <= ord(c) <= ord('я') or ord('А') <= ord(c) <= ord('Я'))\n",
    "# print(test.translate(str.maketrans({key:'' for key in '.,;?!- '})))"
   ]
  },
  {
   "cell_type": "code",
   "execution_count": 57,
   "metadata": {},
   "outputs": [
    {
     "name": "stdout",
     "output_type": "stream",
     "text": [
      "['Hello Science News Explores readers!', 'I am a digital clone of Sergey Kapitsa.', 'He was a famous scientist who passed away in 2012.', 'Now, artificial intelligence has made it possible to mimic his voice and likeness.']\n"
     ]
    }
   ],
   "source": [
    "import re\n",
    "# Python 3.12\n",
    "# from itertools import batched\n",
    "text = \"\"\"Hello Science News Explores readers! I am a digital clone of Sergey Kapitsa. He was a famous scientist who passed away in 2012. Now, artificial intelligence has made it possible to mimic his voice and likeness.\"\"\"\n",
    "sentence_list = [s.strip(' ') for s in re.split(\"(\\.|!|\\?)\", text) if len(s)]\n",
    "sentence_list = [sentence_list[i] + sentence_list[i + 1] for i in range(0, len(sentence_list), 2)]\n",
    "print(sentence_list)"
   ]
  },
  {
   "cell_type": "code",
   "execution_count": null,
   "metadata": {},
   "outputs": [],
   "source": [
    "import threading\n",
    "\n",
    "class KillableThread(threading.Thread):\n",
    "    def __init__(self, sleep_interval=1):\n",
    "        super().__init__()\n",
    "        self._kill = threading.Event()\n",
    "        self._interval = sleep_interval\n",
    "\n",
    "    def run(self):\n",
    "        while True:\n",
    "            print(\"Do Something\")\n",
    "\n",
    "            # If no kill signal is set, sleep for the interval,\n",
    "            # If kill signal comes in while sleeping, immediately\n",
    "            #  wake up and handle\n",
    "            is_killed = self._kill.wait(self._interval)\n",
    "            if is_killed:\n",
    "                break\n",
    "\n",
    "        print(\"Killing Thread\")\n",
    "\n",
    "    def kill(self):\n",
    "        self._kill.set()\n",
    "        \n",
    "import time\n",
    "t = KillableThread(sleep_interval=0.1)\n",
    "t.start()\n",
    "time.sleep(1)\n",
    "t.kill()"
   ]
  },
  {
   "cell_type": "code",
   "execution_count": 4,
   "metadata": {},
   "outputs": [],
   "source": [
    "import torchaudio, os\n",
    "\n",
    "proc_dir = '../files'\n",
    "\n",
    "src_files = [f for f in os.listdir(proc_dir) if os.path.splitext(f)[-1] == \".m4a\"]\n",
    "for f in src_files:\n",
    "    data, rate = torchaudio.load(os.path.join(proc_dir, f))\n",
    "    torchaudio.save(os.path.join(proc_dir, f.replace(\".m4a\", \".wav\")), data, rate, encoding=\"PCM_S\", backend=\"soundfile\", bits_per_sample=16)"
   ]
  },
  {
   "cell_type": "code",
   "execution_count": 8,
   "metadata": {},
   "outputs": [
    {
     "name": "stdout",
     "output_type": "stream",
     "text": [
      "Looking in indexes: https://pypi.org/simple, https://abetlen.github.io/llama-cpp-python/whl/cu121\n",
      "Collecting llama-cpp-python\n",
      "  Using cached llama_cpp_python-0.3.2-cp311-cp311-linux_x86_64.whl\n",
      "Collecting typing-extensions>=4.5.0 (from llama-cpp-python)\n",
      "  Using cached typing_extensions-4.12.2-py3-none-any.whl.metadata (3.0 kB)\n",
      "Collecting numpy>=1.20.0 (from llama-cpp-python)\n",
      "  Using cached numpy-2.1.3-cp311-cp311-manylinux_2_17_x86_64.manylinux2014_x86_64.whl.metadata (62 kB)\n",
      "Collecting diskcache>=5.6.1 (from llama-cpp-python)\n",
      "  Using cached diskcache-5.6.3-py3-none-any.whl.metadata (20 kB)\n",
      "Collecting jinja2>=2.11.3 (from llama-cpp-python)\n",
      "  Using cached jinja2-3.1.4-py3-none-any.whl.metadata (2.6 kB)\n",
      "Collecting MarkupSafe>=2.0 (from jinja2>=2.11.3->llama-cpp-python)\n",
      "  Using cached MarkupSafe-3.0.2-cp311-cp311-manylinux_2_17_x86_64.manylinux2014_x86_64.whl.metadata (4.0 kB)\n",
      "Using cached diskcache-5.6.3-py3-none-any.whl (45 kB)\n",
      "Using cached jinja2-3.1.4-py3-none-any.whl (133 kB)\n",
      "Using cached numpy-2.1.3-cp311-cp311-manylinux_2_17_x86_64.manylinux2014_x86_64.whl (16.3 MB)\n",
      "Using cached typing_extensions-4.12.2-py3-none-any.whl (37 kB)\n",
      "Using cached MarkupSafe-3.0.2-cp311-cp311-manylinux_2_17_x86_64.manylinux2014_x86_64.whl (23 kB)\n",
      "Installing collected packages: typing-extensions, numpy, MarkupSafe, diskcache, jinja2, llama-cpp-python\n",
      "  Attempting uninstall: typing-extensions\n",
      "    Found existing installation: typing_extensions 4.12.2\n",
      "    Uninstalling typing_extensions-4.12.2:\n",
      "      Successfully uninstalled typing_extensions-4.12.2\n",
      "  Attempting uninstall: MarkupSafe\n",
      "    Found existing installation: MarkupSafe 3.0.2\n",
      "    Uninstalling MarkupSafe-3.0.2:\n",
      "      Successfully uninstalled MarkupSafe-3.0.2\n",
      "  Attempting uninstall: diskcache\n",
      "    Found existing installation: diskcache 5.6.3\n",
      "    Uninstalling diskcache-5.6.3:\n",
      "      Successfully uninstalled diskcache-5.6.3\n",
      "  Attempting uninstall: jinja2\n",
      "    Found existing installation: Jinja2 3.1.4\n",
      "    Uninstalling Jinja2-3.1.4:\n",
      "      Successfully uninstalled Jinja2-3.1.4\n",
      "  Attempting uninstall: llama-cpp-python\n",
      "    Found existing installation: llama_cpp_python 0.3.2\n",
      "    Uninstalling llama_cpp_python-0.3.2:\n",
      "      Successfully uninstalled llama_cpp_python-0.3.2\n",
      "\u001b[31mERROR: pip's dependency resolver does not currently take into account all the packages that are installed. This behaviour is the source of the following dependency conflicts.\n",
      "sentence-transformers 3.1.0 requires numpy<2.0.0, but you have numpy 2.1.3 which is incompatible.\n",
      "thinc 8.2.5 requires numpy<2.0.0,>=1.19.0; python_version >= \"3.9\", but you have numpy 2.1.3 which is incompatible.\n",
      "llama-index-packs-llama-guard-moderator 0.2.0 requires accelerate<0.27.0,>=0.26.1, but you have accelerate 1.1.1 which is incompatible.\n",
      "nemo-toolkit 2.1.0rc0 requires huggingface-hub>=0.24, but you have huggingface-hub 0.23.5 which is incompatible.\n",
      "llama-index-llms-llama-cpp 0.2.3 requires llama-cpp-python<0.3.0,>=0.2.32, but you have llama-cpp-python 0.3.2 which is incompatible.\n",
      "numba 0.60.0 requires numpy<2.1,>=1.22, but you have numpy 2.1.3 which is incompatible.\n",
      "gruut 2.2.3 requires networkx<3.0.0,>=2.5.0, but you have networkx 3.3 which is incompatible.\n",
      "gruut 2.2.3 requires numpy<2.0.0,>=1.19.0, but you have numpy 2.1.3 which is incompatible.\n",
      "pytorch-metric-learning 2.6.0 requires numpy<2.0, but you have numpy 2.1.3 which is incompatible.\n",
      "llama-index-core 0.11.10 requires numpy<2.0.0, but you have numpy 2.1.3 which is incompatible.\u001b[0m\u001b[31m\n",
      "\u001b[0mSuccessfully installed MarkupSafe-3.0.2 diskcache-5.6.3 jinja2-3.1.4 llama-cpp-python-0.3.2 numpy-2.1.3 typing-extensions-4.12.2\n"
     ]
    }
   ],
   "source": [
    "\n",
    "!pip install --force-reinstall --extra-index-url https://abetlen.github.io/llama-cpp-python/whl/cu121 llama-cpp-python\n",
    "# !$env:CMAKE_ARGS=\"-DGGML_BLAS=ON -DGGML_BLAS_VENDOR=OpenBLAS\"\n",
    "# !pip install llama-cpp-python"
   ]
  },
  {
   "cell_type": "code",
   "execution_count": 4,
   "metadata": {},
   "outputs": [
    {
     "name": "stdout",
     "output_type": "stream",
     "text": [
      "Found existing installation: llama_cpp_python 0.2.90\n",
      "Uninstalling llama_cpp_python-0.2.90:\n",
      "  Successfully uninstalled llama_cpp_python-0.2.90\n",
      "Looking in indexes: https://pypi.org/simple, https://abetlen.github.io/llama-cpp-python/whl/cu126\n",
      "Collecting llama-cpp-python\n",
      "  Using cached llama_cpp_python-0.3.2-cp311-cp311-linux_x86_64.whl\n",
      "Requirement already satisfied: typing-extensions>=4.5.0 in /home/zipa/miniconda3/envs/kapitza/lib/python3.11/site-packages (from llama-cpp-python) (4.12.2)\n",
      "Requirement already satisfied: numpy>=1.20.0 in /home/zipa/miniconda3/envs/kapitza/lib/python3.11/site-packages (from llama-cpp-python) (1.26.4)\n",
      "Requirement already satisfied: diskcache>=5.6.1 in /home/zipa/miniconda3/envs/kapitza/lib/python3.11/site-packages (from llama-cpp-python) (5.6.3)\n",
      "Requirement already satisfied: jinja2>=2.11.3 in /home/zipa/miniconda3/envs/kapitza/lib/python3.11/site-packages (from llama-cpp-python) (3.1.4)\n",
      "Requirement already satisfied: MarkupSafe>=2.0 in /home/zipa/miniconda3/envs/kapitza/lib/python3.11/site-packages (from jinja2>=2.11.3->llama-cpp-python) (3.0.2)\n",
      "Installing collected packages: llama-cpp-python\n",
      "\u001b[31mERROR: pip's dependency resolver does not currently take into account all the packages that are installed. This behaviour is the source of the following dependency conflicts.\n",
      "llama-index-llms-llama-cpp 0.2.3 requires llama-cpp-python<0.3.0,>=0.2.32, but you have llama-cpp-python 0.3.2 which is incompatible.\u001b[0m\u001b[31m\n",
      "\u001b[0mSuccessfully installed llama-cpp-python-0.3.2\n"
     ]
    }
   ],
   "source": [
    "!pip uninstall llama-cpp-python -y\n",
    "!pip install --extra-index-url https://abetlen.github.io/llama-cpp-python/whl/cu126 llama-cpp-python\n",
    "# !pip install llama-index-llms-llama_cpp "
   ]
  },
  {
   "cell_type": "code",
   "execution_count": 5,
   "metadata": {},
   "outputs": [
    {
     "name": "stdout",
     "output_type": "stream",
     "text": [
      "Found existing installation: llama_cpp_python 0.2.90\n",
      "Uninstalling llama_cpp_python-0.2.90:\n",
      "  Successfully uninstalled llama_cpp_python-0.2.90\n",
      "Looking in indexes: https://pypi.org/simple, https://abetlen.github.io/llama-cpp-python/whl/cu124\n",
      "Collecting llama-cpp-python==0.2.90\n",
      "  Downloading https://github.com/abetlen/llama-cpp-python/releases/download/v0.2.90-cu124/llama_cpp_python-0.2.90-cp311-cp311-linux_x86_64.whl (443.2 MB)\n",
      "\u001b[2K     \u001b[90m━━━━━━━━━━━━━━━━━━━━━━━━━━━━━━━━━━━━━━━\u001b[0m \u001b[32m443.2/443.2 MB\u001b[0m \u001b[31m9.0 MB/s\u001b[0m eta \u001b[36m0:00:00\u001b[0m00:01\u001b[0m00:02\u001b[0m\n",
      "\u001b[?25hRequirement already satisfied: typing-extensions>=4.5.0 in /home/zipa/miniconda3/envs/kapitza/lib/python3.11/site-packages (from llama-cpp-python==0.2.90) (4.12.2)\n",
      "Requirement already satisfied: numpy>=1.20.0 in /home/zipa/miniconda3/envs/kapitza/lib/python3.11/site-packages (from llama-cpp-python==0.2.90) (1.26.4)\n",
      "Requirement already satisfied: diskcache>=5.6.1 in /home/zipa/miniconda3/envs/kapitza/lib/python3.11/site-packages (from llama-cpp-python==0.2.90) (5.6.3)\n",
      "Requirement already satisfied: jinja2>=2.11.3 in /home/zipa/miniconda3/envs/kapitza/lib/python3.11/site-packages (from llama-cpp-python==0.2.90) (3.1.4)\n",
      "Requirement already satisfied: MarkupSafe>=2.0 in /home/zipa/miniconda3/envs/kapitza/lib/python3.11/site-packages (from jinja2>=2.11.3->llama-cpp-python==0.2.90) (3.0.2)\n",
      "Installing collected packages: llama-cpp-python\n",
      "Successfully installed llama-cpp-python-0.2.90\n"
     ]
    }
   ],
   "source": [
    "# !pip cache purge\n",
    "# !$env:CMAKE_ARGS=\"-DGGML_CUDA=on\"\n",
    "# !pip install llama-cpp-python==0.2.90\n",
    "!pip uninstall llama-cpp-python -y\n",
    "!pip install llama-cpp-python==0.2.90 --extra-index-url https://abetlen.github.io/llama-cpp-python/whl/cu124"
   ]
  },
  {
   "cell_type": "code",
   "execution_count": 6,
   "metadata": {},
   "outputs": [
    {
     "name": "stdout",
     "output_type": "stream",
     "text": [
      "Found existing installation: llama-index-llms-llama-cpp 0.3.0\n",
      "Uninstalling llama-index-llms-llama-cpp-0.3.0:\n",
      "  Successfully uninstalled llama-index-llms-llama-cpp-0.3.0\n",
      "Collecting llama-index-llms-llama-cpp\n",
      "  Using cached llama_index_llms_llama_cpp-0.3.0-py3-none-any.whl.metadata (3.2 kB)\n",
      "Requirement already satisfied: llama-cpp-python<0.3.0,>=0.2.32 in /home/zipa/miniconda3/envs/kapitza/lib/python3.11/site-packages (from llama-index-llms-llama-cpp) (0.2.90)\n",
      "Requirement already satisfied: llama-index-core<0.13.0,>=0.12.0 in /home/zipa/miniconda3/envs/kapitza/lib/python3.11/site-packages (from llama-index-llms-llama-cpp) (0.12.1)\n",
      "Requirement already satisfied: typing-extensions>=4.5.0 in /home/zipa/miniconda3/envs/kapitza/lib/python3.11/site-packages (from llama-cpp-python<0.3.0,>=0.2.32->llama-index-llms-llama-cpp) (4.12.2)\n",
      "Requirement already satisfied: numpy>=1.20.0 in /home/zipa/miniconda3/envs/kapitza/lib/python3.11/site-packages (from llama-cpp-python<0.3.0,>=0.2.32->llama-index-llms-llama-cpp) (1.26.4)\n",
      "Requirement already satisfied: diskcache>=5.6.1 in /home/zipa/miniconda3/envs/kapitza/lib/python3.11/site-packages (from llama-cpp-python<0.3.0,>=0.2.32->llama-index-llms-llama-cpp) (5.6.3)\n",
      "Requirement already satisfied: jinja2>=2.11.3 in /home/zipa/miniconda3/envs/kapitza/lib/python3.11/site-packages (from llama-cpp-python<0.3.0,>=0.2.32->llama-index-llms-llama-cpp) (3.1.4)\n",
      "Requirement already satisfied: PyYAML>=6.0.1 in /home/zipa/miniconda3/envs/kapitza/lib/python3.11/site-packages (from llama-index-core<0.13.0,>=0.12.0->llama-index-llms-llama-cpp) (6.0.2)\n",
      "Requirement already satisfied: SQLAlchemy>=1.4.49 in /home/zipa/miniconda3/envs/kapitza/lib/python3.11/site-packages (from SQLAlchemy[asyncio]>=1.4.49->llama-index-core<0.13.0,>=0.12.0->llama-index-llms-llama-cpp) (2.0.35)\n",
      "Requirement already satisfied: aiohttp<4.0.0,>=3.8.6 in /home/zipa/miniconda3/envs/kapitza/lib/python3.11/site-packages (from llama-index-core<0.13.0,>=0.12.0->llama-index-llms-llama-cpp) (3.10.5)\n",
      "Requirement already satisfied: dataclasses-json in /home/zipa/miniconda3/envs/kapitza/lib/python3.11/site-packages (from llama-index-core<0.13.0,>=0.12.0->llama-index-llms-llama-cpp) (0.6.7)\n",
      "Requirement already satisfied: deprecated>=1.2.9.3 in /home/zipa/miniconda3/envs/kapitza/lib/python3.11/site-packages (from llama-index-core<0.13.0,>=0.12.0->llama-index-llms-llama-cpp) (1.2.14)\n",
      "Requirement already satisfied: dirtyjson<2.0.0,>=1.0.8 in /home/zipa/miniconda3/envs/kapitza/lib/python3.11/site-packages (from llama-index-core<0.13.0,>=0.12.0->llama-index-llms-llama-cpp) (1.0.8)\n",
      "Requirement already satisfied: filetype<2.0.0,>=1.2.0 in /home/zipa/miniconda3/envs/kapitza/lib/python3.11/site-packages (from llama-index-core<0.13.0,>=0.12.0->llama-index-llms-llama-cpp) (1.2.0)\n",
      "Requirement already satisfied: fsspec>=2023.5.0 in /home/zipa/miniconda3/envs/kapitza/lib/python3.11/site-packages (from llama-index-core<0.13.0,>=0.12.0->llama-index-llms-llama-cpp) (2024.2.0)\n",
      "Requirement already satisfied: httpx in /home/zipa/miniconda3/envs/kapitza/lib/python3.11/site-packages (from llama-index-core<0.13.0,>=0.12.0->llama-index-llms-llama-cpp) (0.27.2)\n",
      "Requirement already satisfied: nest-asyncio<2.0.0,>=1.5.8 in /home/zipa/miniconda3/envs/kapitza/lib/python3.11/site-packages (from llama-index-core<0.13.0,>=0.12.0->llama-index-llms-llama-cpp) (1.6.0)\n",
      "Requirement already satisfied: networkx>=3.0 in /home/zipa/miniconda3/envs/kapitza/lib/python3.11/site-packages (from llama-index-core<0.13.0,>=0.12.0->llama-index-llms-llama-cpp) (3.3)\n",
      "Requirement already satisfied: nltk>3.8.1 in /home/zipa/miniconda3/envs/kapitza/lib/python3.11/site-packages (from llama-index-core<0.13.0,>=0.12.0->llama-index-llms-llama-cpp) (3.9.1)\n",
      "Requirement already satisfied: pillow>=9.0.0 in /home/zipa/miniconda3/envs/kapitza/lib/python3.11/site-packages (from llama-index-core<0.13.0,>=0.12.0->llama-index-llms-llama-cpp) (10.2.0)\n",
      "Requirement already satisfied: pydantic<2.10.0,>=2.7.0 in /home/zipa/miniconda3/envs/kapitza/lib/python3.11/site-packages (from llama-index-core<0.13.0,>=0.12.0->llama-index-llms-llama-cpp) (2.9.2)\n",
      "Requirement already satisfied: requests>=2.31.0 in /home/zipa/miniconda3/envs/kapitza/lib/python3.11/site-packages (from llama-index-core<0.13.0,>=0.12.0->llama-index-llms-llama-cpp) (2.32.3)\n",
      "Requirement already satisfied: tenacity!=8.4.0,<9.0.0,>=8.2.0 in /home/zipa/miniconda3/envs/kapitza/lib/python3.11/site-packages (from llama-index-core<0.13.0,>=0.12.0->llama-index-llms-llama-cpp) (8.5.0)\n",
      "Requirement already satisfied: tiktoken>=0.3.3 in /home/zipa/miniconda3/envs/kapitza/lib/python3.11/site-packages (from llama-index-core<0.13.0,>=0.12.0->llama-index-llms-llama-cpp) (0.7.0)\n",
      "Requirement already satisfied: tqdm<5.0.0,>=4.66.1 in /home/zipa/miniconda3/envs/kapitza/lib/python3.11/site-packages (from llama-index-core<0.13.0,>=0.12.0->llama-index-llms-llama-cpp) (4.66.5)\n",
      "Requirement already satisfied: typing-inspect>=0.8.0 in /home/zipa/miniconda3/envs/kapitza/lib/python3.11/site-packages (from llama-index-core<0.13.0,>=0.12.0->llama-index-llms-llama-cpp) (0.9.0)\n",
      "Requirement already satisfied: wrapt in /home/zipa/miniconda3/envs/kapitza/lib/python3.11/site-packages (from llama-index-core<0.13.0,>=0.12.0->llama-index-llms-llama-cpp) (1.16.0)\n",
      "Requirement already satisfied: aiohappyeyeballs>=2.3.0 in /home/zipa/miniconda3/envs/kapitza/lib/python3.11/site-packages (from aiohttp<4.0.0,>=3.8.6->llama-index-core<0.13.0,>=0.12.0->llama-index-llms-llama-cpp) (2.4.0)\n",
      "Requirement already satisfied: aiosignal>=1.1.2 in /home/zipa/miniconda3/envs/kapitza/lib/python3.11/site-packages (from aiohttp<4.0.0,>=3.8.6->llama-index-core<0.13.0,>=0.12.0->llama-index-llms-llama-cpp) (1.3.1)\n",
      "Requirement already satisfied: attrs>=17.3.0 in /home/zipa/miniconda3/envs/kapitza/lib/python3.11/site-packages (from aiohttp<4.0.0,>=3.8.6->llama-index-core<0.13.0,>=0.12.0->llama-index-llms-llama-cpp) (24.2.0)\n",
      "Requirement already satisfied: frozenlist>=1.1.1 in /home/zipa/miniconda3/envs/kapitza/lib/python3.11/site-packages (from aiohttp<4.0.0,>=3.8.6->llama-index-core<0.13.0,>=0.12.0->llama-index-llms-llama-cpp) (1.4.1)\n",
      "Requirement already satisfied: multidict<7.0,>=4.5 in /home/zipa/miniconda3/envs/kapitza/lib/python3.11/site-packages (from aiohttp<4.0.0,>=3.8.6->llama-index-core<0.13.0,>=0.12.0->llama-index-llms-llama-cpp) (6.1.0)\n",
      "Requirement already satisfied: yarl<2.0,>=1.0 in /home/zipa/miniconda3/envs/kapitza/lib/python3.11/site-packages (from aiohttp<4.0.0,>=3.8.6->llama-index-core<0.13.0,>=0.12.0->llama-index-llms-llama-cpp) (1.11.1)\n",
      "Requirement already satisfied: MarkupSafe>=2.0 in /home/zipa/miniconda3/envs/kapitza/lib/python3.11/site-packages (from jinja2>=2.11.3->llama-cpp-python<0.3.0,>=0.2.32->llama-index-llms-llama-cpp) (3.0.2)\n",
      "Requirement already satisfied: click in /home/zipa/miniconda3/envs/kapitza/lib/python3.11/site-packages (from nltk>3.8.1->llama-index-core<0.13.0,>=0.12.0->llama-index-llms-llama-cpp) (8.1.7)\n",
      "Requirement already satisfied: joblib in /home/zipa/miniconda3/envs/kapitza/lib/python3.11/site-packages (from nltk>3.8.1->llama-index-core<0.13.0,>=0.12.0->llama-index-llms-llama-cpp) (1.4.2)\n",
      "Requirement already satisfied: regex>=2021.8.3 in /home/zipa/miniconda3/envs/kapitza/lib/python3.11/site-packages (from nltk>3.8.1->llama-index-core<0.13.0,>=0.12.0->llama-index-llms-llama-cpp) (2024.9.11)\n",
      "Requirement already satisfied: annotated-types>=0.6.0 in /home/zipa/miniconda3/envs/kapitza/lib/python3.11/site-packages (from pydantic<2.10.0,>=2.7.0->llama-index-core<0.13.0,>=0.12.0->llama-index-llms-llama-cpp) (0.7.0)\n",
      "Requirement already satisfied: pydantic-core==2.23.4 in /home/zipa/miniconda3/envs/kapitza/lib/python3.11/site-packages (from pydantic<2.10.0,>=2.7.0->llama-index-core<0.13.0,>=0.12.0->llama-index-llms-llama-cpp) (2.23.4)\n",
      "Requirement already satisfied: charset-normalizer<4,>=2 in /home/zipa/miniconda3/envs/kapitza/lib/python3.11/site-packages (from requests>=2.31.0->llama-index-core<0.13.0,>=0.12.0->llama-index-llms-llama-cpp) (3.3.2)\n",
      "Requirement already satisfied: idna<4,>=2.5 in /home/zipa/miniconda3/envs/kapitza/lib/python3.11/site-packages (from requests>=2.31.0->llama-index-core<0.13.0,>=0.12.0->llama-index-llms-llama-cpp) (3.10)\n",
      "Requirement already satisfied: urllib3<3,>=1.21.1 in /home/zipa/miniconda3/envs/kapitza/lib/python3.11/site-packages (from requests>=2.31.0->llama-index-core<0.13.0,>=0.12.0->llama-index-llms-llama-cpp) (2.2.3)\n",
      "Requirement already satisfied: certifi>=2017.4.17 in /home/zipa/miniconda3/envs/kapitza/lib/python3.11/site-packages (from requests>=2.31.0->llama-index-core<0.13.0,>=0.12.0->llama-index-llms-llama-cpp) (2024.8.30)\n",
      "Requirement already satisfied: greenlet!=0.4.17 in /home/zipa/miniconda3/envs/kapitza/lib/python3.11/site-packages (from SQLAlchemy>=1.4.49->SQLAlchemy[asyncio]>=1.4.49->llama-index-core<0.13.0,>=0.12.0->llama-index-llms-llama-cpp) (3.1.0)\n",
      "Requirement already satisfied: mypy-extensions>=0.3.0 in /home/zipa/miniconda3/envs/kapitza/lib/python3.11/site-packages (from typing-inspect>=0.8.0->llama-index-core<0.13.0,>=0.12.0->llama-index-llms-llama-cpp) (1.0.0)\n",
      "Requirement already satisfied: marshmallow<4.0.0,>=3.18.0 in /home/zipa/miniconda3/envs/kapitza/lib/python3.11/site-packages (from dataclasses-json->llama-index-core<0.13.0,>=0.12.0->llama-index-llms-llama-cpp) (3.22.0)\n",
      "Requirement already satisfied: anyio in /home/zipa/miniconda3/envs/kapitza/lib/python3.11/site-packages (from httpx->llama-index-core<0.13.0,>=0.12.0->llama-index-llms-llama-cpp) (4.4.0)\n",
      "Requirement already satisfied: httpcore==1.* in /home/zipa/miniconda3/envs/kapitza/lib/python3.11/site-packages (from httpx->llama-index-core<0.13.0,>=0.12.0->llama-index-llms-llama-cpp) (1.0.5)\n",
      "Requirement already satisfied: sniffio in /home/zipa/miniconda3/envs/kapitza/lib/python3.11/site-packages (from httpx->llama-index-core<0.13.0,>=0.12.0->llama-index-llms-llama-cpp) (1.3.1)\n",
      "Requirement already satisfied: h11<0.15,>=0.13 in /home/zipa/miniconda3/envs/kapitza/lib/python3.11/site-packages (from httpcore==1.*->httpx->llama-index-core<0.13.0,>=0.12.0->llama-index-llms-llama-cpp) (0.14.0)\n",
      "Requirement already satisfied: packaging>=17.0 in /home/zipa/miniconda3/envs/kapitza/lib/python3.11/site-packages (from marshmallow<4.0.0,>=3.18.0->dataclasses-json->llama-index-core<0.13.0,>=0.12.0->llama-index-llms-llama-cpp) (24.1)\n",
      "Using cached llama_index_llms_llama_cpp-0.3.0-py3-none-any.whl (7.0 kB)\n",
      "Installing collected packages: llama-index-llms-llama-cpp\n",
      "Successfully installed llama-index-llms-llama-cpp-0.3.0\n"
     ]
    }
   ],
   "source": [
    "!pip uninstall llama-index-llms-llama-cpp -y\n",
    "!pip install -U llama-index-llms-llama-cpp"
   ]
  },
  {
   "cell_type": "code",
   "execution_count": 1,
   "metadata": {},
   "outputs": [
    {
     "name": "stderr",
     "output_type": "stream",
     "text": [
      "/home/zipa/miniconda3/envs/kapitza/lib/python3.11/site-packages/pydantic/_internal/_fields.py:132: UserWarning: Field \"model_url\" in LlamaCPP has conflict with protected namespace \"model_\".\n",
      "\n",
      "You may be able to resolve this warning by setting `model_config['protected_namespaces'] = ()`.\n",
      "  warnings.warn(\n",
      "/home/zipa/miniconda3/envs/kapitza/lib/python3.11/site-packages/pydantic/_internal/_fields.py:132: UserWarning: Field \"model_path\" in LlamaCPP has conflict with protected namespace \"model_\".\n",
      "\n",
      "You may be able to resolve this warning by setting `model_config['protected_namespaces'] = ()`.\n",
      "  warnings.warn(\n",
      "/home/zipa/miniconda3/envs/kapitza/lib/python3.11/site-packages/pydantic/_internal/_fields.py:132: UserWarning: Field \"model_kwargs\" in LlamaCPP has conflict with protected namespace \"model_\".\n",
      "\n",
      "You may be able to resolve this warning by setting `model_config['protected_namespaces'] = ()`.\n",
      "  warnings.warn(\n",
      "llama_model_loader: loaded meta data with 28 key-value pairs and 291 tensors from /tmp/llama_index/models/kap34_8_8_10.Q4_K_M.gguf (version GGUF V3 (latest))\n",
      "llama_model_loader: Dumping metadata keys/values. Note: KV overrides do not apply in this output.\n",
      "llama_model_loader: - kv   0:                       general.architecture str              = llama\n",
      "llama_model_loader: - kv   1:                               general.type str              = model\n",
      "llama_model_loader: - kv   2:                               general.name str              = Llama 3 8b Instruct\n",
      "llama_model_loader: - kv   3:                       general.organization str              = Unsloth\n",
      "llama_model_loader: - kv   4:                           general.finetune str              = instruct\n",
      "llama_model_loader: - kv   5:                           general.basename str              = llama-3\n",
      "llama_model_loader: - kv   6:                         general.size_label str              = 8B\n",
      "llama_model_loader: - kv   7:                          llama.block_count u32              = 32\n",
      "llama_model_loader: - kv   8:                       llama.context_length u32              = 8192\n",
      "llama_model_loader: - kv   9:                     llama.embedding_length u32              = 4096\n",
      "llama_model_loader: - kv  10:                  llama.feed_forward_length u32              = 14336\n",
      "llama_model_loader: - kv  11:                 llama.attention.head_count u32              = 32\n",
      "llama_model_loader: - kv  12:              llama.attention.head_count_kv u32              = 8\n",
      "llama_model_loader: - kv  13:                       llama.rope.freq_base f32              = 500000.000000\n",
      "llama_model_loader: - kv  14:     llama.attention.layer_norm_rms_epsilon f32              = 0.000010\n",
      "llama_model_loader: - kv  15:                          general.file_type u32              = 15\n",
      "llama_model_loader: - kv  16:                           llama.vocab_size u32              = 128256\n",
      "llama_model_loader: - kv  17:                 llama.rope.dimension_count u32              = 128\n",
      "llama_model_loader: - kv  18:                       tokenizer.ggml.model str              = gpt2\n",
      "llama_model_loader: - kv  19:                         tokenizer.ggml.pre str              = llama-bpe\n",
      "llama_model_loader: - kv  20:                      tokenizer.ggml.tokens arr[str,128256]  = [\"!\", \"\\\"\", \"#\", \"$\", \"%\", \"&\", \"'\", ...\n",
      "llama_model_loader: - kv  21:                  tokenizer.ggml.token_type arr[i32,128256]  = [1, 1, 1, 1, 1, 1, 1, 1, 1, 1, 1, 1, ...\n",
      "llama_model_loader: - kv  22:                      tokenizer.ggml.merges arr[str,280147]  = [\"Ġ Ġ\", \"Ġ ĠĠĠ\", \"ĠĠ ĠĠ\", \"...\n",
      "llama_model_loader: - kv  23:                tokenizer.ggml.bos_token_id u32              = 128000\n",
      "llama_model_loader: - kv  24:                tokenizer.ggml.eos_token_id u32              = 128009\n",
      "llama_model_loader: - kv  25:            tokenizer.ggml.padding_token_id u32              = 128255\n",
      "llama_model_loader: - kv  26:                    tokenizer.chat_template str              = {% if 'role' in messages[0] %}{% for ...\n",
      "llama_model_loader: - kv  27:               general.quantization_version u32              = 2\n",
      "llama_model_loader: - type  f32:   65 tensors\n",
      "llama_model_loader: - type q4_K:  193 tensors\n",
      "llama_model_loader: - type q6_K:   33 tensors\n",
      "llm_load_vocab: special tokens cache size = 256\n",
      "llm_load_vocab: token to piece cache size = 0.8000 MB\n",
      "llm_load_print_meta: format           = GGUF V3 (latest)\n",
      "llm_load_print_meta: arch             = llama\n",
      "llm_load_print_meta: vocab type       = BPE\n",
      "llm_load_print_meta: n_vocab          = 128256\n",
      "llm_load_print_meta: n_merges         = 280147\n",
      "llm_load_print_meta: vocab_only       = 0\n",
      "llm_load_print_meta: n_ctx_train      = 8192\n",
      "llm_load_print_meta: n_embd           = 4096\n",
      "llm_load_print_meta: n_layer          = 32\n",
      "llm_load_print_meta: n_head           = 32\n",
      "llm_load_print_meta: n_head_kv        = 8\n",
      "llm_load_print_meta: n_rot            = 128\n",
      "llm_load_print_meta: n_swa            = 0\n",
      "llm_load_print_meta: n_embd_head_k    = 128\n",
      "llm_load_print_meta: n_embd_head_v    = 128\n",
      "llm_load_print_meta: n_gqa            = 4\n",
      "llm_load_print_meta: n_embd_k_gqa     = 1024\n",
      "llm_load_print_meta: n_embd_v_gqa     = 1024\n",
      "llm_load_print_meta: f_norm_eps       = 0.0e+00\n",
      "llm_load_print_meta: f_norm_rms_eps   = 1.0e-05\n",
      "llm_load_print_meta: f_clamp_kqv      = 0.0e+00\n",
      "llm_load_print_meta: f_max_alibi_bias = 0.0e+00\n",
      "llm_load_print_meta: f_logit_scale    = 0.0e+00\n",
      "llm_load_print_meta: n_ff             = 14336\n",
      "llm_load_print_meta: n_expert         = 0\n",
      "llm_load_print_meta: n_expert_used    = 0\n",
      "llm_load_print_meta: causal attn      = 1\n",
      "llm_load_print_meta: pooling type     = 0\n",
      "llm_load_print_meta: rope type        = 0\n",
      "llm_load_print_meta: rope scaling     = linear\n",
      "llm_load_print_meta: freq_base_train  = 500000.0\n",
      "llm_load_print_meta: freq_scale_train = 1\n",
      "llm_load_print_meta: n_ctx_orig_yarn  = 8192\n",
      "llm_load_print_meta: rope_finetuned   = unknown\n",
      "llm_load_print_meta: ssm_d_conv       = 0\n",
      "llm_load_print_meta: ssm_d_inner      = 0\n",
      "llm_load_print_meta: ssm_d_state      = 0\n",
      "llm_load_print_meta: ssm_dt_rank      = 0\n",
      "llm_load_print_meta: ssm_dt_b_c_rms   = 0\n",
      "llm_load_print_meta: model type       = 8B\n",
      "llm_load_print_meta: model ftype      = Q4_K - Medium\n",
      "llm_load_print_meta: model params     = 8.03 B\n",
      "llm_load_print_meta: model size       = 4.58 GiB (4.89 BPW) \n",
      "llm_load_print_meta: general.name     = Llama 3 8b Instruct\n",
      "llm_load_print_meta: BOS token        = 128000 '<|begin_of_text|>'\n",
      "llm_load_print_meta: EOS token        = 128009 '<|eot_id|>'\n",
      "llm_load_print_meta: PAD token        = 128255 '<|reserved_special_token_250|>'\n",
      "llm_load_print_meta: LF token         = 128 'Ä'\n",
      "llm_load_print_meta: EOT token        = 128009 '<|eot_id|>'\n",
      "llm_load_print_meta: max token length = 256\n",
      "ggml_cuda_init: GGML_CUDA_FORCE_MMQ:    yes\n",
      "ggml_cuda_init: GGML_CUDA_FORCE_CUBLAS: no\n",
      "ggml_cuda_init: found 1 CUDA devices:\n",
      "  Device 0: NVIDIA GeForce RTX 4090, compute capability 8.9, VMM: yes\n",
      "llm_load_tensors: ggml ctx size =    0.27 MiB\n",
      "llm_load_tensors: offloading 32 repeating layers to GPU\n",
      "llm_load_tensors: offloading non-repeating layers to GPU\n",
      "llm_load_tensors: offloaded 33/33 layers to GPU\n",
      "llm_load_tensors:        CPU buffer size =   281.81 MiB\n",
      "llm_load_tensors:      CUDA0 buffer size =  4403.49 MiB\n",
      "........................................................................................\n",
      "llama_new_context_with_model: n_ctx      = 4096\n",
      "llama_new_context_with_model: n_batch    = 512\n",
      "llama_new_context_with_model: n_ubatch   = 512\n",
      "llama_new_context_with_model: flash_attn = 0\n",
      "llama_new_context_with_model: freq_base  = 500000.0\n",
      "llama_new_context_with_model: freq_scale = 1\n",
      "llama_kv_cache_init:      CUDA0 KV buffer size =   512.00 MiB\n",
      "llama_new_context_with_model: KV self size  =  512.00 MiB, K (f16):  256.00 MiB, V (f16):  256.00 MiB\n",
      "llama_new_context_with_model:  CUDA_Host  output buffer size =     0.49 MiB\n",
      "llama_new_context_with_model:      CUDA0 compute buffer size =   296.00 MiB\n",
      "llama_new_context_with_model:  CUDA_Host compute buffer size =    16.01 MiB\n",
      "llama_new_context_with_model: graph nodes  = 1030\n",
      "llama_new_context_with_model: graph splits = 2\n",
      "AVX = 1 | AVX_VNNI = 0 | AVX2 = 1 | AVX512 = 0 | AVX512_VBMI = 0 | AVX512_VNNI = 0 | AVX512_BF16 = 0 | FMA = 1 | NEON = 0 | SVE = 0 | ARM_FMA = 0 | F16C = 1 | FP16_VA = 0 | WASM_SIMD = 0 | BLAS = 1 | SSE3 = 1 | SSSE3 = 1 | VSX = 0 | MATMUL_INT8 = 0 | LLAMAFILE = 1 | \n",
      "Model metadata: {'tokenizer.chat_template': \"{% if 'role' in messages[0] %}{% for message in messages %}{% if message['role'] == 'user' %}{{ '<|start_header_id|>user<|end_header_id|>\\n\\n' + message['content'] | trim + '<|eot_id|>' }}{% elif message['role'] == 'assistant' %}{{ '<|start_header_id|>assistant<|end_header_id|>\\n\\n' + message['content'] | trim + '<|eot_id|>' }}{% else %}{{ '<|start_header_id|>' + message['role'] + '<|end_header_id|>\\n\\n' + message['content'] | trim + '<|eot_id|>' }}{% endif %}{% endfor %}{% if add_generation_prompt %}{{ '<|start_header_id|>assistant<|end_header_id|>\\n\\n' }}{% endif %}{% else %}{% for message in messages %}{% if message['from'] == 'human' %}{{ '<|start_header_id|>user<|end_header_id|>\\n\\n' + message['value'] | trim + '<|eot_id|>' }}{% elif message['from'] == 'gpt' %}{{ '<|start_header_id|>assistant<|end_header_id|>\\n\\n' + message['value'] | trim + '<|eot_id|>' }}{% else %}{{ '<|start_header_id|>' + message['from'] + '<|end_header_id|>\\n\\n' + message['value'] | trim + '<|eot_id|>' }}{% endif %}{% endfor %}{% if add_generation_prompt %}{{ '<|start_header_id|>assistant<|end_header_id|>\\n\\n' }}{% endif %}{% endif %}\", 'tokenizer.ggml.eos_token_id': '128009', 'general.quantization_version': '2', 'tokenizer.ggml.model': 'gpt2', 'llama.rope.dimension_count': '128', 'llama.vocab_size': '128256', 'general.file_type': '15', 'llama.attention.layer_norm_rms_epsilon': '0.000010', 'llama.rope.freq_base': '500000.000000', 'general.architecture': 'llama', 'tokenizer.ggml.padding_token_id': '128255', 'general.basename': 'llama-3', 'tokenizer.ggml.bos_token_id': '128000', 'llama.attention.head_count': '32', 'tokenizer.ggml.pre': 'llama-bpe', 'llama.context_length': '8192', 'general.name': 'Llama 3 8b Instruct', 'general.organization': 'Unsloth', 'general.finetune': 'instruct', 'general.type': 'model', 'general.size_label': '8B', 'llama.embedding_length': '4096', 'llama.feed_forward_length': '14336', 'llama.block_count': '32', 'llama.attention.head_count_kv': '8'}\n",
      "Available chat formats from metadata: chat_template.default\n",
      "Using gguf chat template: {% if 'role' in messages[0] %}{% for message in messages %}{% if message['role'] == 'user' %}{{ '<|start_header_id|>user<|end_header_id|>\n",
      "\n",
      "' + message['content'] | trim + '<|eot_id|>' }}{% elif message['role'] == 'assistant' %}{{ '<|start_header_id|>assistant<|end_header_id|>\n",
      "\n",
      "' + message['content'] | trim + '<|eot_id|>' }}{% else %}{{ '<|start_header_id|>' + message['role'] + '<|end_header_id|>\n",
      "\n",
      "' + message['content'] | trim + '<|eot_id|>' }}{% endif %}{% endfor %}{% if add_generation_prompt %}{{ '<|start_header_id|>assistant<|end_header_id|>\n",
      "\n",
      "' }}{% endif %}{% else %}{% for message in messages %}{% if message['from'] == 'human' %}{{ '<|start_header_id|>user<|end_header_id|>\n",
      "\n",
      "' + message['value'] | trim + '<|eot_id|>' }}{% elif message['from'] == 'gpt' %}{{ '<|start_header_id|>assistant<|end_header_id|>\n",
      "\n",
      "' + message['value'] | trim + '<|eot_id|>' }}{% else %}{{ '<|start_header_id|>' + message['from'] + '<|end_header_id|>\n",
      "\n",
      "' + message['value'] | trim + '<|eot_id|>' }}{% endif %}{% endfor %}{% if add_generation_prompt %}{{ '<|start_header_id|>assistant<|end_header_id|>\n",
      "\n",
      "' }}{% endif %}{% endif %}\n",
      "Using chat eos_token: <|eot_id|>\n",
      "Using chat bos_token: <|begin_of_text|>\n"
     ]
    }
   ],
   "source": [
    "from llama_index.llms.llama_cpp import LlamaCPP\n",
    "from llama_index.llms.llama_cpp.llama_utils import ( messages_to_prompt_v3_instruct, completion_to_prompt_v3_instruct)\n",
    "\n",
    "model_url = f\"https://huggingface.co/kzipa/kap34_8_8_10/resolve/main/kap34_8_8_10.Q4_K_M.gguf\"\n",
    "llm = LlamaCPP(\n",
    "                # You can pass in the URL to a GGML model to download it automatically\n",
    "                model_url=model_url,\n",
    "                # optionally, you can set the path to a pre-downloaded model instead of model_url\n",
    "                model_path=None,\n",
    "                temperature=0.05,\n",
    "                max_new_tokens=256,\n",
    "                context_window=4096,\n",
    "                # kwargs to pass to __call__()\n",
    "                generate_kwargs={},\n",
    "                # kwargs to pass to __init__()\n",
    "                # set to at least 1 to use GPU\n",
    "                model_kwargs={\"n_gpu_layers\": -1},\n",
    "                # transform inputs into Llama2 format\n",
    "                messages_to_prompt=messages_to_prompt_v3_instruct, # messages_to_prompt_qwen,\n",
    "                completion_to_prompt=completion_to_prompt_v3_instruct, # completion_to_prompt_qwen,\n",
    "                verbose=True\n",
    "            )"
   ]
  },
  {
   "cell_type": "code",
   "execution_count": 3,
   "metadata": {},
   "outputs": [
    {
     "data": {
      "text/plain": [
       "'2.4.1+cu124'"
      ]
     },
     "execution_count": 3,
     "metadata": {},
     "output_type": "execute_result"
    }
   ],
   "source": [
    "import torch\n",
    "torch.__version__"
   ]
  },
  {
   "cell_type": "code",
   "execution_count": null,
   "metadata": {},
   "outputs": [],
   "source": []
  },
  {
   "cell_type": "code",
   "execution_count": null,
   "metadata": {},
   "outputs": [
    {
     "name": "stderr",
     "output_type": "stream",
     "text": [
      "\n",
      "llama_print_timings:        load time =     100.23 ms\n",
      "llama_print_timings:      sample time =      11.14 ms /   256 runs   (    0.04 ms per token, 22980.25 tokens per second)\n",
      "llama_print_timings: prompt eval time =     100.09 ms /    70 tokens (    1.43 ms per token,   699.37 tokens per second)\n",
      "llama_print_timings:        eval time =    1924.83 ms /   255 runs   (    7.55 ms per token,   132.48 tokens per second)\n",
      "llama_print_timings:       total time =    2128.88 ms /   325 tokens\n"
     ]
    },
    {
     "name": "stdout",
     "output_type": "stream",
     "text": [
      "Here is a classic poem about cats and dogs:\n",
      "\n",
      "The Owl and the Pussycat went to sea,\n",
      "In a beautiful pea-green boat,\n",
      "They took some honey, and plenty of money,\n",
      "Wrapped up in a five-pound note.\n",
      "\n",
      "The Owl looked up to the stars above,\n",
      "And sang to a small guitar,\n",
      "\"O lovely Pussy! O Pussy, my love,\n",
      "What a beautiful Pussy you are,\n",
      "You are,\n",
      "You are!\n",
      "What a beautiful Pussy you are!\"\n",
      "\n",
      "Pussy said to the Owl, \"You elegant fowl,\n",
      "How charmingly sweet you sing!\n",
      "O let us be married! too long we have tarried,\n",
      "But what shall we do for a ring?\"\n",
      "\n",
      "They sailed away, for a year and a day,\n",
      "To the land where the Bong-Tree grows,\n",
      "And there in a wood a Piggy-wig stood,\n",
      "With a ring at the end of his nose,\n",
      "His nose,\n",
      "His nose,\n",
      "With a ring at the end of his nose.\n",
      "\n",
      "\"Dear Pig, are you willing to sell for one shilling\n",
      "Your ring?\" Said the Piggy, \"I will.\"\n",
      "So they took it away, and were married next day\n",
      "By the Turkey against the Oxford wall,\n",
      "Mouse, dear Mouse, that once didst steal\n",
      "A pint of\n",
      "CPU times: user 2.06 s, sys: 69.2 ms, total: 2.13 s\n",
      "Wall time: 2.13 s\n"
     ]
    },
    {
     "ename": "",
     "evalue": "",
     "output_type": "error",
     "traceback": [
      "\u001b[1;31mThe Kernel crashed while executing code in the current cell or a previous cell. \n",
      "\u001b[1;31mPlease review the code in the cell(s) to identify a possible cause of the failure. \n",
      "\u001b[1;31mClick <a href='https://aka.ms/vscodeJupyterKernelCrash'>here</a> for more info. \n",
      "\u001b[1;31mView Jupyter <a href='command:jupyter.viewOutput'>log</a> for further details."
     ]
    }
   ],
   "source": [
    "%%time\n",
    "response = llm.complete(\"Hello! Can you tell me a poem about cats and dogs?\")\n",
    "print(response.text)"
   ]
  },
  {
   "cell_type": "code",
   "execution_count": 14,
   "metadata": {},
   "outputs": [],
   "source": [
    "import torch\n",
    "torch.set_default_device('cuda:0')"
   ]
  },
  {
   "cell_type": "code",
   "execution_count": 1,
   "metadata": {},
   "outputs": [],
   "source": [
    "from df.enhance import enhance, init_df"
   ]
  },
  {
   "cell_type": "code",
   "execution_count": null,
   "metadata": {},
   "outputs": [
    {
     "name": "stderr",
     "output_type": "stream",
     "text": [
      "INFO:speechbrain.utils.fetching:Fetch hyperparams.yaml: Fetching from HuggingFace Hub 'speechbrain/metricgan-plus-voicebank' if not cached\n",
      "INFO:speechbrain.utils.fetching:Fetch custom.py: Fetching from HuggingFace Hub 'speechbrain/metricgan-plus-voicebank' if not cached\n",
      "INFO:speechbrain.utils.fetching:Fetch enhance_model.ckpt: Fetching from HuggingFace Hub 'speechbrain/metricgan-plus-voicebank' if not cached\n",
      "INFO:speechbrain.utils.parameter_transfer:Loading pretrained files for: enhance_model\n",
      "/home/kzipa/anaconda3/envs/test/lib/python3.11/site-packages/speechbrain/utils/checkpoints.py:200: FutureWarning: You are using `torch.load` with `weights_only=False` (the current default value), which uses the default pickle module implicitly. It is possible to construct malicious pickle data which will execute arbitrary code during unpickling (See https://github.com/pytorch/pytorch/blob/main/SECURITY.md#untrusted-models for more details). In a future release, the default value for `weights_only` will be flipped to `True`. This limits the functions that could be executed during unpickling. Arbitrary objects will no longer be allowed to be loaded via this mode unless they are explicitly allowlisted by the user via `torch.serialization.add_safe_globals`. We recommend you start setting `weights_only=True` for any use case where you don't have full control of the loaded file. Please open an issue on GitHub for any issues related to this experimental feature.\n",
      "  state_dict = torch.load(path, map_location=device)\n"
     ]
    }
   ],
   "source": [
    "import torch\n",
    "import torchaudio\n",
    "from speechbrain.inference.enhancement import SpectralMaskEnhancement\n",
    "\n",
    "enhance_model = SpectralMaskEnhancement.from_hparams(\n",
    "    source=\"speechbrain/metricgan-plus-voicebank\",\n",
    "    savedir=\"pretrained_models/metricgan-plus-voicebank\",\n",
    ")\n",
    "\n",
    "# Load and add fake batch dimension\n",
    "noisy = enhance_model.load_audio(\n",
    "    \"../test_0.wav\"\n",
    ").unsqueeze(0)\n",
    "\n",
    "# Add relative length tensor\n",
    "enhanced = enhance_model.enhance_batch(noisy, lengths=torch.tensor([1.]))\n",
    "\n",
    "# Saving enhanced signal on disk\n",
    "torchaudio.save('speechbrain_metricgan.wav', enhanced.cpu(), 16000)"
   ]
  },
  {
   "cell_type": "code",
   "execution_count": 1,
   "metadata": {},
   "outputs": [
    {
     "name": "stderr",
     "output_type": "stream",
     "text": [
      "/home/kzipa/anaconda3/envs/test/lib/python3.11/site-packages/tqdm/auto.py:21: TqdmWarning: IProgress not found. Please update jupyter and ipywidgets. See https://ipywidgets.readthedocs.io/en/stable/user_install.html\n",
      "  from .autonotebook import tqdm as notebook_tqdm\n",
      "INFO:speechbrain.utils.quirks:Applied quirks (see `speechbrain.utils.quirks`): [allow_tf32, disable_jit_profiling]\n",
      "INFO:speechbrain.utils.quirks:Excluded quirks specified by the `SB_DISABLE_QUIRKS` environment (comma-separated list): []\n",
      "INFO:speechbrain.utils.fetching:Fetch hyperparams.yaml: Fetching from HuggingFace Hub 'speechbrain/mtl-mimic-voicebank' if not cached\n",
      "INFO:speechbrain.utils.fetching:Fetch custom.py: Fetching from HuggingFace Hub 'speechbrain/mtl-mimic-voicebank' if not cached\n",
      "INFO:speechbrain.utils.fetching:Fetch enhance_model.ckpt: Fetching from HuggingFace Hub 'speechbrain/mtl-mimic-voicebank' if not cached\n",
      "INFO:speechbrain.utils.parameter_transfer:Loading pretrained files for: enhance_model\n",
      "/home/kzipa/anaconda3/envs/test/lib/python3.11/site-packages/speechbrain/utils/checkpoints.py:200: FutureWarning: You are using `torch.load` with `weights_only=False` (the current default value), which uses the default pickle module implicitly. It is possible to construct malicious pickle data which will execute arbitrary code during unpickling (See https://github.com/pytorch/pytorch/blob/main/SECURITY.md#untrusted-models for more details). In a future release, the default value for `weights_only` will be flipped to `True`. This limits the functions that could be executed during unpickling. Arbitrary objects will no longer be allowed to be loaded via this mode unless they are explicitly allowlisted by the user via `torch.serialization.add_safe_globals`. We recommend you start setting `weights_only=True` for any use case where you don't have full control of the loaded file. Please open an issue on GitHub for any issues related to this experimental feature.\n",
      "  state_dict = torch.load(path, map_location=device)\n"
     ]
    }
   ],
   "source": [
    "import torchaudio\n",
    "from speechbrain.inference.enhancement import WaveformEnhancement\n",
    "\n",
    "enhance_model = WaveformEnhancement.from_hparams(\n",
    "    source=\"speechbrain/mtl-mimic-voicebank\",\n",
    "    savedir=\"pretrained_models/mtl-mimic-voicebank\",\n",
    ")\n",
    "enhanced = enhance_model.enhance_file(\"../test_0.wav\")\n",
    "\n",
    "# Saving enhanced signal on disk\n",
    "torchaudio.save('speechbrain_mimic.wav', enhanced.unsqueeze(0).cpu(), 16000)"
   ]
  },
  {
   "cell_type": "code",
   "execution_count": 1,
   "metadata": {},
   "outputs": [
    {
     "name": "stdout",
     "output_type": "stream",
     "text": [
      "\u001b[33mWARNING: Ignoring invalid distribution ~ympy (/home/kzipa/anaconda3/envs/test/lib/python3.11/site-packages)\u001b[0m\u001b[33m\n",
      "\u001b[0mCollecting MPSENet\n",
      "  Using cached mpsenet-1.0.3-py3-none-any.whl.metadata (1.7 kB)\n",
      "Requirement already satisfied: einops in /home/kzipa/anaconda3/envs/test/lib/python3.11/site-packages (from MPSENet) (0.8.0)\n",
      "Requirement already satisfied: huggingface-hub in /home/kzipa/anaconda3/envs/test/lib/python3.11/site-packages (from MPSENet) (0.23.5)\n",
      "Requirement already satisfied: joblib in /home/kzipa/anaconda3/envs/test/lib/python3.11/site-packages (from MPSENet) (1.4.2)\n",
      "Requirement already satisfied: librosa in /home/kzipa/anaconda3/envs/test/lib/python3.11/site-packages (from MPSENet) (0.10.2.post1)\n",
      "Requirement already satisfied: numpy in /home/kzipa/anaconda3/envs/test/lib/python3.11/site-packages (from MPSENet) (1.24.4)\n",
      "Requirement already satisfied: soundfile in /home/kzipa/anaconda3/envs/test/lib/python3.11/site-packages (from MPSENet) (0.12.1)\n",
      "Requirement already satisfied: torch in /home/kzipa/anaconda3/envs/test/lib/python3.11/site-packages (from MPSENet) (2.5.1+cu124)\n",
      "Requirement already satisfied: filelock in /home/kzipa/anaconda3/envs/test/lib/python3.11/site-packages (from huggingface-hub->MPSENet) (3.13.1)\n",
      "Requirement already satisfied: fsspec>=2023.5.0 in /home/kzipa/anaconda3/envs/test/lib/python3.11/site-packages (from huggingface-hub->MPSENet) (2024.2.0)\n",
      "Requirement already satisfied: packaging>=20.9 in /home/kzipa/anaconda3/envs/test/lib/python3.11/site-packages (from huggingface-hub->MPSENet) (24.2)\n",
      "Requirement already satisfied: pyyaml>=5.1 in /home/kzipa/anaconda3/envs/test/lib/python3.11/site-packages (from huggingface-hub->MPSENet) (6.0.2)\n",
      "Requirement already satisfied: requests in /home/kzipa/anaconda3/envs/test/lib/python3.11/site-packages (from huggingface-hub->MPSENet) (2.31.0)\n",
      "Requirement already satisfied: tqdm>=4.42.1 in /home/kzipa/anaconda3/envs/test/lib/python3.11/site-packages (from huggingface-hub->MPSENet) (4.67.1)\n",
      "Requirement already satisfied: typing-extensions>=3.7.4.3 in /home/kzipa/anaconda3/envs/test/lib/python3.11/site-packages (from huggingface-hub->MPSENet) (4.12.2)\n",
      "Requirement already satisfied: audioread>=2.1.9 in /home/kzipa/anaconda3/envs/test/lib/python3.11/site-packages (from librosa->MPSENet) (3.0.1)\n",
      "Requirement already satisfied: scipy>=1.2.0 in /home/kzipa/anaconda3/envs/test/lib/python3.11/site-packages (from librosa->MPSENet) (1.9.3)\n",
      "Requirement already satisfied: scikit-learn>=0.20.0 in /home/kzipa/anaconda3/envs/test/lib/python3.11/site-packages (from librosa->MPSENet) (1.5.2)\n",
      "Requirement already satisfied: decorator>=4.3.0 in /home/kzipa/anaconda3/envs/test/lib/python3.11/site-packages (from librosa->MPSENet) (5.1.1)\n",
      "Requirement already satisfied: numba>=0.51.0 in /home/kzipa/anaconda3/envs/test/lib/python3.11/site-packages (from librosa->MPSENet) (0.60.0)\n",
      "Requirement already satisfied: pooch>=1.1 in /home/kzipa/anaconda3/envs/test/lib/python3.11/site-packages (from librosa->MPSENet) (1.8.2)\n",
      "Requirement already satisfied: soxr>=0.3.2 in /home/kzipa/anaconda3/envs/test/lib/python3.11/site-packages (from librosa->MPSENet) (0.5.0.post1)\n",
      "Requirement already satisfied: lazy-loader>=0.1 in /home/kzipa/anaconda3/envs/test/lib/python3.11/site-packages (from librosa->MPSENet) (0.4)\n",
      "Requirement already satisfied: msgpack>=1.0 in /home/kzipa/anaconda3/envs/test/lib/python3.11/site-packages (from librosa->MPSENet) (1.1.0)\n",
      "Requirement already satisfied: cffi>=1.0 in /home/kzipa/anaconda3/envs/test/lib/python3.11/site-packages (from soundfile->MPSENet) (1.17.1)\n",
      "Requirement already satisfied: networkx in /home/kzipa/anaconda3/envs/test/lib/python3.11/site-packages (from torch->MPSENet) (3.2.1)\n",
      "Requirement already satisfied: jinja2 in /home/kzipa/anaconda3/envs/test/lib/python3.11/site-packages (from torch->MPSENet) (3.1.3)\n",
      "Requirement already satisfied: nvidia-cuda-nvrtc-cu12==12.4.127 in /home/kzipa/anaconda3/envs/test/lib/python3.11/site-packages (from torch->MPSENet) (12.4.127)\n",
      "Requirement already satisfied: nvidia-cuda-runtime-cu12==12.4.127 in /home/kzipa/anaconda3/envs/test/lib/python3.11/site-packages (from torch->MPSENet) (12.4.127)\n",
      "Requirement already satisfied: nvidia-cuda-cupti-cu12==12.4.127 in /home/kzipa/anaconda3/envs/test/lib/python3.11/site-packages (from torch->MPSENet) (12.4.127)\n",
      "Requirement already satisfied: nvidia-cudnn-cu12==9.1.0.70 in /home/kzipa/anaconda3/envs/test/lib/python3.11/site-packages (from torch->MPSENet) (9.1.0.70)\n",
      "Requirement already satisfied: nvidia-cublas-cu12==12.4.5.8 in /home/kzipa/anaconda3/envs/test/lib/python3.11/site-packages (from torch->MPSENet) (12.4.5.8)\n",
      "Requirement already satisfied: nvidia-cufft-cu12==11.2.1.3 in /home/kzipa/anaconda3/envs/test/lib/python3.11/site-packages (from torch->MPSENet) (11.2.1.3)\n",
      "Requirement already satisfied: nvidia-curand-cu12==10.3.5.147 in /home/kzipa/anaconda3/envs/test/lib/python3.11/site-packages (from torch->MPSENet) (10.3.5.147)\n",
      "Requirement already satisfied: nvidia-cusolver-cu12==11.6.1.9 in /home/kzipa/anaconda3/envs/test/lib/python3.11/site-packages (from torch->MPSENet) (11.6.1.9)\n",
      "Requirement already satisfied: nvidia-cusparse-cu12==12.3.1.170 in /home/kzipa/anaconda3/envs/test/lib/python3.11/site-packages (from torch->MPSENet) (12.3.1.170)\n",
      "Requirement already satisfied: nvidia-nccl-cu12==2.21.5 in /home/kzipa/anaconda3/envs/test/lib/python3.11/site-packages (from torch->MPSENet) (2.21.5)\n",
      "Requirement already satisfied: nvidia-nvtx-cu12==12.4.127 in /home/kzipa/anaconda3/envs/test/lib/python3.11/site-packages (from torch->MPSENet) (12.4.127)\n",
      "Requirement already satisfied: nvidia-nvjitlink-cu12==12.4.127 in /home/kzipa/anaconda3/envs/test/lib/python3.11/site-packages (from torch->MPSENet) (12.4.127)\n",
      "Requirement already satisfied: triton==3.1.0 in /home/kzipa/anaconda3/envs/test/lib/python3.11/site-packages (from torch->MPSENet) (3.1.0)\n",
      "Requirement already satisfied: sympy==1.13.1 in /home/kzipa/anaconda3/envs/test/lib/python3.11/site-packages (from torch->MPSENet) (1.13.1)\n",
      "Requirement already satisfied: mpmath<1.4,>=1.1.0 in /home/kzipa/anaconda3/envs/test/lib/python3.11/site-packages (from sympy==1.13.1->torch->MPSENet) (1.3.0)\n",
      "Requirement already satisfied: pycparser in /home/kzipa/anaconda3/envs/test/lib/python3.11/site-packages (from cffi>=1.0->soundfile->MPSENet) (2.22)\n",
      "Requirement already satisfied: llvmlite<0.44,>=0.43.0dev0 in /home/kzipa/anaconda3/envs/test/lib/python3.11/site-packages (from numba>=0.51.0->librosa->MPSENet) (0.43.0)\n",
      "Requirement already satisfied: platformdirs>=2.5.0 in /home/kzipa/anaconda3/envs/test/lib/python3.11/site-packages (from pooch>=1.1->librosa->MPSENet) (4.3.6)\n",
      "Requirement already satisfied: charset-normalizer<4,>=2 in /home/kzipa/anaconda3/envs/test/lib/python3.11/site-packages (from requests->huggingface-hub->MPSENet) (3.3.1)\n",
      "Requirement already satisfied: idna<4,>=2.5 in /home/kzipa/anaconda3/envs/test/lib/python3.11/site-packages (from requests->huggingface-hub->MPSENet) (3.7)\n",
      "Requirement already satisfied: urllib3<3,>=1.21.1 in /home/kzipa/anaconda3/envs/test/lib/python3.11/site-packages (from requests->huggingface-hub->MPSENet) (2.0.7)\n",
      "Requirement already satisfied: certifi>=2017.4.17 in /home/kzipa/anaconda3/envs/test/lib/python3.11/site-packages (from requests->huggingface-hub->MPSENet) (2023.7.22)\n",
      "Requirement already satisfied: threadpoolctl>=3.1.0 in /home/kzipa/anaconda3/envs/test/lib/python3.11/site-packages (from scikit-learn>=0.20.0->librosa->MPSENet) (3.5.0)\n",
      "Requirement already satisfied: MarkupSafe>=2.0 in /home/kzipa/anaconda3/envs/test/lib/python3.11/site-packages (from jinja2->torch->MPSENet) (2.1.5)\n",
      "Using cached mpsenet-1.0.3-py3-none-any.whl (6.6 kB)\n",
      "\u001b[33mWARNING: Ignoring invalid distribution ~ympy (/home/kzipa/anaconda3/envs/test/lib/python3.11/site-packages)\u001b[0m\u001b[33m\n",
      "\u001b[0mInstalling collected packages: MPSENet\n",
      "\u001b[33mWARNING: Ignoring invalid distribution ~ympy (/home/kzipa/anaconda3/envs/test/lib/python3.11/site-packages)\u001b[0m\u001b[33m\n",
      "\u001b[0mSuccessfully installed MPSENet-1.0.3\n"
     ]
    }
   ],
   "source": [
    "!pip install MPSENet"
   ]
  },
  {
   "cell_type": "code",
   "execution_count": 1,
   "metadata": {},
   "outputs": [
    {
     "name": "stderr",
     "output_type": "stream",
     "text": [
      "/home/kzipa/anaconda3/envs/test/lib/python3.11/site-packages/tqdm/auto.py:21: TqdmWarning: IProgress not found. Please update jupyter and ipywidgets. See https://ipywidgets.readthedocs.io/en/stable/user_install.html\n",
      "  from .autonotebook import tqdm as notebook_tqdm\n"
     ]
    },
    {
     "name": "stdout",
     "output_type": "stream",
     "text": [
      "10485760 9091584\n"
     ]
    }
   ],
   "source": [
    "import librosa\n",
    "import soundfile as sf\n",
    "from MPSENet import MPSENet\n",
    "import torch\n",
    "\n",
    "model_id = \"JacobLinCool/MP-SENet-VB\" # \"JacobLinCool/MP-SENet-DNS\"\n",
    "model = MPSENet.from_pretrained(model_id).to('cuda:0')\n",
    "print(torch.cuda.memory_reserved(), torch.cuda.memory_allocated())\n",
    "x, sr = librosa.load(\"../test_0.wav\", sr=model.sampling_rate)\n",
    "y, sr, notation = model(x)\n",
    "sf.write(\"MPSENet_VB.wav\", y, sr)"
   ]
  },
  {
   "cell_type": "code",
   "execution_count": 1,
   "metadata": {},
   "outputs": [
    {
     "name": "stderr",
     "output_type": "stream",
     "text": [
      "/home/kzipa/anaconda3/envs/test/lib/python3.11/site-packages/tqdm/auto.py:21: TqdmWarning: IProgress not found. Please update jupyter and ipywidgets. See https://ipywidgets.readthedocs.io/en/stable/user_install.html\n",
      "  from .autonotebook import tqdm as notebook_tqdm\n"
     ]
    },
    {
     "name": "stdout",
     "output_type": "stream",
     "text": [
      "10485760 9091584\n"
     ]
    }
   ],
   "source": [
    "import librosa\n",
    "import soundfile as sf\n",
    "from MPSENet import MPSENet\n",
    "import torch\n",
    "\n",
    "model_id = \"JacobLinCool/MP-SENet-DNS\"\n",
    "model = MPSENet.from_pretrained(model_id).to('cuda:0')\n",
    "print(torch.cuda.memory_reserved(), torch.cuda.memory_allocated())\n",
    "x, sr = librosa.load(\"../test_0.wav\", sr=model.sampling_rate)\n",
    "y, sr, notation = model(x)\n",
    "sf.write(\"MPSENet_DNS.wav\", y, sr)"
   ]
  },
  {
   "cell_type": "code",
   "execution_count": 10,
   "metadata": {},
   "outputs": [
    {
     "name": "stdout",
     "output_type": "stream",
     "text": [
      "0.5240231 -0.30705267\n"
     ]
    }
   ],
   "source": [
    "print(z.max(), z.min())"
   ]
  },
  {
   "cell_type": "code",
   "execution_count": null,
   "metadata": {},
   "outputs": [
    {
     "name": "stderr",
     "output_type": "stream",
     "text": [
      "/home/kzipa/anaconda3/envs/test/lib/python3.11/site-packages/tqdm/auto.py:21: TqdmWarning: IProgress not found. Please update jupyter and ipywidgets. See https://ipywidgets.readthedocs.io/en/stable/user_install.html\n",
      "  from .autonotebook import tqdm as notebook_tqdm\n"
     ]
    }
   ],
   "source": [
    "import librosa\n",
    "import soundfile as sf\n",
    "from MPSENet import MPSENet\n",
    "import torch\n",
    "\n",
    "m1 = MPSENet.from_pretrained(\"JacobLinCool/MP-SENet-DNS\").to('cuda:0')\n",
    "m2 = MPSENet.from_pretrained(\"JacobLinCool/MP-SENet-VB\").to('cuda:0')\n",
    "x, sr = librosa.load(\"../test_0.wav\", sr=m1.sampling_rate)\n",
    "y, sr, notation = m1(x)\n",
    "z, sr, notation = m2(y)\n",
    "sf.write(\"MPSENet_DNS+VB.wav\", z, sr) # number of repeats doesn't affect the result"
   ]
  },
  {
   "cell_type": "code",
   "execution_count": 13,
   "metadata": {},
   "outputs": [
    {
     "name": "stdout",
     "output_type": "stream",
     "text": [
      " а вы, как вы помните это мгновение?\n"
     ]
    }
   ],
   "source": [
    "import re\n",
    "\n",
    "test_str = '(улыбается) а вы, как вы помните это мгновение?'\n",
    "processed_str = re.sub(r\"\\([ а-яА-Яa-zA-Z0–9]+\\)\", \"\", test_str)\n",
    "print(processed_str)"
   ]
  },
  {
   "cell_type": "code",
   "execution_count": null,
   "metadata": {},
   "outputs": [],
   "source": []
  }
 ],
 "metadata": {
  "kernelspec": {
   "display_name": "kap_env2",
   "language": "python",
   "name": "python3"
  },
  "language_info": {
   "codemirror_mode": {
    "name": "ipython",
    "version": 3
   },
   "file_extension": ".py",
   "mimetype": "text/x-python",
   "name": "python",
   "nbconvert_exporter": "python",
   "pygments_lexer": "ipython3",
   "version": "3.11.10"
  }
 },
 "nbformat": 4,
 "nbformat_minor": 2
}
