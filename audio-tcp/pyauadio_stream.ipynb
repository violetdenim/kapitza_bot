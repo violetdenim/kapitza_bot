{
 "cells": [
  {
   "cell_type": "code",
   "execution_count": 9,
   "metadata": {},
   "outputs": [],
   "source": [
    "\"\"\"PyAudio Example: Play a wave file.\"\"\"\n",
    "import wave, pyaudio\n",
    "import os\n",
    "os.environ['SDL_AUDIODRIVER'] = 'dsp'\n",
    "def play_wav(wav_name, CHUNK=1024):\n",
    "\twith wave.open(wav_name, 'rb') as wf:\n",
    "\t\tp = pyaudio.PyAudio()\n",
    "\t\tstream = p.open(format=p.get_format_from_width(wf.getsampwidth()),\n",
    "\t\t\t\t\t\tchannels=wf.getnchannels(),\n",
    "\t\t\t\t\t\trate=wf.getframerate(),\n",
    "\t\t\t\t\t\toutput=True)\n",
    "\t\twhile len(data := wf.readframes(CHUNK)):\n",
    "\t\t\tstream.write(data)\n",
    "\t\tstream.close()\n",
    "\t\tp.terminate()"
   ]
  },
  {
   "cell_type": "code",
   "execution_count": 10,
   "metadata": {},
   "outputs": [],
   "source": [
    "play_wav(\"short.wav\")"
   ]
  }
 ],
 "metadata": {
  "kernelspec": {
   "display_name": "kapitza",
   "language": "python",
   "name": "python3"
  },
  "language_info": {
   "codemirror_mode": {
    "name": "ipython",
    "version": 3
   },
   "file_extension": ".py",
   "mimetype": "text/x-python",
   "name": "python",
   "nbconvert_exporter": "python",
   "pygments_lexer": "ipython3",
   "version": "3.11.9"
  }
 },
 "nbformat": 4,
 "nbformat_minor": 2
}
